{
  "nbformat": 4,
  "nbformat_minor": 0,
  "metadata": {
    "colab": {
      "provenance": [],
      "gpuType": "V28"
    },
    "kernelspec": {
      "name": "python3",
      "display_name": "Python 3"
    },
    "language_info": {
      "name": "python"
    },
    "accelerator": "TPU"
  },
  "cells": [
    {
      "cell_type": "code",
      "source": [
        "!pip install supervision"
      ],
      "metadata": {
        "colab": {
          "base_uri": "https://localhost:8080/"
        },
        "id": "ydPPcsPTBF11",
        "outputId": "8467ef9e-c61f-40a9-b124-92cdc4ebf315"
      },
      "execution_count": 27,
      "outputs": [
        {
          "output_type": "stream",
          "name": "stdout",
          "text": [
            "Requirement already satisfied: supervision in /usr/local/lib/python3.11/dist-packages (0.25.1)\n",
            "Requirement already satisfied: contourpy>=1.0.7 in /usr/local/lib/python3.11/dist-packages (from supervision) (1.3.2)\n",
            "Requirement already satisfied: defusedxml<0.8.0,>=0.7.1 in /usr/local/lib/python3.11/dist-packages (from supervision) (0.7.1)\n",
            "Requirement already satisfied: matplotlib>=3.6.0 in /usr/local/lib/python3.11/dist-packages (from supervision) (3.10.0)\n",
            "Requirement already satisfied: numpy>=1.21.2 in /usr/local/lib/python3.11/dist-packages (from supervision) (2.0.2)\n",
            "Requirement already satisfied: opencv-python>=4.5.5.64 in /usr/local/lib/python3.11/dist-packages (from supervision) (4.11.0.86)\n",
            "Requirement already satisfied: pillow>=9.4 in /usr/local/lib/python3.11/dist-packages (from supervision) (11.2.1)\n",
            "Requirement already satisfied: pyyaml>=5.3 in /usr/local/lib/python3.11/dist-packages (from supervision) (6.0.2)\n",
            "Requirement already satisfied: requests>=2.26.0 in /usr/local/lib/python3.11/dist-packages (from supervision) (2.32.3)\n",
            "Requirement already satisfied: scipy<2.0.0,>=1.10.0 in /usr/local/lib/python3.11/dist-packages (from supervision) (1.15.3)\n",
            "Requirement already satisfied: tqdm>=4.62.3 in /usr/local/lib/python3.11/dist-packages (from supervision) (4.67.1)\n",
            "Requirement already satisfied: cycler>=0.10 in /usr/local/lib/python3.11/dist-packages (from matplotlib>=3.6.0->supervision) (0.12.1)\n",
            "Requirement already satisfied: fonttools>=4.22.0 in /usr/local/lib/python3.11/dist-packages (from matplotlib>=3.6.0->supervision) (4.57.0)\n",
            "Requirement already satisfied: kiwisolver>=1.3.1 in /usr/local/lib/python3.11/dist-packages (from matplotlib>=3.6.0->supervision) (1.4.8)\n",
            "Requirement already satisfied: packaging>=20.0 in /usr/local/lib/python3.11/dist-packages (from matplotlib>=3.6.0->supervision) (25.0)\n",
            "Requirement already satisfied: pyparsing>=2.3.1 in /usr/local/lib/python3.11/dist-packages (from matplotlib>=3.6.0->supervision) (3.2.3)\n",
            "Requirement already satisfied: python-dateutil>=2.7 in /usr/local/lib/python3.11/dist-packages (from matplotlib>=3.6.0->supervision) (2.9.0.post0)\n",
            "Requirement already satisfied: charset-normalizer<4,>=2 in /usr/local/lib/python3.11/dist-packages (from requests>=2.26.0->supervision) (3.4.2)\n",
            "Requirement already satisfied: idna<4,>=2.5 in /usr/local/lib/python3.11/dist-packages (from requests>=2.26.0->supervision) (3.10)\n",
            "Requirement already satisfied: urllib3<3,>=1.21.1 in /usr/local/lib/python3.11/dist-packages (from requests>=2.26.0->supervision) (2.4.0)\n",
            "Requirement already satisfied: certifi>=2017.4.17 in /usr/local/lib/python3.11/dist-packages (from requests>=2.26.0->supervision) (2025.4.26)\n",
            "Requirement already satisfied: six>=1.5 in /usr/local/lib/python3.11/dist-packages (from python-dateutil>=2.7->matplotlib>=3.6.0->supervision) (1.17.0)\n"
          ]
        }
      ]
    },
    {
      "cell_type": "code",
      "source": [
        "!pip install ultralytics"
      ],
      "metadata": {
        "colab": {
          "base_uri": "https://localhost:8080/"
        },
        "id": "WUzdNsjVAWt7",
        "outputId": "66d56716-c214-4a65-e4f0-c7b640eedb2b"
      },
      "execution_count": 28,
      "outputs": [
        {
          "output_type": "stream",
          "name": "stdout",
          "text": [
            "Requirement already satisfied: ultralytics in /usr/local/lib/python3.11/dist-packages (8.3.133)\n",
            "Requirement already satisfied: numpy>=1.23.0 in /usr/local/lib/python3.11/dist-packages (from ultralytics) (2.0.2)\n",
            "Requirement already satisfied: matplotlib>=3.3.0 in /usr/local/lib/python3.11/dist-packages (from ultralytics) (3.10.0)\n",
            "Requirement already satisfied: opencv-python>=4.6.0 in /usr/local/lib/python3.11/dist-packages (from ultralytics) (4.11.0.86)\n",
            "Requirement already satisfied: pillow>=7.1.2 in /usr/local/lib/python3.11/dist-packages (from ultralytics) (11.2.1)\n",
            "Requirement already satisfied: pyyaml>=5.3.1 in /usr/local/lib/python3.11/dist-packages (from ultralytics) (6.0.2)\n",
            "Requirement already satisfied: requests>=2.23.0 in /usr/local/lib/python3.11/dist-packages (from ultralytics) (2.32.3)\n",
            "Requirement already satisfied: scipy>=1.4.1 in /usr/local/lib/python3.11/dist-packages (from ultralytics) (1.15.3)\n",
            "Requirement already satisfied: torch>=1.8.0 in /usr/local/lib/python3.11/dist-packages (from ultralytics) (2.6.0+cpu)\n",
            "Requirement already satisfied: torchvision>=0.9.0 in /usr/local/lib/python3.11/dist-packages (from ultralytics) (0.21.0+cpu)\n",
            "Requirement already satisfied: tqdm>=4.64.0 in /usr/local/lib/python3.11/dist-packages (from ultralytics) (4.67.1)\n",
            "Requirement already satisfied: psutil in /usr/local/lib/python3.11/dist-packages (from ultralytics) (5.9.5)\n",
            "Requirement already satisfied: py-cpuinfo in /usr/local/lib/python3.11/dist-packages (from ultralytics) (9.0.0)\n",
            "Requirement already satisfied: pandas>=1.1.4 in /usr/local/lib/python3.11/dist-packages (from ultralytics) (2.2.2)\n",
            "Requirement already satisfied: seaborn>=0.11.0 in /usr/local/lib/python3.11/dist-packages (from ultralytics) (0.13.2)\n",
            "Requirement already satisfied: ultralytics-thop>=2.0.0 in /usr/local/lib/python3.11/dist-packages (from ultralytics) (2.0.14)\n",
            "Requirement already satisfied: contourpy>=1.0.1 in /usr/local/lib/python3.11/dist-packages (from matplotlib>=3.3.0->ultralytics) (1.3.2)\n",
            "Requirement already satisfied: cycler>=0.10 in /usr/local/lib/python3.11/dist-packages (from matplotlib>=3.3.0->ultralytics) (0.12.1)\n",
            "Requirement already satisfied: fonttools>=4.22.0 in /usr/local/lib/python3.11/dist-packages (from matplotlib>=3.3.0->ultralytics) (4.57.0)\n",
            "Requirement already satisfied: kiwisolver>=1.3.1 in /usr/local/lib/python3.11/dist-packages (from matplotlib>=3.3.0->ultralytics) (1.4.8)\n",
            "Requirement already satisfied: packaging>=20.0 in /usr/local/lib/python3.11/dist-packages (from matplotlib>=3.3.0->ultralytics) (25.0)\n",
            "Requirement already satisfied: pyparsing>=2.3.1 in /usr/local/lib/python3.11/dist-packages (from matplotlib>=3.3.0->ultralytics) (3.2.3)\n",
            "Requirement already satisfied: python-dateutil>=2.7 in /usr/local/lib/python3.11/dist-packages (from matplotlib>=3.3.0->ultralytics) (2.9.0.post0)\n",
            "Requirement already satisfied: pytz>=2020.1 in /usr/local/lib/python3.11/dist-packages (from pandas>=1.1.4->ultralytics) (2025.2)\n",
            "Requirement already satisfied: tzdata>=2022.7 in /usr/local/lib/python3.11/dist-packages (from pandas>=1.1.4->ultralytics) (2025.2)\n",
            "Requirement already satisfied: charset-normalizer<4,>=2 in /usr/local/lib/python3.11/dist-packages (from requests>=2.23.0->ultralytics) (3.4.2)\n",
            "Requirement already satisfied: idna<4,>=2.5 in /usr/local/lib/python3.11/dist-packages (from requests>=2.23.0->ultralytics) (3.10)\n",
            "Requirement already satisfied: urllib3<3,>=1.21.1 in /usr/local/lib/python3.11/dist-packages (from requests>=2.23.0->ultralytics) (2.4.0)\n",
            "Requirement already satisfied: certifi>=2017.4.17 in /usr/local/lib/python3.11/dist-packages (from requests>=2.23.0->ultralytics) (2025.4.26)\n",
            "Requirement already satisfied: filelock in /usr/local/lib/python3.11/dist-packages (from torch>=1.8.0->ultralytics) (3.18.0)\n",
            "Requirement already satisfied: typing-extensions>=4.10.0 in /usr/local/lib/python3.11/dist-packages (from torch>=1.8.0->ultralytics) (4.13.2)\n",
            "Requirement already satisfied: networkx in /usr/local/lib/python3.11/dist-packages (from torch>=1.8.0->ultralytics) (3.4.2)\n",
            "Requirement already satisfied: jinja2 in /usr/local/lib/python3.11/dist-packages (from torch>=1.8.0->ultralytics) (3.1.6)\n",
            "Requirement already satisfied: fsspec in /usr/local/lib/python3.11/dist-packages (from torch>=1.8.0->ultralytics) (2025.3.2)\n",
            "Requirement already satisfied: sympy==1.13.1 in /usr/local/lib/python3.11/dist-packages (from torch>=1.8.0->ultralytics) (1.13.1)\n",
            "Requirement already satisfied: mpmath<1.4,>=1.1.0 in /usr/local/lib/python3.11/dist-packages (from sympy==1.13.1->torch>=1.8.0->ultralytics) (1.3.0)\n",
            "Requirement already satisfied: six>=1.5 in /usr/local/lib/python3.11/dist-packages (from python-dateutil>=2.7->matplotlib>=3.3.0->ultralytics) (1.17.0)\n",
            "Requirement already satisfied: MarkupSafe>=2.0 in /usr/local/lib/python3.11/dist-packages (from jinja2->torch>=1.8.0->ultralytics) (3.0.2)\n"
          ]
        }
      ]
    },
    {
      "cell_type": "code",
      "execution_count": 29,
      "metadata": {
        "id": "OysqcbkA9KfJ"
      },
      "outputs": [],
      "source": [
        "from ultralytics import YOLO"
      ]
    },
    {
      "cell_type": "code",
      "source": [
        "model = YOLO('./models/yolov8n.pt')"
      ],
      "metadata": {
        "id": "1W7ldfT_9b_m"
      },
      "execution_count": 30,
      "outputs": []
    },
    {
      "cell_type": "code",
      "source": [
        "print(model.names)"
      ],
      "metadata": {
        "colab": {
          "base_uri": "https://localhost:8080/"
        },
        "id": "KoIO10eT-llW",
        "outputId": "14159019-b6a7-4f2b-dc49-77a30e0932e3"
      },
      "execution_count": 31,
      "outputs": [
        {
          "output_type": "stream",
          "name": "stdout",
          "text": [
            "{0: 'person', 1: 'bicycle', 2: 'car', 3: 'motorcycle', 4: 'airplane', 5: 'bus', 6: 'train', 7: 'truck', 8: 'boat', 9: 'traffic light', 10: 'fire hydrant', 11: 'stop sign', 12: 'parking meter', 13: 'bench', 14: 'bird', 15: 'cat', 16: 'dog', 17: 'horse', 18: 'sheep', 19: 'cow', 20: 'elephant', 21: 'bear', 22: 'zebra', 23: 'giraffe', 24: 'backpack', 25: 'umbrella', 26: 'handbag', 27: 'tie', 28: 'suitcase', 29: 'frisbee', 30: 'skis', 31: 'snowboard', 32: 'sports ball', 33: 'kite', 34: 'baseball bat', 35: 'baseball glove', 36: 'skateboard', 37: 'surfboard', 38: 'tennis racket', 39: 'bottle', 40: 'wine glass', 41: 'cup', 42: 'fork', 43: 'knife', 44: 'spoon', 45: 'bowl', 46: 'banana', 47: 'apple', 48: 'sandwich', 49: 'orange', 50: 'broccoli', 51: 'carrot', 52: 'hot dog', 53: 'pizza', 54: 'donut', 55: 'cake', 56: 'chair', 57: 'couch', 58: 'potted plant', 59: 'bed', 60: 'dining table', 61: 'toilet', 62: 'tv', 63: 'laptop', 64: 'mouse', 65: 'remote', 66: 'keyboard', 67: 'cell phone', 68: 'microwave', 69: 'oven', 70: 'toaster', 71: 'sink', 72: 'refrigerator', 73: 'book', 74: 'clock', 75: 'vase', 76: 'scissors', 77: 'teddy bear', 78: 'hair drier', 79: 'toothbrush'}\n"
          ]
        }
      ]
    },
    {
      "cell_type": "code",
      "source": [
        "import numpy as np\n",
        "import supervision as sv\n",
        "from ultralytics import YOLO\n",
        "import cv2\n",
        "from tqdm import tqdm"
      ],
      "metadata": {
        "id": "qRW_oHPk-pNY"
      },
      "execution_count": 32,
      "outputs": []
    },
    {
      "cell_type": "code",
      "source": [
        "model = YOLO('./models/yolov8n.pt')"
      ],
      "metadata": {
        "id": "DgHvzIL5BDxm"
      },
      "execution_count": 33,
      "outputs": []
    },
    {
      "cell_type": "code",
      "source": [
        "selected_classes = [2,3]"
      ],
      "metadata": {
        "id": "AqUHP_CnBM3Y"
      },
      "execution_count": 34,
      "outputs": []
    },
    {
      "cell_type": "code",
      "source": [
        "SOURCE_VIDEO_PATH = './source.mp4'\n",
        "TARGET_VIDEO_PATH = './result.mp4'"
      ],
      "metadata": {
        "id": "n3DK0nh2BPLS"
      },
      "execution_count": 35,
      "outputs": []
    },
    {
      "cell_type": "code",
      "source": [
        "video_info = sv.VideoInfo.from_video_path(SOURCE_VIDEO_PATH)"
      ],
      "metadata": {
        "id": "-df0WIP3CEov"
      },
      "execution_count": 36,
      "outputs": []
    },
    {
      "cell_type": "code",
      "source": [
        "video_info"
      ],
      "metadata": {
        "colab": {
          "base_uri": "https://localhost:8080/"
        },
        "id": "VLyJ_UpXCKva",
        "outputId": "6935fbe5-dae2-4fb6-8ec9-7ffaead2939f"
      },
      "execution_count": 37,
      "outputs": [
        {
          "output_type": "execute_result",
          "data": {
            "text/plain": [
              "VideoInfo(width=1920, height=1080, fps=30, total_frames=9184)"
            ]
          },
          "metadata": {},
          "execution_count": 37
        }
      ]
    },
    {
      "cell_type": "code",
      "source": [
        "generator = sv.get_video_frames_generator(SOURCE_VIDEO_PATH)"
      ],
      "metadata": {
        "id": "CNt2Cd09CXy_"
      },
      "execution_count": 38,
      "outputs": []
    },
    {
      "cell_type": "code",
      "source": [
        "generator"
      ],
      "metadata": {
        "colab": {
          "base_uri": "https://localhost:8080/"
        },
        "id": "pD1v0OuvCa39",
        "outputId": "b276b3a4-aa39-435c-9cf0-e9a4210a0bb8"
      },
      "execution_count": 39,
      "outputs": [
        {
          "output_type": "execute_result",
          "data": {
            "text/plain": [
              "<generator object get_video_frames_generator at 0x7ecac93cee90>"
            ]
          },
          "metadata": {},
          "execution_count": 39
        }
      ]
    },
    {
      "cell_type": "code",
      "source": [
        "tracker = sv.ByteTrack(track_activation_threshold=0.25, lost_track_buffer=60, minimum_matching_threshold=0.8, frame_rate=30)"
      ],
      "metadata": {
        "id": "HxNtNNcTCbvj"
      },
      "execution_count": 40,
      "outputs": []
    },
    {
      "cell_type": "code",
      "source": [
        "tracker"
      ],
      "metadata": {
        "colab": {
          "base_uri": "https://localhost:8080/"
        },
        "id": "1JGI7LhoCmEd",
        "outputId": "9c86b1f7-f1cf-4bb6-b288-959090101332"
      },
      "execution_count": 41,
      "outputs": [
        {
          "output_type": "execute_result",
          "data": {
            "text/plain": [
              "<supervision.tracker.byte_tracker.core.ByteTrack at 0x7ecac530d550>"
            ]
          },
          "metadata": {},
          "execution_count": 41
        }
      ]
    },
    {
      "cell_type": "code",
      "source": [
        "box_annotator = sv.BoundingBoxAnnotator()"
      ],
      "metadata": {
        "colab": {
          "base_uri": "https://localhost:8080/"
        },
        "id": "g-BDmJRACn8H",
        "outputId": "9bfe1e85-456d-49af-9e9f-3f54f93c0f78"
      },
      "execution_count": 42,
      "outputs": [
        {
          "output_type": "stream",
          "name": "stderr",
          "text": [
            "SupervisionWarnings: BoundingBoxAnnotator is deprecated: `BoundingBoxAnnotator` is deprecated and has been renamed to `BoxAnnotator`. `BoundingBoxAnnotator` will be removed in supervision-0.26.0.\n"
          ]
        }
      ]
    },
    {
      "cell_type": "code",
      "source": [
        "box_annotator"
      ],
      "metadata": {
        "colab": {
          "base_uri": "https://localhost:8080/"
        },
        "id": "fi6vEsEqCsK1",
        "outputId": "967489cf-843b-4557-f91d-0781d0b2c40b"
      },
      "execution_count": 43,
      "outputs": [
        {
          "output_type": "execute_result",
          "data": {
            "text/plain": [
              "<supervision.annotators.core.BoundingBoxAnnotator at 0x7ecac530e9d0>"
            ]
          },
          "metadata": {},
          "execution_count": 43
        }
      ]
    },
    {
      "cell_type": "code",
      "source": [
        "dot_annotater = sv.DotAnnotator(radius=0)"
      ],
      "metadata": {
        "id": "UMtoVIEuCtdP"
      },
      "execution_count": 44,
      "outputs": []
    },
    {
      "cell_type": "code",
      "source": [
        "LINE_START_ONE = sv.Point(250, 225)\n",
        "LINE_END_ONE = sv.Point(0, 175)"
      ],
      "metadata": {
        "id": "2WW5AQjOCyTH"
      },
      "execution_count": 45,
      "outputs": []
    },
    {
      "cell_type": "code",
      "source": [
        "LINE_START_TWO = sv.Point(375, 225)\n",
        "LINE_END_TWO = sv.Point(270, 225)"
      ],
      "metadata": {
        "id": "XlFAQqmuDIe_"
      },
      "execution_count": 46,
      "outputs": []
    },
    {
      "cell_type": "code",
      "source": [
        "LINE_START_THREE = sv.Point(600, 280)\n",
        "LINE_END_THREE = sv.Point(425, 230)"
      ],
      "metadata": {
        "id": "C4-YdzgoELxX"
      },
      "execution_count": 47,
      "outputs": []
    },
    {
      "cell_type": "code",
      "source": [
        "line_zones = [\n",
        "    sv.LineZone(start=LINE_START_ONE, end=LINE_END_ONE),\n",
        "    sv.LineZone(start=LINE_START_TWO, end=LINE_END_TWO),\n",
        "]"
      ],
      "metadata": {
        "id": "DTMpbnT1ERUZ"
      },
      "execution_count": 48,
      "outputs": []
    },
    {
      "cell_type": "code",
      "source": [
        "line_zone_annotator = sv.LineZoneAnnotator(\n",
        "    thickness=1,\n",
        "    text_thickness=1\n",
        ")"
      ],
      "metadata": {
        "id": "XmkhOO52EX0Y"
      },
      "execution_count": 49,
      "outputs": []
    },
    {
      "cell_type": "code",
      "source": [
        "def filter_vehicle_detections(detections):\n",
        "  vehicle_detections = detections[np.isin(detections.class_id, selected_classes)]\n",
        "  return vehicle_detections"
      ],
      "metadata": {
        "id": "iul-fBB0Efo2"
      },
      "execution_count": 50,
      "outputs": []
    },
    {
      "cell_type": "code",
      "source": [
        "def callback(frame: np.ndarray, _:int) -> np.ndarray:\n",
        "  results = model(frame)[0]\n",
        "  detections = sv.Detections.from_ultralytics(results)\n",
        "  detections = filter_vehicle_detections(detections)\n",
        "  detections = tracker.update_with_detections(detections)\n",
        "\n",
        "  annotated_frame = box_annotator.annotate(scene=frame.copy(), detections=detections)\n",
        "\n",
        "  annotated_frame = dot_annotater.annotate(scene=annotated_frame, detections=detections)\n",
        "\n",
        "  for line_zone in line_zones:\n",
        "    line_zone.trigger(detections=detections)\n",
        "\n",
        "  for line_zone in line_zones:\n",
        "    annotated_frame = line_zone_annotator.annotate(frame=annotated_frame, line_counter=line_zone)\n",
        "\n",
        "  return annotated_frame\n"
      ],
      "metadata": {
        "id": "a5ktMhgZEsoR"
      },
      "execution_count": 51,
      "outputs": []
    },
    {
      "cell_type": "code",
      "source": [
        "def process_video_with_progress(source_path: str, target_path: str, callback, pregress_desc: str=\"Processing\"):\n",
        "  cap = cv2.VideoCapture(source_path)\n",
        "  total_frames = int(cap.get(cv2.CAP_PROP_FRAME_COUNT))\n",
        "\n",
        "  with tqdm(total=total_frames, desc=pregress_desc) as pbar:\n",
        "    def wrapped_callback(frame: np.ndarray, frame_idx: int) -> np.ndarray:\n",
        "      result_frame = callback(frame, frame_idx)\n",
        "      pbar.update(1)\n",
        "      return result_frame\n",
        "    sv.process_video(\n",
        "        source_path=source_path,\n",
        "        target_path=target_path,\n",
        "        callback=wrapped_callback,\n",
        "        # show_progress=True\n",
        "    )\n",
        "\n",
        "process_video_with_progress(\n",
        "      source_path=SOURCE_VIDEO_PATH,\n",
        "      target_path=TARGET_VIDEO_PATH,\n",
        "      callback=callback\n",
        "  )"
      ],
      "metadata": {
        "colab": {
          "base_uri": "https://localhost:8080/"
        },
        "id": "DNm4uQP4I3NX",
        "outputId": "96699475-48ab-44b9-c0b6-cc58c73e2a0e"
      },
      "execution_count": null,
      "outputs": [
        {
          "output_type": "stream",
          "name": "stderr",
          "text": [
            "\rProcessing:   0%|          | 0/9184 [00:00<?, ?it/s]"
          ]
        },
        {
          "output_type": "stream",
          "name": "stdout",
          "text": [
            "\n",
            "0: 384x640 4 persons, 5 cars, 1 bus, 98.2ms\n",
            "Speed: 2.5ms preprocess, 98.2ms inference, 1.1ms postprocess per image at shape (1, 3, 384, 640)\n"
          ]
        },
        {
          "output_type": "stream",
          "name": "stderr",
          "text": [
            "\rProcessing:   0%|          | 1/9184 [00:00<51:07,  2.99it/s]"
          ]
        },
        {
          "output_type": "stream",
          "name": "stdout",
          "text": [
            "\n",
            "0: 384x640 4 persons, 6 cars, 1 bus, 1 umbrella, 80.0ms\n",
            "Speed: 2.4ms preprocess, 80.0ms inference, 1.0ms postprocess per image at shape (1, 3, 384, 640)\n"
          ]
        },
        {
          "output_type": "stream",
          "name": "stderr",
          "text": [
            "\rProcessing:   0%|          | 2/9184 [00:00<31:15,  4.89it/s]"
          ]
        },
        {
          "output_type": "stream",
          "name": "stdout",
          "text": [
            "\n",
            "0: 384x640 2 persons, 5 cars, 1 bus, 38.0ms\n",
            "Speed: 2.3ms preprocess, 38.0ms inference, 1.0ms postprocess per image at shape (1, 3, 384, 640)\n"
          ]
        },
        {
          "output_type": "stream",
          "name": "stderr",
          "text": [
            "\rProcessing:   0%|          | 3/9184 [00:00<25:48,  5.93it/s]"
          ]
        },
        {
          "output_type": "stream",
          "name": "stdout",
          "text": [
            "\n",
            "0: 384x640 3 persons, 5 cars, 1 bus, 38.7ms\n",
            "Speed: 2.2ms preprocess, 38.7ms inference, 38.5ms postprocess per image at shape (1, 3, 384, 640)\n"
          ]
        },
        {
          "output_type": "stream",
          "name": "stderr",
          "text": [
            "\rProcessing:   0%|          | 4/9184 [00:00<24:08,  6.34it/s]"
          ]
        },
        {
          "output_type": "stream",
          "name": "stdout",
          "text": [
            "\n",
            "0: 384x640 5 persons, 5 cars, 1 bus, 78.8ms\n",
            "Speed: 2.1ms preprocess, 78.8ms inference, 1.0ms postprocess per image at shape (1, 3, 384, 640)\n"
          ]
        },
        {
          "output_type": "stream",
          "name": "stderr",
          "text": [
            "\rProcessing:   0%|          | 5/9184 [00:00<21:38,  7.07it/s]"
          ]
        },
        {
          "output_type": "stream",
          "name": "stdout",
          "text": [
            "\n",
            "0: 384x640 4 persons, 5 cars, 1 bus, 77.4ms\n",
            "Speed: 2.3ms preprocess, 77.4ms inference, 1.0ms postprocess per image at shape (1, 3, 384, 640)\n"
          ]
        },
        {
          "output_type": "stream",
          "name": "stderr",
          "text": [
            "\rProcessing:   0%|          | 6/9184 [00:00<19:52,  7.69it/s]"
          ]
        },
        {
          "output_type": "stream",
          "name": "stdout",
          "text": [
            "\n",
            "0: 384x640 3 persons, 5 cars, 1 bus, 77.3ms\n",
            "Speed: 2.2ms preprocess, 77.3ms inference, 1.0ms postprocess per image at shape (1, 3, 384, 640)\n"
          ]
        },
        {
          "output_type": "stream",
          "name": "stderr",
          "text": [
            "\rProcessing:   0%|          | 7/9184 [00:01<18:56,  8.08it/s]"
          ]
        },
        {
          "output_type": "stream",
          "name": "stdout",
          "text": [
            "\n",
            "0: 384x640 2 persons, 6 cars, 1 bus, 1 truck, 36.8ms\n",
            "Speed: 2.3ms preprocess, 36.8ms inference, 48.2ms postprocess per image at shape (1, 3, 384, 640)\n"
          ]
        },
        {
          "output_type": "stream",
          "name": "stderr",
          "text": [
            "\rProcessing:   0%|          | 8/9184 [00:01<21:16,  7.19it/s]"
          ]
        },
        {
          "output_type": "stream",
          "name": "stdout",
          "text": [
            "\n",
            "0: 384x640 3 persons, 4 cars, 1 bus, 1 truck, 83.9ms\n",
            "Speed: 2.2ms preprocess, 83.9ms inference, 1.1ms postprocess per image at shape (1, 3, 384, 640)\n"
          ]
        },
        {
          "output_type": "stream",
          "name": "stderr",
          "text": [
            "\rProcessing:   0%|          | 9/9184 [00:01<19:58,  7.65it/s]"
          ]
        },
        {
          "output_type": "stream",
          "name": "stdout",
          "text": [
            "\n",
            "0: 384x640 3 persons, 4 cars, 1 bus, 1 truck, 77.2ms\n",
            "Speed: 2.3ms preprocess, 77.2ms inference, 1.0ms postprocess per image at shape (1, 3, 384, 640)\n"
          ]
        },
        {
          "output_type": "stream",
          "name": "stderr",
          "text": [
            "\rProcessing:   0%|          | 10/9184 [00:01<18:59,  8.05it/s]"
          ]
        },
        {
          "output_type": "stream",
          "name": "stdout",
          "text": [
            "\n",
            "0: 384x640 3 persons, 5 cars, 1 bus, 80.6ms\n",
            "Speed: 2.2ms preprocess, 80.6ms inference, 1.1ms postprocess per image at shape (1, 3, 384, 640)\n"
          ]
        },
        {
          "output_type": "stream",
          "name": "stderr",
          "text": [
            "\rProcessing:   0%|          | 11/9184 [00:01<18:27,  8.28it/s]"
          ]
        },
        {
          "output_type": "stream",
          "name": "stdout",
          "text": [
            "\n",
            "0: 384x640 2 persons, 6 cars, 1 bus, 37.8ms\n",
            "Speed: 2.3ms preprocess, 37.8ms inference, 1.1ms postprocess per image at shape (1, 3, 384, 640)\n"
          ]
        },
        {
          "output_type": "stream",
          "name": "stderr",
          "text": [
            "\rProcessing:   0%|          | 12/9184 [00:01<18:18,  8.35it/s]"
          ]
        },
        {
          "output_type": "stream",
          "name": "stdout",
          "text": [
            "\n",
            "0: 384x640 3 persons, 6 cars, 1 bus, 78.5ms\n",
            "Speed: 2.3ms preprocess, 78.5ms inference, 1.1ms postprocess per image at shape (1, 3, 384, 640)\n"
          ]
        },
        {
          "output_type": "stream",
          "name": "stderr",
          "text": [
            "\rProcessing:   0%|          | 13/9184 [00:01<19:40,  7.77it/s]"
          ]
        },
        {
          "output_type": "stream",
          "name": "stdout",
          "text": [
            "\n",
            "0: 384x640 2 persons, 6 cars, 1 bus, 75.8ms\n",
            "Speed: 2.3ms preprocess, 75.8ms inference, 1.0ms postprocess per image at shape (1, 3, 384, 640)\n"
          ]
        },
        {
          "output_type": "stream",
          "name": "stderr",
          "text": [
            "\rProcessing:   0%|          | 14/9184 [00:01<18:50,  8.11it/s]"
          ]
        },
        {
          "output_type": "stream",
          "name": "stdout",
          "text": [
            "\n",
            "0: 384x640 2 persons, 6 cars, 2 buss, 1 truck, 74.8ms\n",
            "Speed: 2.2ms preprocess, 74.8ms inference, 1.0ms postprocess per image at shape (1, 3, 384, 640)\n"
          ]
        },
        {
          "output_type": "stream",
          "name": "stderr",
          "text": [
            "\rProcessing:   0%|          | 15/9184 [00:02<18:02,  8.47it/s]"
          ]
        },
        {
          "output_type": "stream",
          "name": "stdout",
          "text": [
            "\n",
            "0: 384x640 3 persons, 5 cars, 2 buss, 1 train, 76.8ms\n",
            "Speed: 2.4ms preprocess, 76.8ms inference, 1.0ms postprocess per image at shape (1, 3, 384, 640)\n"
          ]
        },
        {
          "output_type": "stream",
          "name": "stderr",
          "text": [
            "\rProcessing:   0%|          | 16/9184 [00:02<17:39,  8.66it/s]"
          ]
        },
        {
          "output_type": "stream",
          "name": "stdout",
          "text": [
            "\n",
            "0: 384x640 2 persons, 5 cars, 2 buss, 1 train, 92.7ms\n",
            "Speed: 2.6ms preprocess, 92.7ms inference, 1.1ms postprocess per image at shape (1, 3, 384, 640)\n"
          ]
        },
        {
          "output_type": "stream",
          "name": "stderr",
          "text": [
            "\rProcessing:   0%|          | 17/9184 [00:02<20:41,  7.38it/s]"
          ]
        },
        {
          "output_type": "stream",
          "name": "stdout",
          "text": [
            "\n",
            "0: 384x640 2 persons, 5 cars, 1 bus, 1 train, 1 umbrella, 88.7ms\n",
            "Speed: 2.4ms preprocess, 88.7ms inference, 1.1ms postprocess per image at shape (1, 3, 384, 640)\n"
          ]
        },
        {
          "output_type": "stream",
          "name": "stderr",
          "text": [
            "\rProcessing:   0%|          | 18/9184 [00:02<23:00,  6.64it/s]"
          ]
        },
        {
          "output_type": "stream",
          "name": "stdout",
          "text": [
            "\n",
            "0: 384x640 3 persons, 6 cars, 1 bus, 1 train, 1 umbrella, 88.9ms\n",
            "Speed: 2.2ms preprocess, 88.9ms inference, 1.0ms postprocess per image at shape (1, 3, 384, 640)\n"
          ]
        },
        {
          "output_type": "stream",
          "name": "stderr",
          "text": [
            "\rProcessing:   0%|          | 19/9184 [00:02<21:43,  7.03it/s]"
          ]
        },
        {
          "output_type": "stream",
          "name": "stdout",
          "text": [
            "\n",
            "0: 384x640 3 persons, 5 cars, 1 bus, 1 train, 1 umbrella, 91.9ms\n",
            "Speed: 2.4ms preprocess, 91.9ms inference, 1.0ms postprocess per image at shape (1, 3, 384, 640)\n"
          ]
        },
        {
          "output_type": "stream",
          "name": "stderr",
          "text": [
            "\rProcessing:   0%|          | 20/9184 [00:02<23:55,  6.38it/s]"
          ]
        },
        {
          "output_type": "stream",
          "name": "stdout",
          "text": [
            "\n",
            "0: 384x640 3 persons, 6 cars, 1 bus, 1 train, 93.3ms\n",
            "Speed: 2.3ms preprocess, 93.3ms inference, 1.0ms postprocess per image at shape (1, 3, 384, 640)\n"
          ]
        },
        {
          "output_type": "stream",
          "name": "stderr",
          "text": [
            "\rProcessing:   0%|          | 21/9184 [00:03<25:21,  6.02it/s]"
          ]
        },
        {
          "output_type": "stream",
          "name": "stdout",
          "text": [
            "\n",
            "0: 384x640 2 persons, 6 cars, 1 bus, 1 train, 1 umbrella, 90.9ms\n",
            "Speed: 2.7ms preprocess, 90.9ms inference, 1.1ms postprocess per image at shape (1, 3, 384, 640)\n"
          ]
        },
        {
          "output_type": "stream",
          "name": "stderr",
          "text": [
            "\rProcessing:   0%|          | 22/9184 [00:03<23:26,  6.51it/s]"
          ]
        },
        {
          "output_type": "stream",
          "name": "stdout",
          "text": [
            "\n",
            "0: 384x640 2 persons, 5 cars, 1 bus, 1 train, 1 umbrella, 99.8ms\n",
            "Speed: 2.8ms preprocess, 99.8ms inference, 1.1ms postprocess per image at shape (1, 3, 384, 640)\n"
          ]
        },
        {
          "output_type": "stream",
          "name": "stderr",
          "text": [
            "\rProcessing:   0%|          | 23/9184 [00:03<24:56,  6.12it/s]"
          ]
        },
        {
          "output_type": "stream",
          "name": "stdout",
          "text": [
            "\n",
            "0: 384x640 2 persons, 6 cars, 1 bus, 1 train, 1 umbrella, 93.4ms\n",
            "Speed: 2.5ms preprocess, 93.4ms inference, 1.1ms postprocess per image at shape (1, 3, 384, 640)\n"
          ]
        },
        {
          "output_type": "stream",
          "name": "stderr",
          "text": [
            "\rProcessing:   0%|          | 24/9184 [00:03<26:01,  5.87it/s]"
          ]
        },
        {
          "output_type": "stream",
          "name": "stdout",
          "text": [
            "\n",
            "0: 384x640 2 persons, 6 cars, 1 bus, 1 train, 1 umbrella, 87.2ms\n",
            "Speed: 2.2ms preprocess, 87.2ms inference, 1.1ms postprocess per image at shape (1, 3, 384, 640)\n"
          ]
        },
        {
          "output_type": "stream",
          "name": "stderr",
          "text": [
            "\rProcessing:   0%|          | 25/9184 [00:03<23:39,  6.45it/s]"
          ]
        },
        {
          "output_type": "stream",
          "name": "stdout",
          "text": [
            "\n",
            "0: 384x640 3 persons, 6 cars, 1 bus, 1 train, 1 umbrella, 83.6ms\n",
            "Speed: 2.1ms preprocess, 83.6ms inference, 1.1ms postprocess per image at shape (1, 3, 384, 640)\n"
          ]
        },
        {
          "output_type": "stream",
          "name": "stderr",
          "text": [
            "\rProcessing:   0%|          | 26/9184 [00:03<22:00,  6.93it/s]"
          ]
        },
        {
          "output_type": "stream",
          "name": "stdout",
          "text": [
            "\n",
            "0: 384x640 2 persons, 6 cars, 1 bus, 1 train, 1 umbrella, 95.4ms\n",
            "Speed: 2.5ms preprocess, 95.4ms inference, 1.1ms postprocess per image at shape (1, 3, 384, 640)\n"
          ]
        },
        {
          "output_type": "stream",
          "name": "stderr",
          "text": [
            "\rProcessing:   0%|          | 27/9184 [00:03<24:04,  6.34it/s]"
          ]
        },
        {
          "output_type": "stream",
          "name": "stdout",
          "text": [
            "\n",
            "0: 384x640 2 persons, 5 cars, 1 bus, 1 train, 1 umbrella, 95.4ms\n",
            "Speed: 2.3ms preprocess, 95.4ms inference, 1.1ms postprocess per image at shape (1, 3, 384, 640)\n"
          ]
        },
        {
          "output_type": "stream",
          "name": "stderr",
          "text": [
            "\rProcessing:   0%|          | 28/9184 [00:04<25:34,  5.97it/s]"
          ]
        },
        {
          "output_type": "stream",
          "name": "stdout",
          "text": [
            "\n",
            "0: 384x640 4 persons, 8 cars, 1 bus, 1 train, 1 umbrella, 157.6ms\n",
            "Speed: 2.1ms preprocess, 157.6ms inference, 1.0ms postprocess per image at shape (1, 3, 384, 640)\n"
          ]
        },
        {
          "output_type": "stream",
          "name": "stderr",
          "text": [
            "\rProcessing:   0%|          | 29/9184 [00:04<26:34,  5.74it/s]"
          ]
        },
        {
          "output_type": "stream",
          "name": "stdout",
          "text": [
            "\n",
            "0: 384x640 4 persons, 6 cars, 1 bus, 1 train, 1 umbrella, 92.7ms\n",
            "Speed: 2.1ms preprocess, 92.7ms inference, 1.0ms postprocess per image at shape (1, 3, 384, 640)\n"
          ]
        },
        {
          "output_type": "stream",
          "name": "stderr",
          "text": [
            "\rProcessing:   0%|          | 30/9184 [00:04<24:14,  6.29it/s]"
          ]
        },
        {
          "output_type": "stream",
          "name": "stdout",
          "text": [
            "\n",
            "0: 384x640 4 persons, 7 cars, 2 trains, 1 umbrella, 92.5ms\n",
            "Speed: 2.1ms preprocess, 92.5ms inference, 1.0ms postprocess per image at shape (1, 3, 384, 640)\n"
          ]
        },
        {
          "output_type": "stream",
          "name": "stderr",
          "text": [
            "\rProcessing:   0%|          | 31/9184 [00:04<25:36,  5.96it/s]"
          ]
        },
        {
          "output_type": "stream",
          "name": "stdout",
          "text": [
            "\n",
            "0: 384x640 4 persons, 5 cars, 2 trains, 1 umbrella, 89.2ms\n",
            "Speed: 2.1ms preprocess, 89.2ms inference, 1.0ms postprocess per image at shape (1, 3, 384, 640)\n"
          ]
        },
        {
          "output_type": "stream",
          "name": "stderr",
          "text": [
            "\rProcessing:   0%|          | 32/9184 [00:04<26:17,  5.80it/s]"
          ]
        },
        {
          "output_type": "stream",
          "name": "stdout",
          "text": [
            "\n",
            "0: 384x640 4 persons, 6 cars, 1 bus, 1 train, 1 truck, 1 umbrella, 84.2ms\n",
            "Speed: 2.1ms preprocess, 84.2ms inference, 1.1ms postprocess per image at shape (1, 3, 384, 640)\n"
          ]
        },
        {
          "output_type": "stream",
          "name": "stderr",
          "text": [
            "\rProcessing:   0%|          | 33/9184 [00:04<23:42,  6.43it/s]"
          ]
        },
        {
          "output_type": "stream",
          "name": "stdout",
          "text": [
            "\n",
            "0: 384x640 5 persons, 6 cars, 1 train, 1 truck, 1 umbrella, 161.9ms\n",
            "Speed: 2.4ms preprocess, 161.9ms inference, 1.0ms postprocess per image at shape (1, 3, 384, 640)\n"
          ]
        },
        {
          "output_type": "stream",
          "name": "stderr",
          "text": [
            "\rProcessing:   0%|          | 34/9184 [00:05<25:31,  5.97it/s]"
          ]
        },
        {
          "output_type": "stream",
          "name": "stdout",
          "text": [
            "\n",
            "0: 384x640 4 persons, 5 cars, 1 train, 161.2ms\n",
            "Speed: 2.0ms preprocess, 161.2ms inference, 1.0ms postprocess per image at shape (1, 3, 384, 640)\n"
          ]
        },
        {
          "output_type": "stream",
          "name": "stderr",
          "text": [
            "\rProcessing:   0%|          | 35/9184 [00:05<26:42,  5.71it/s]"
          ]
        },
        {
          "output_type": "stream",
          "name": "stdout",
          "text": [
            "\n",
            "0: 384x640 3 persons, 5 cars, 1 train, 90.0ms\n",
            "Speed: 2.4ms preprocess, 90.0ms inference, 1.0ms postprocess per image at shape (1, 3, 384, 640)\n"
          ]
        },
        {
          "output_type": "stream",
          "name": "stderr",
          "text": [
            "\rProcessing:   0%|          | 36/9184 [00:05<24:16,  6.28it/s]"
          ]
        },
        {
          "output_type": "stream",
          "name": "stdout",
          "text": [
            "\n",
            "0: 384x640 4 persons, 6 cars, 1 train, 1 truck, 90.6ms\n",
            "Speed: 2.1ms preprocess, 90.6ms inference, 1.0ms postprocess per image at shape (1, 3, 384, 640)\n"
          ]
        },
        {
          "output_type": "stream",
          "name": "stderr",
          "text": [
            "\rProcessing:   0%|          | 37/9184 [00:05<25:16,  6.03it/s]"
          ]
        },
        {
          "output_type": "stream",
          "name": "stdout",
          "text": [
            "\n",
            "0: 384x640 3 persons, 6 cars, 1 train, 1 truck, 84.3ms\n",
            "Speed: 2.1ms preprocess, 84.3ms inference, 1.0ms postprocess per image at shape (1, 3, 384, 640)\n"
          ]
        },
        {
          "output_type": "stream",
          "name": "stderr",
          "text": [
            "\rProcessing:   0%|          | 38/9184 [00:05<23:10,  6.58it/s]"
          ]
        },
        {
          "output_type": "stream",
          "name": "stdout",
          "text": [
            "\n",
            "0: 384x640 3 persons, 8 cars, 1 train, 1 truck, 88.2ms\n",
            "Speed: 2.1ms preprocess, 88.2ms inference, 1.0ms postprocess per image at shape (1, 3, 384, 640)\n"
          ]
        },
        {
          "output_type": "stream",
          "name": "stderr",
          "text": [
            "\rProcessing:   0%|          | 39/9184 [00:05<24:32,  6.21it/s]"
          ]
        },
        {
          "output_type": "stream",
          "name": "stdout",
          "text": [
            "\n",
            "0: 384x640 2 persons, 8 cars, 1 bus, 1 train, 91.0ms\n",
            "Speed: 2.0ms preprocess, 91.0ms inference, 1.0ms postprocess per image at shape (1, 3, 384, 640)\n"
          ]
        },
        {
          "output_type": "stream",
          "name": "stderr",
          "text": [
            "\rProcessing:   0%|          | 40/9184 [00:06<22:43,  6.71it/s]"
          ]
        },
        {
          "output_type": "stream",
          "name": "stdout",
          "text": [
            "\n",
            "0: 384x640 4 persons, 9 cars, 1 bus, 1 train, 90.7ms\n",
            "Speed: 2.1ms preprocess, 90.7ms inference, 1.8ms postprocess per image at shape (1, 3, 384, 640)\n"
          ]
        },
        {
          "output_type": "stream",
          "name": "stderr",
          "text": [
            "\rProcessing:   0%|          | 41/9184 [00:06<24:28,  6.23it/s]"
          ]
        },
        {
          "output_type": "stream",
          "name": "stdout",
          "text": [
            "\n",
            "0: 384x640 1 person, 7 cars, 2 buss, 1 train, 37.6ms\n",
            "Speed: 56.2ms preprocess, 37.6ms inference, 1.0ms postprocess per image at shape (1, 3, 384, 640)\n"
          ]
        },
        {
          "output_type": "stream",
          "name": "stderr",
          "text": [
            "\rProcessing:   0%|          | 42/9184 [00:06<22:39,  6.72it/s]"
          ]
        },
        {
          "output_type": "stream",
          "name": "stdout",
          "text": [
            "\n",
            "0: 384x640 3 persons, 7 cars, 2 buss, 1 train, 1 truck, 37.5ms\n",
            "Speed: 2.0ms preprocess, 37.5ms inference, 1.0ms postprocess per image at shape (1, 3, 384, 640)\n"
          ]
        },
        {
          "output_type": "stream",
          "name": "stderr",
          "text": [
            "\rProcessing:   0%|          | 43/9184 [00:06<23:03,  6.61it/s]"
          ]
        },
        {
          "output_type": "stream",
          "name": "stdout",
          "text": [
            "\n",
            "0: 384x640 2 persons, 7 cars, 2 buss, 1 train, 2 trucks, 35.9ms\n",
            "Speed: 2.1ms preprocess, 35.9ms inference, 38.1ms postprocess per image at shape (1, 3, 384, 640)\n"
          ]
        },
        {
          "output_type": "stream",
          "name": "stderr",
          "text": [
            "\rProcessing:   0%|          | 44/9184 [00:06<21:00,  7.25it/s]"
          ]
        },
        {
          "output_type": "stream",
          "name": "stdout",
          "text": [
            "\n",
            "0: 384x640 4 persons, 6 cars, 2 buss, 1 train, 2 trucks, 76.3ms\n",
            "Speed: 2.0ms preprocess, 76.3ms inference, 1.0ms postprocess per image at shape (1, 3, 384, 640)\n"
          ]
        },
        {
          "output_type": "stream",
          "name": "stderr",
          "text": [
            "\rProcessing:   0%|          | 45/9184 [00:06<19:28,  7.82it/s]"
          ]
        },
        {
          "output_type": "stream",
          "name": "stdout",
          "text": [
            "\n",
            "0: 384x640 4 persons, 6 cars, 2 buss, 3 trucks, 76.4ms\n",
            "Speed: 2.0ms preprocess, 76.4ms inference, 1.1ms postprocess per image at shape (1, 3, 384, 640)\n"
          ]
        },
        {
          "output_type": "stream",
          "name": "stderr",
          "text": [
            "\rProcessing:   1%|          | 46/9184 [00:06<18:39,  8.16it/s]"
          ]
        },
        {
          "output_type": "stream",
          "name": "stdout",
          "text": [
            "\n",
            "0: 384x640 4 persons, 6 cars, 2 buss, 74.6ms\n",
            "Speed: 2.1ms preprocess, 74.6ms inference, 1.0ms postprocess per image at shape (1, 3, 384, 640)\n"
          ]
        },
        {
          "output_type": "stream",
          "name": "stderr",
          "text": [
            "\rProcessing:   1%|          | 47/9184 [00:06<17:58,  8.47it/s]"
          ]
        },
        {
          "output_type": "stream",
          "name": "stdout",
          "text": [
            "\n",
            "0: 384x640 4 persons, 6 cars, 1 bus, 2 trucks, 77.0ms\n",
            "Speed: 2.0ms preprocess, 77.0ms inference, 0.9ms postprocess per image at shape (1, 3, 384, 640)\n"
          ]
        },
        {
          "output_type": "stream",
          "name": "stderr",
          "text": [
            "\rProcessing:   1%|          | 48/9184 [00:07<17:23,  8.76it/s]"
          ]
        },
        {
          "output_type": "stream",
          "name": "stdout",
          "text": [
            "\n",
            "0: 384x640 4 persons, 7 cars, 1 bus, 2 trucks, 74.9ms\n",
            "Speed: 2.0ms preprocess, 74.9ms inference, 1.0ms postprocess per image at shape (1, 3, 384, 640)\n"
          ]
        },
        {
          "output_type": "stream",
          "name": "stderr",
          "text": [
            "\rProcessing:   1%|          | 49/9184 [00:07<17:04,  8.92it/s]"
          ]
        },
        {
          "output_type": "stream",
          "name": "stdout",
          "text": [
            "\n",
            "0: 384x640 4 persons, 8 cars, 1 bus, 1 train, 1 truck, 36.1ms\n",
            "Speed: 2.0ms preprocess, 36.1ms inference, 1.0ms postprocess per image at shape (1, 3, 384, 640)\n"
          ]
        },
        {
          "output_type": "stream",
          "name": "stderr",
          "text": [
            "\rProcessing:   1%|          | 50/9184 [00:07<19:07,  7.96it/s]"
          ]
        },
        {
          "output_type": "stream",
          "name": "stdout",
          "text": [
            "\n",
            "0: 384x640 4 persons, 6 cars, 2 trains, 1 truck, 36.6ms\n",
            "Speed: 2.0ms preprocess, 36.6ms inference, 0.9ms postprocess per image at shape (1, 3, 384, 640)\n"
          ]
        },
        {
          "output_type": "stream",
          "name": "stderr",
          "text": [
            "\rProcessing:   1%|          | 51/9184 [00:07<18:06,  8.40it/s]"
          ]
        },
        {
          "output_type": "stream",
          "name": "stdout",
          "text": [
            "\n",
            "0: 384x640 3 persons, 6 cars, 2 trains, 1 truck, 77.3ms\n",
            "Speed: 2.1ms preprocess, 77.3ms inference, 1.1ms postprocess per image at shape (1, 3, 384, 640)\n"
          ]
        },
        {
          "output_type": "stream",
          "name": "stderr",
          "text": [
            "\rProcessing:   1%|          | 52/9184 [00:07<17:34,  8.66it/s]"
          ]
        },
        {
          "output_type": "stream",
          "name": "stdout",
          "text": [
            "\n",
            "0: 384x640 2 persons, 6 cars, 1 train, 1 truck, 77.1ms\n",
            "Speed: 2.2ms preprocess, 77.1ms inference, 1.0ms postprocess per image at shape (1, 3, 384, 640)\n"
          ]
        },
        {
          "output_type": "stream",
          "name": "stderr",
          "text": [
            "\rProcessing:   1%|          | 53/9184 [00:07<17:21,  8.77it/s]"
          ]
        },
        {
          "output_type": "stream",
          "name": "stdout",
          "text": [
            "\n",
            "0: 384x640 2 persons, 7 cars, 74.6ms\n",
            "Speed: 2.2ms preprocess, 74.6ms inference, 0.9ms postprocess per image at shape (1, 3, 384, 640)\n"
          ]
        },
        {
          "output_type": "stream",
          "name": "stderr",
          "text": [
            "\rProcessing:   1%|          | 54/9184 [00:07<16:51,  9.02it/s]"
          ]
        },
        {
          "output_type": "stream",
          "name": "stdout",
          "text": [
            "\n",
            "0: 384x640 3 persons, 6 cars, 1 train, 1 truck, 75.4ms\n",
            "Speed: 2.1ms preprocess, 75.4ms inference, 1.0ms postprocess per image at shape (1, 3, 384, 640)\n"
          ]
        },
        {
          "output_type": "stream",
          "name": "stderr",
          "text": [
            "\rProcessing:   1%|          | 55/9184 [00:07<16:44,  9.08it/s]"
          ]
        },
        {
          "output_type": "stream",
          "name": "stdout",
          "text": [
            "\n",
            "0: 384x640 2 persons, 6 cars, 1 truck, 76.2ms\n",
            "Speed: 2.3ms preprocess, 76.2ms inference, 1.1ms postprocess per image at shape (1, 3, 384, 640)\n"
          ]
        },
        {
          "output_type": "stream",
          "name": "stderr",
          "text": [
            "\rProcessing:   1%|          | 56/9184 [00:07<16:40,  9.13it/s]"
          ]
        },
        {
          "output_type": "stream",
          "name": "stdout",
          "text": [
            "\n",
            "0: 384x640 3 persons, 6 cars, 1 bus, 2 trucks, 38.3ms\n",
            "Speed: 2.1ms preprocess, 38.3ms inference, 1.0ms postprocess per image at shape (1, 3, 384, 640)\n"
          ]
        },
        {
          "output_type": "stream",
          "name": "stderr",
          "text": [
            "\rProcessing:   1%|          | 57/9184 [00:08<16:52,  9.01it/s]"
          ]
        },
        {
          "output_type": "stream",
          "name": "stdout",
          "text": [
            "\n",
            "0: 384x640 3 persons, 6 cars, 2 buss, 37.5ms\n",
            "Speed: 2.1ms preprocess, 37.5ms inference, 39.3ms postprocess per image at shape (1, 3, 384, 640)\n"
          ]
        },
        {
          "output_type": "stream",
          "name": "stderr",
          "text": [
            "\rProcessing:   1%|          | 58/9184 [00:08<18:39,  8.15it/s]"
          ]
        },
        {
          "output_type": "stream",
          "name": "stdout",
          "text": [
            "\n",
            "0: 384x640 3 persons, 6 cars, 1 bus, 78.5ms\n",
            "Speed: 2.0ms preprocess, 78.5ms inference, 1.0ms postprocess per image at shape (1, 3, 384, 640)\n"
          ]
        },
        {
          "output_type": "stream",
          "name": "stderr",
          "text": [
            "\rProcessing:   1%|          | 59/9184 [00:08<18:06,  8.40it/s]"
          ]
        },
        {
          "output_type": "stream",
          "name": "stdout",
          "text": [
            "\n",
            "0: 384x640 3 persons, 5 cars, 1 bus, 1 truck, 75.9ms\n",
            "Speed: 2.0ms preprocess, 75.9ms inference, 1.0ms postprocess per image at shape (1, 3, 384, 640)\n"
          ]
        },
        {
          "output_type": "stream",
          "name": "stderr",
          "text": [
            "\rProcessing:   1%|          | 60/9184 [00:08<17:30,  8.69it/s]"
          ]
        },
        {
          "output_type": "stream",
          "name": "stdout",
          "text": [
            "\n",
            "0: 384x640 1 person, 5 cars, 1 bus, 2 trucks, 74.0ms\n",
            "Speed: 2.0ms preprocess, 74.0ms inference, 1.0ms postprocess per image at shape (1, 3, 384, 640)\n"
          ]
        },
        {
          "output_type": "stream",
          "name": "stderr",
          "text": [
            "\rProcessing:   1%|          | 61/9184 [00:08<17:06,  8.88it/s]"
          ]
        },
        {
          "output_type": "stream",
          "name": "stdout",
          "text": [
            "\n",
            "0: 384x640 2 persons, 5 cars, 1 bus, 1 truck, 75.6ms\n",
            "Speed: 2.1ms preprocess, 75.6ms inference, 1.0ms postprocess per image at shape (1, 3, 384, 640)\n"
          ]
        },
        {
          "output_type": "stream",
          "name": "stderr",
          "text": [
            "\rProcessing:   1%|          | 62/9184 [00:08<16:59,  8.95it/s]"
          ]
        },
        {
          "output_type": "stream",
          "name": "stdout",
          "text": [
            "\n",
            "0: 384x640 1 person, 6 cars, 1 bus, 3 trucks, 74.3ms\n",
            "Speed: 2.3ms preprocess, 74.3ms inference, 1.0ms postprocess per image at shape (1, 3, 384, 640)\n"
          ]
        },
        {
          "output_type": "stream",
          "name": "stderr",
          "text": [
            "\rProcessing:   1%|          | 63/9184 [00:08<16:37,  9.14it/s]"
          ]
        },
        {
          "output_type": "stream",
          "name": "stdout",
          "text": [
            "\n",
            "0: 384x640 2 persons, 6 cars, 1 bus, 2 trucks, 36.4ms\n",
            "Speed: 2.1ms preprocess, 36.4ms inference, 1.0ms postprocess per image at shape (1, 3, 384, 640)\n"
          ]
        },
        {
          "output_type": "stream",
          "name": "stderr",
          "text": [
            "\rProcessing:   1%|          | 64/9184 [00:08<18:49,  8.07it/s]"
          ]
        },
        {
          "output_type": "stream",
          "name": "stdout",
          "text": [
            "\n",
            "0: 384x640 1 person, 6 cars, 1 bus, 1 truck, 78.9ms\n",
            "Speed: 2.0ms preprocess, 78.9ms inference, 1.0ms postprocess per image at shape (1, 3, 384, 640)\n"
          ]
        },
        {
          "output_type": "stream",
          "name": "stderr",
          "text": [
            "\rProcessing:   1%|          | 65/9184 [00:09<18:10,  8.36it/s]"
          ]
        },
        {
          "output_type": "stream",
          "name": "stdout",
          "text": [
            "\n",
            "0: 384x640 3 persons, 5 cars, 1 truck, 76.7ms\n",
            "Speed: 2.2ms preprocess, 76.7ms inference, 1.0ms postprocess per image at shape (1, 3, 384, 640)\n"
          ]
        },
        {
          "output_type": "stream",
          "name": "stderr",
          "text": [
            "\rProcessing:   1%|          | 66/9184 [00:09<17:34,  8.65it/s]"
          ]
        },
        {
          "output_type": "stream",
          "name": "stdout",
          "text": [
            "\n",
            "0: 384x640 2 persons, 5 cars, 1 bus, 1 truck, 76.2ms\n",
            "Speed: 2.0ms preprocess, 76.2ms inference, 1.0ms postprocess per image at shape (1, 3, 384, 640)\n"
          ]
        },
        {
          "output_type": "stream",
          "name": "stderr",
          "text": [
            "\rProcessing:   1%|          | 67/9184 [00:09<17:16,  8.79it/s]"
          ]
        },
        {
          "output_type": "stream",
          "name": "stdout",
          "text": [
            "\n",
            "0: 384x640 1 person, 5 cars, 1 bus, 1 truck, 75.3ms\n",
            "Speed: 2.0ms preprocess, 75.3ms inference, 1.1ms postprocess per image at shape (1, 3, 384, 640)\n"
          ]
        },
        {
          "output_type": "stream",
          "name": "stderr",
          "text": [
            "\rProcessing:   1%|          | 68/9184 [00:09<17:01,  8.93it/s]"
          ]
        },
        {
          "output_type": "stream",
          "name": "stdout",
          "text": [
            "\n",
            "0: 384x640 1 person, 6 cars, 1 truck, 76.9ms\n",
            "Speed: 2.1ms preprocess, 76.9ms inference, 1.0ms postprocess per image at shape (1, 3, 384, 640)\n"
          ]
        },
        {
          "output_type": "stream",
          "name": "stderr",
          "text": [
            "\rProcessing:   1%|          | 69/9184 [00:09<16:51,  9.01it/s]"
          ]
        },
        {
          "output_type": "stream",
          "name": "stdout",
          "text": [
            "\n",
            "0: 384x640 1 person, 6 cars, 1 bus, 1 truck, 37.7ms\n",
            "Speed: 2.1ms preprocess, 37.7ms inference, 1.0ms postprocess per image at shape (1, 3, 384, 640)\n"
          ]
        },
        {
          "output_type": "stream",
          "name": "stderr",
          "text": [
            "\rProcessing:   1%|          | 70/9184 [00:09<19:04,  7.97it/s]"
          ]
        },
        {
          "output_type": "stream",
          "name": "stdout",
          "text": [
            "\n",
            "0: 384x640 2 persons, 6 cars, 1 bus, 1 truck, 73.3ms\n",
            "Speed: 2.2ms preprocess, 73.3ms inference, 1.0ms postprocess per image at shape (1, 3, 384, 640)\n"
          ]
        },
        {
          "output_type": "stream",
          "name": "stderr",
          "text": [
            "\rProcessing:   1%|          | 71/9184 [00:09<18:14,  8.32it/s]"
          ]
        },
        {
          "output_type": "stream",
          "name": "stdout",
          "text": [
            "\n",
            "0: 384x640 1 person, 6 cars, 76.1ms\n",
            "Speed: 2.1ms preprocess, 76.1ms inference, 1.0ms postprocess per image at shape (1, 3, 384, 640)\n"
          ]
        },
        {
          "output_type": "stream",
          "name": "stderr",
          "text": [
            "\rProcessing:   1%|          | 72/9184 [00:09<17:39,  8.60it/s]"
          ]
        },
        {
          "output_type": "stream",
          "name": "stdout",
          "text": [
            "\n",
            "0: 384x640 1 person, 6 cars, 2 buss, 1 truck, 75.8ms\n",
            "Speed: 2.1ms preprocess, 75.8ms inference, 1.0ms postprocess per image at shape (1, 3, 384, 640)\n"
          ]
        },
        {
          "output_type": "stream",
          "name": "stderr",
          "text": [
            "\rProcessing:   1%|          | 73/9184 [00:09<17:17,  8.78it/s]"
          ]
        },
        {
          "output_type": "stream",
          "name": "stdout",
          "text": [
            "\n",
            "0: 384x640 1 person, 5 cars, 1 bus, 1 truck, 72.9ms\n",
            "Speed: 2.0ms preprocess, 72.9ms inference, 1.0ms postprocess per image at shape (1, 3, 384, 640)\n"
          ]
        },
        {
          "output_type": "stream",
          "name": "stderr",
          "text": [
            "\rProcessing:   1%|          | 74/9184 [00:10<16:59,  8.94it/s]"
          ]
        },
        {
          "output_type": "stream",
          "name": "stdout",
          "text": [
            "\n",
            "0: 384x640 1 person, 6 cars, 2 trucks, 73.4ms\n",
            "Speed: 2.3ms preprocess, 73.4ms inference, 1.0ms postprocess per image at shape (1, 3, 384, 640)\n"
          ]
        },
        {
          "output_type": "stream",
          "name": "stderr",
          "text": [
            "\rProcessing:   1%|          | 75/9184 [00:10<16:42,  9.09it/s]"
          ]
        },
        {
          "output_type": "stream",
          "name": "stdout",
          "text": [
            "\n",
            "0: 384x640 1 person, 6 cars, 1 truck, 37.7ms\n",
            "Speed: 2.3ms preprocess, 37.7ms inference, 1.1ms postprocess per image at shape (1, 3, 384, 640)\n"
          ]
        },
        {
          "output_type": "stream",
          "name": "stderr",
          "text": [
            "\rProcessing:   1%|          | 76/9184 [00:10<16:51,  9.01it/s]"
          ]
        },
        {
          "output_type": "stream",
          "name": "stdout",
          "text": [
            "\n",
            "0: 384x640 1 person, 5 cars, 1 bus, 1 truck, 36.0ms\n",
            "Speed: 2.2ms preprocess, 36.0ms inference, 1.0ms postprocess per image at shape (1, 3, 384, 640)\n"
          ]
        },
        {
          "output_type": "stream",
          "name": "stderr",
          "text": [
            "\rProcessing:   1%|          | 77/9184 [00:10<16:40,  9.11it/s]"
          ]
        },
        {
          "output_type": "stream",
          "name": "stdout",
          "text": [
            "\n",
            "0: 384x640 1 person, 5 cars, 1 truck, 77.4ms\n",
            "Speed: 2.1ms preprocess, 77.4ms inference, 1.0ms postprocess per image at shape (1, 3, 384, 640)\n"
          ]
        },
        {
          "output_type": "stream",
          "name": "stderr",
          "text": [
            "\rProcessing:   1%|          | 78/9184 [00:10<18:25,  8.24it/s]"
          ]
        },
        {
          "output_type": "stream",
          "name": "stdout",
          "text": [
            "\n",
            "0: 384x640 1 person, 6 cars, 1 bus, 78.4ms\n",
            "Speed: 2.0ms preprocess, 78.4ms inference, 1.0ms postprocess per image at shape (1, 3, 384, 640)\n"
          ]
        },
        {
          "output_type": "stream",
          "name": "stderr",
          "text": [
            "\rProcessing:   1%|          | 79/9184 [00:10<17:48,  8.53it/s]"
          ]
        },
        {
          "output_type": "stream",
          "name": "stdout",
          "text": [
            "\n",
            "0: 384x640 1 person, 6 cars, 1 bus, 1 truck, 76.3ms\n",
            "Speed: 2.3ms preprocess, 76.3ms inference, 1.0ms postprocess per image at shape (1, 3, 384, 640)\n"
          ]
        },
        {
          "output_type": "stream",
          "name": "stderr",
          "text": [
            "\rProcessing:   1%|          | 80/9184 [00:10<17:21,  8.74it/s]"
          ]
        },
        {
          "output_type": "stream",
          "name": "stdout",
          "text": [
            "\n",
            "0: 384x640 1 person, 5 cars, 1 truck, 76.6ms\n",
            "Speed: 2.2ms preprocess, 76.6ms inference, 1.1ms postprocess per image at shape (1, 3, 384, 640)\n"
          ]
        },
        {
          "output_type": "stream",
          "name": "stderr",
          "text": [
            "\rProcessing:   1%|          | 81/9184 [00:10<17:06,  8.87it/s]"
          ]
        },
        {
          "output_type": "stream",
          "name": "stdout",
          "text": [
            "\n",
            "0: 384x640 1 person, 6 cars, 1 bus, 1 train, 77.1ms\n",
            "Speed: 2.3ms preprocess, 77.1ms inference, 1.0ms postprocess per image at shape (1, 3, 384, 640)\n"
          ]
        },
        {
          "output_type": "stream",
          "name": "stderr",
          "text": [
            "\rProcessing:   1%|          | 82/9184 [00:10<16:54,  8.97it/s]"
          ]
        },
        {
          "output_type": "stream",
          "name": "stdout",
          "text": [
            "\n",
            "0: 384x640 1 person, 5 cars, 1 bus, 1 train, 1 umbrella, 36.7ms\n",
            "Speed: 2.1ms preprocess, 36.7ms inference, 1.0ms postprocess per image at shape (1, 3, 384, 640)\n"
          ]
        },
        {
          "output_type": "stream",
          "name": "stderr",
          "text": [
            "\rProcessing:   1%|          | 83/9184 [00:11<17:15,  8.79it/s]"
          ]
        },
        {
          "output_type": "stream",
          "name": "stdout",
          "text": [
            "\n",
            "0: 384x640 1 person, 6 cars, 1 umbrella, 37.9ms\n",
            "Speed: 2.2ms preprocess, 37.9ms inference, 0.9ms postprocess per image at shape (1, 3, 384, 640)\n"
          ]
        },
        {
          "output_type": "stream",
          "name": "stderr",
          "text": [
            "\rProcessing:   1%|          | 84/9184 [00:11<18:35,  8.16it/s]"
          ]
        },
        {
          "output_type": "stream",
          "name": "stdout",
          "text": [
            "\n",
            "0: 384x640 1 person, 6 cars, 1 bus, 1 train, 1 umbrella, 74.8ms\n",
            "Speed: 2.3ms preprocess, 74.8ms inference, 1.0ms postprocess per image at shape (1, 3, 384, 640)\n"
          ]
        },
        {
          "output_type": "stream",
          "name": "stderr",
          "text": [
            "\rProcessing:   1%|          | 85/9184 [00:11<17:56,  8.45it/s]"
          ]
        },
        {
          "output_type": "stream",
          "name": "stdout",
          "text": [
            "\n",
            "0: 384x640 1 person, 5 cars, 1 bus, 1 umbrella, 74.1ms\n",
            "Speed: 2.1ms preprocess, 74.1ms inference, 0.9ms postprocess per image at shape (1, 3, 384, 640)\n"
          ]
        },
        {
          "output_type": "stream",
          "name": "stderr",
          "text": [
            "\rProcessing:   1%|          | 86/9184 [00:11<17:30,  8.66it/s]"
          ]
        },
        {
          "output_type": "stream",
          "name": "stdout",
          "text": [
            "\n",
            "0: 384x640 1 person, 5 cars, 1 bus, 1 truck, 1 umbrella, 75.9ms\n",
            "Speed: 2.0ms preprocess, 75.9ms inference, 0.9ms postprocess per image at shape (1, 3, 384, 640)\n"
          ]
        },
        {
          "output_type": "stream",
          "name": "stderr",
          "text": [
            "\rProcessing:   1%|          | 87/9184 [00:11<17:02,  8.90it/s]"
          ]
        },
        {
          "output_type": "stream",
          "name": "stdout",
          "text": [
            "\n",
            "0: 384x640 1 person, 6 cars, 1 bus, 1 umbrella, 77.6ms\n",
            "Speed: 2.0ms preprocess, 77.6ms inference, 1.0ms postprocess per image at shape (1, 3, 384, 640)\n"
          ]
        },
        {
          "output_type": "stream",
          "name": "stderr",
          "text": [
            "\rProcessing:   1%|          | 88/9184 [00:11<16:48,  9.02it/s]"
          ]
        },
        {
          "output_type": "stream",
          "name": "stdout",
          "text": [
            "\n",
            "0: 384x640 1 person, 6 cars, 1 bus, 1 umbrella, 78.7ms\n",
            "Speed: 2.0ms preprocess, 78.7ms inference, 0.9ms postprocess per image at shape (1, 3, 384, 640)\n"
          ]
        },
        {
          "output_type": "stream",
          "name": "stderr",
          "text": [
            "\rProcessing:   1%|          | 89/9184 [00:11<16:48,  9.02it/s]"
          ]
        },
        {
          "output_type": "stream",
          "name": "stdout",
          "text": [
            "\n",
            "0: 384x640 1 person, 5 cars, 1 umbrella, 37.2ms\n",
            "Speed: 2.1ms preprocess, 37.2ms inference, 1.0ms postprocess per image at shape (1, 3, 384, 640)\n"
          ]
        },
        {
          "output_type": "stream",
          "name": "stderr",
          "text": [
            "\rProcessing:   1%|          | 90/9184 [00:11<17:15,  8.78it/s]"
          ]
        },
        {
          "output_type": "stream",
          "name": "stdout",
          "text": [
            "\n",
            "0: 384x640 2 persons, 5 cars, 1 bus, 1 umbrella, 81.0ms\n",
            "Speed: 2.0ms preprocess, 81.0ms inference, 1.0ms postprocess per image at shape (1, 3, 384, 640)\n"
          ]
        },
        {
          "output_type": "stream",
          "name": "stderr",
          "text": [
            "\rProcessing:   1%|          | 91/9184 [00:12<18:40,  8.11it/s]"
          ]
        },
        {
          "output_type": "stream",
          "name": "stdout",
          "text": [
            "\n",
            "0: 384x640 1 person, 6 cars, 1 bus, 1 umbrella, 76.5ms\n",
            "Speed: 2.1ms preprocess, 76.5ms inference, 1.0ms postprocess per image at shape (1, 3, 384, 640)\n"
          ]
        },
        {
          "output_type": "stream",
          "name": "stderr",
          "text": [
            "\rProcessing:   1%|          | 92/9184 [00:12<18:00,  8.41it/s]"
          ]
        },
        {
          "output_type": "stream",
          "name": "stdout",
          "text": [
            "\n",
            "0: 384x640 1 person, 6 cars, 1 bus, 1 umbrella, 78.9ms\n",
            "Speed: 2.1ms preprocess, 78.9ms inference, 1.0ms postprocess per image at shape (1, 3, 384, 640)\n"
          ]
        },
        {
          "output_type": "stream",
          "name": "stderr",
          "text": [
            "\rProcessing:   1%|          | 93/9184 [00:12<17:35,  8.61it/s]"
          ]
        },
        {
          "output_type": "stream",
          "name": "stdout",
          "text": [
            "\n",
            "0: 384x640 1 person, 6 cars, 1 bus, 76.7ms\n",
            "Speed: 2.0ms preprocess, 76.7ms inference, 0.9ms postprocess per image at shape (1, 3, 384, 640)\n"
          ]
        },
        {
          "output_type": "stream",
          "name": "stderr",
          "text": [
            "\rProcessing:   1%|          | 94/9184 [00:12<17:13,  8.80it/s]"
          ]
        },
        {
          "output_type": "stream",
          "name": "stdout",
          "text": [
            "\n",
            "0: 384x640 1 person, 5 cars, 1 bus, 1 truck, 1 umbrella, 75.1ms\n",
            "Speed: 2.0ms preprocess, 75.1ms inference, 1.1ms postprocess per image at shape (1, 3, 384, 640)\n"
          ]
        },
        {
          "output_type": "stream",
          "name": "stderr",
          "text": [
            "\rProcessing:   1%|          | 95/9184 [00:12<16:59,  8.92it/s]"
          ]
        },
        {
          "output_type": "stream",
          "name": "stdout",
          "text": [
            "\n",
            "0: 384x640 1 person, 5 cars, 1 bus, 1 truck, 38.5ms\n",
            "Speed: 2.1ms preprocess, 38.5ms inference, 1.0ms postprocess per image at shape (1, 3, 384, 640)\n"
          ]
        },
        {
          "output_type": "stream",
          "name": "stderr",
          "text": [
            "\rProcessing:   1%|          | 96/9184 [00:12<18:59,  7.97it/s]"
          ]
        },
        {
          "output_type": "stream",
          "name": "stdout",
          "text": [
            "\n",
            "0: 384x640 2 persons, 5 cars, 1 truck, 76.9ms\n",
            "Speed: 2.0ms preprocess, 76.9ms inference, 1.0ms postprocess per image at shape (1, 3, 384, 640)\n"
          ]
        },
        {
          "output_type": "stream",
          "name": "stderr",
          "text": [
            "\rProcessing:   1%|          | 97/9184 [00:12<18:09,  8.34it/s]"
          ]
        },
        {
          "output_type": "stream",
          "name": "stdout",
          "text": [
            "\n",
            "0: 384x640 2 persons, 8 cars, 1 bus, 74.9ms\n",
            "Speed: 2.0ms preprocess, 74.9ms inference, 1.0ms postprocess per image at shape (1, 3, 384, 640)\n"
          ]
        },
        {
          "output_type": "stream",
          "name": "stderr",
          "text": [
            "\rProcessing:   1%|          | 98/9184 [00:12<17:39,  8.57it/s]"
          ]
        },
        {
          "output_type": "stream",
          "name": "stdout",
          "text": [
            "\n",
            "0: 384x640 2 persons, 6 cars, 1 bus, 75.2ms\n",
            "Speed: 2.4ms preprocess, 75.2ms inference, 1.0ms postprocess per image at shape (1, 3, 384, 640)\n"
          ]
        },
        {
          "output_type": "stream",
          "name": "stderr",
          "text": [
            "\rProcessing:   1%|          | 99/9184 [00:12<17:02,  8.89it/s]"
          ]
        },
        {
          "output_type": "stream",
          "name": "stdout",
          "text": [
            "\n",
            "0: 384x640 3 persons, 6 cars, 1 bus, 1 truck, 76.8ms\n",
            "Speed: 2.0ms preprocess, 76.8ms inference, 1.0ms postprocess per image at shape (1, 3, 384, 640)\n"
          ]
        },
        {
          "output_type": "stream",
          "name": "stderr",
          "text": [
            "\rProcessing:   1%|          | 100/9184 [00:13<16:50,  8.99it/s]"
          ]
        },
        {
          "output_type": "stream",
          "name": "stdout",
          "text": [
            "\n",
            "0: 384x640 2 persons, 6 cars, 1 bus, 1 truck, 78.7ms\n",
            "Speed: 2.2ms preprocess, 78.7ms inference, 1.0ms postprocess per image at shape (1, 3, 384, 640)\n"
          ]
        },
        {
          "output_type": "stream",
          "name": "stderr",
          "text": [
            "\rProcessing:   1%|          | 101/9184 [00:13<16:53,  8.96it/s]"
          ]
        },
        {
          "output_type": "stream",
          "name": "stdout",
          "text": [
            "\n",
            "0: 384x640 3 persons, 5 cars, 1 bus, 75.7ms\n",
            "Speed: 2.2ms preprocess, 75.7ms inference, 1.0ms postprocess per image at shape (1, 3, 384, 640)\n"
          ]
        },
        {
          "output_type": "stream",
          "name": "stderr",
          "text": [
            "\rProcessing:   1%|          | 102/9184 [00:13<16:30,  9.17it/s]"
          ]
        },
        {
          "output_type": "stream",
          "name": "stdout",
          "text": [
            "\n",
            "0: 384x640 3 persons, 4 cars, 1 bus, 1 train, 36.5ms\n",
            "Speed: 2.0ms preprocess, 36.5ms inference, 0.9ms postprocess per image at shape (1, 3, 384, 640)\n"
          ]
        },
        {
          "output_type": "stream",
          "name": "stderr",
          "text": [
            "\rProcessing:   1%|          | 103/9184 [00:13<17:00,  8.90it/s]"
          ]
        },
        {
          "output_type": "stream",
          "name": "stdout",
          "text": [
            "\n",
            "0: 384x640 3 persons, 6 cars, 1 bus, 36.9ms\n",
            "Speed: 2.1ms preprocess, 36.9ms inference, 1.0ms postprocess per image at shape (1, 3, 384, 640)\n"
          ]
        },
        {
          "output_type": "stream",
          "name": "stderr",
          "text": [
            "\rProcessing:   1%|          | 104/9184 [00:13<18:21,  8.24it/s]"
          ]
        },
        {
          "output_type": "stream",
          "name": "stdout",
          "text": [
            "\n",
            "0: 384x640 3 persons, 5 cars, 79.2ms\n",
            "Speed: 2.2ms preprocess, 79.2ms inference, 1.0ms postprocess per image at shape (1, 3, 384, 640)\n"
          ]
        },
        {
          "output_type": "stream",
          "name": "stderr",
          "text": [
            "\rProcessing:   1%|          | 105/9184 [00:13<17:46,  8.51it/s]"
          ]
        },
        {
          "output_type": "stream",
          "name": "stdout",
          "text": [
            "\n",
            "0: 384x640 4 persons, 7 cars, 75.4ms\n",
            "Speed: 2.3ms preprocess, 75.4ms inference, 1.0ms postprocess per image at shape (1, 3, 384, 640)\n"
          ]
        },
        {
          "output_type": "stream",
          "name": "stderr",
          "text": [
            "\rProcessing:   1%|          | 106/9184 [00:13<17:18,  8.74it/s]"
          ]
        },
        {
          "output_type": "stream",
          "name": "stdout",
          "text": [
            "\n",
            "0: 384x640 3 persons, 6 cars, 78.0ms\n",
            "Speed: 2.4ms preprocess, 78.0ms inference, 0.9ms postprocess per image at shape (1, 3, 384, 640)\n"
          ]
        },
        {
          "output_type": "stream",
          "name": "stderr",
          "text": [
            "\rProcessing:   1%|          | 107/9184 [00:13<17:04,  8.86it/s]"
          ]
        },
        {
          "output_type": "stream",
          "name": "stdout",
          "text": [
            "\n",
            "0: 384x640 3 persons, 6 cars, 1 truck, 76.1ms\n",
            "Speed: 2.1ms preprocess, 76.1ms inference, 1.0ms postprocess per image at shape (1, 3, 384, 640)\n"
          ]
        },
        {
          "output_type": "stream",
          "name": "stderr",
          "text": [
            "\rProcessing:   1%|          | 108/9184 [00:13<16:45,  9.03it/s]"
          ]
        },
        {
          "output_type": "stream",
          "name": "stdout",
          "text": [
            "\n",
            "0: 384x640 3 persons, 8 cars, 1 umbrella, 75.8ms\n",
            "Speed: 2.0ms preprocess, 75.8ms inference, 1.0ms postprocess per image at shape (1, 3, 384, 640)\n"
          ]
        },
        {
          "output_type": "stream",
          "name": "stderr",
          "text": [
            "\rProcessing:   1%|          | 109/9184 [00:14<16:37,  9.10it/s]"
          ]
        },
        {
          "output_type": "stream",
          "name": "stdout",
          "text": [
            "\n",
            "0: 384x640 2 persons, 6 cars, 1 umbrella, 39.4ms\n",
            "Speed: 2.2ms preprocess, 39.4ms inference, 1.0ms postprocess per image at shape (1, 3, 384, 640)\n"
          ]
        },
        {
          "output_type": "stream",
          "name": "stderr",
          "text": [
            "\rProcessing:   1%|          | 110/9184 [00:14<18:59,  7.96it/s]"
          ]
        },
        {
          "output_type": "stream",
          "name": "stdout",
          "text": [
            "\n",
            "0: 384x640 2 persons, 6 cars, 1 truck, 1 umbrella, 79.8ms\n",
            "Speed: 2.2ms preprocess, 79.8ms inference, 1.0ms postprocess per image at shape (1, 3, 384, 640)\n"
          ]
        },
        {
          "output_type": "stream",
          "name": "stderr",
          "text": [
            "\rProcessing:   1%|          | 111/9184 [00:14<18:20,  8.24it/s]"
          ]
        },
        {
          "output_type": "stream",
          "name": "stdout",
          "text": [
            "\n",
            "0: 384x640 2 persons, 5 cars, 1 truck, 1 umbrella, 76.5ms\n",
            "Speed: 2.1ms preprocess, 76.5ms inference, 0.9ms postprocess per image at shape (1, 3, 384, 640)\n"
          ]
        },
        {
          "output_type": "stream",
          "name": "stderr",
          "text": [
            "\rProcessing:   1%|          | 112/9184 [00:14<17:46,  8.51it/s]"
          ]
        },
        {
          "output_type": "stream",
          "name": "stdout",
          "text": [
            "\n",
            "0: 384x640 2 persons, 5 cars, 1 truck, 75.7ms\n",
            "Speed: 2.1ms preprocess, 75.7ms inference, 1.0ms postprocess per image at shape (1, 3, 384, 640)\n"
          ]
        },
        {
          "output_type": "stream",
          "name": "stderr",
          "text": [
            "\rProcessing:   1%|          | 113/9184 [00:14<17:22,  8.70it/s]"
          ]
        },
        {
          "output_type": "stream",
          "name": "stdout",
          "text": [
            "\n",
            "0: 384x640 2 persons, 6 cars, 2 trucks, 77.3ms\n",
            "Speed: 2.2ms preprocess, 77.3ms inference, 1.0ms postprocess per image at shape (1, 3, 384, 640)\n"
          ]
        },
        {
          "output_type": "stream",
          "name": "stderr",
          "text": [
            "\rProcessing:   1%|          | 114/9184 [00:14<17:08,  8.82it/s]"
          ]
        },
        {
          "output_type": "stream",
          "name": "stdout",
          "text": [
            "\n",
            "0: 384x640 2 persons, 6 cars, 1 train, 1 truck, 38.4ms\n",
            "Speed: 2.1ms preprocess, 38.4ms inference, 1.0ms postprocess per image at shape (1, 3, 384, 640)\n"
          ]
        },
        {
          "output_type": "stream",
          "name": "stderr",
          "text": [
            "\rProcessing:   1%|▏         | 115/9184 [00:14<19:08,  7.90it/s]"
          ]
        },
        {
          "output_type": "stream",
          "name": "stdout",
          "text": [
            "\n",
            "0: 384x640 2 persons, 6 cars, 2 trucks, 74.8ms\n",
            "Speed: 2.1ms preprocess, 74.8ms inference, 1.1ms postprocess per image at shape (1, 3, 384, 640)\n"
          ]
        },
        {
          "output_type": "stream",
          "name": "stderr",
          "text": [
            "\rProcessing:   1%|▏         | 116/9184 [00:14<18:16,  8.27it/s]"
          ]
        },
        {
          "output_type": "stream",
          "name": "stdout",
          "text": [
            "\n",
            "0: 384x640 2 persons, 7 cars, 2 trucks, 75.2ms\n",
            "Speed: 2.1ms preprocess, 75.2ms inference, 1.0ms postprocess per image at shape (1, 3, 384, 640)\n"
          ]
        },
        {
          "output_type": "stream",
          "name": "stderr",
          "text": [
            "\rProcessing:   1%|▏         | 117/9184 [00:15<17:34,  8.60it/s]"
          ]
        },
        {
          "output_type": "stream",
          "name": "stdout",
          "text": [
            "\n",
            "0: 384x640 2 persons, 8 cars, 1 truck, 79.0ms\n",
            "Speed: 2.2ms preprocess, 79.0ms inference, 1.0ms postprocess per image at shape (1, 3, 384, 640)\n"
          ]
        },
        {
          "output_type": "stream",
          "name": "stderr",
          "text": [
            "\rProcessing:   1%|▏         | 118/9184 [00:15<17:23,  8.69it/s]"
          ]
        },
        {
          "output_type": "stream",
          "name": "stdout",
          "text": [
            "\n",
            "0: 384x640 2 persons, 6 cars, 1 truck, 78.6ms\n",
            "Speed: 2.3ms preprocess, 78.6ms inference, 1.0ms postprocess per image at shape (1, 3, 384, 640)\n"
          ]
        },
        {
          "output_type": "stream",
          "name": "stderr",
          "text": [
            "\rProcessing:   1%|▏         | 119/9184 [00:15<17:18,  8.73it/s]"
          ]
        },
        {
          "output_type": "stream",
          "name": "stdout",
          "text": [
            "\n",
            "0: 384x640 2 persons, 5 cars, 2 trucks, 41.2ms\n",
            "Speed: 2.5ms preprocess, 41.2ms inference, 1.1ms postprocess per image at shape (1, 3, 384, 640)\n"
          ]
        },
        {
          "output_type": "stream",
          "name": "stderr",
          "text": [
            "\rProcessing:   1%|▏         | 120/9184 [00:15<17:36,  8.58it/s]"
          ]
        },
        {
          "output_type": "stream",
          "name": "stdout",
          "text": [
            "\n",
            "0: 384x640 2 persons, 6 cars, 1 truck, 79.1ms\n",
            "Speed: 2.1ms preprocess, 79.1ms inference, 1.0ms postprocess per image at shape (1, 3, 384, 640)\n"
          ]
        },
        {
          "output_type": "stream",
          "name": "stderr",
          "text": [
            "\rProcessing:   1%|▏         | 121/9184 [00:15<18:59,  7.96it/s]"
          ]
        },
        {
          "output_type": "stream",
          "name": "stdout",
          "text": [
            "\n",
            "0: 384x640 3 persons, 6 cars, 2 trucks, 75.2ms\n",
            "Speed: 2.4ms preprocess, 75.2ms inference, 0.9ms postprocess per image at shape (1, 3, 384, 640)\n"
          ]
        },
        {
          "output_type": "stream",
          "name": "stderr",
          "text": [
            "\rProcessing:   1%|▏         | 122/9184 [00:15<18:20,  8.24it/s]"
          ]
        },
        {
          "output_type": "stream",
          "name": "stdout",
          "text": [
            "\n",
            "0: 384x640 2 persons, 7 cars, 2 trucks, 76.5ms\n",
            "Speed: 2.3ms preprocess, 76.5ms inference, 0.9ms postprocess per image at shape (1, 3, 384, 640)\n"
          ]
        },
        {
          "output_type": "stream",
          "name": "stderr",
          "text": [
            "\rProcessing:   1%|▏         | 123/9184 [00:15<17:40,  8.55it/s]"
          ]
        },
        {
          "output_type": "stream",
          "name": "stdout",
          "text": [
            "\n",
            "0: 384x640 2 persons, 5 cars, 2 trucks, 78.4ms\n",
            "Speed: 2.3ms preprocess, 78.4ms inference, 1.0ms postprocess per image at shape (1, 3, 384, 640)\n"
          ]
        },
        {
          "output_type": "stream",
          "name": "stderr",
          "text": [
            "\rProcessing:   1%|▏         | 124/9184 [00:15<17:25,  8.67it/s]"
          ]
        },
        {
          "output_type": "stream",
          "name": "stdout",
          "text": [
            "\n",
            "0: 384x640 2 persons, 5 cars, 2 trucks, 36.9ms\n",
            "Speed: 2.2ms preprocess, 36.9ms inference, 1.0ms postprocess per image at shape (1, 3, 384, 640)\n"
          ]
        },
        {
          "output_type": "stream",
          "name": "stderr",
          "text": [
            "\rProcessing:   1%|▏         | 125/9184 [00:15<17:42,  8.53it/s]"
          ]
        },
        {
          "output_type": "stream",
          "name": "stdout",
          "text": [
            "\n",
            "0: 384x640 2 persons, 4 cars, 1 truck, 1 umbrella, 38.8ms\n",
            "Speed: 2.2ms preprocess, 38.8ms inference, 1.0ms postprocess per image at shape (1, 3, 384, 640)\n"
          ]
        },
        {
          "output_type": "stream",
          "name": "stderr",
          "text": [
            "\rProcessing:   1%|▏         | 126/9184 [00:16<18:48,  8.03it/s]"
          ]
        },
        {
          "output_type": "stream",
          "name": "stdout",
          "text": [
            "\n",
            "0: 384x640 2 persons, 5 cars, 2 trucks, 73.4ms\n",
            "Speed: 2.1ms preprocess, 73.4ms inference, 1.2ms postprocess per image at shape (1, 3, 384, 640)\n"
          ]
        },
        {
          "output_type": "stream",
          "name": "stderr",
          "text": [
            "\rProcessing:   1%|▏         | 127/9184 [00:16<18:00,  8.39it/s]"
          ]
        },
        {
          "output_type": "stream",
          "name": "stdout",
          "text": [
            "\n",
            "0: 384x640 2 persons, 4 cars, 2 trucks, 74.4ms\n",
            "Speed: 2.3ms preprocess, 74.4ms inference, 1.0ms postprocess per image at shape (1, 3, 384, 640)\n"
          ]
        },
        {
          "output_type": "stream",
          "name": "stderr",
          "text": [
            "\rProcessing:   1%|▏         | 128/9184 [00:16<17:29,  8.63it/s]"
          ]
        },
        {
          "output_type": "stream",
          "name": "stdout",
          "text": [
            "\n",
            "0: 384x640 2 persons, 5 cars, 1 truck, 75.8ms\n",
            "Speed: 2.3ms preprocess, 75.8ms inference, 0.9ms postprocess per image at shape (1, 3, 384, 640)\n"
          ]
        },
        {
          "output_type": "stream",
          "name": "stderr",
          "text": [
            "\rProcessing:   1%|▏         | 129/9184 [00:16<16:54,  8.93it/s]"
          ]
        },
        {
          "output_type": "stream",
          "name": "stdout",
          "text": [
            "\n",
            "0: 384x640 2 persons, 4 cars, 1 truck, 78.6ms\n",
            "Speed: 2.3ms preprocess, 78.6ms inference, 1.0ms postprocess per image at shape (1, 3, 384, 640)\n"
          ]
        },
        {
          "output_type": "stream",
          "name": "stderr",
          "text": [
            "\rProcessing:   1%|▏         | 130/9184 [00:16<16:47,  8.98it/s]"
          ]
        },
        {
          "output_type": "stream",
          "name": "stdout",
          "text": [
            "\n",
            "0: 384x640 2 persons, 5 cars, 1 bus, 1 truck, 76.8ms\n",
            "Speed: 2.3ms preprocess, 76.8ms inference, 1.0ms postprocess per image at shape (1, 3, 384, 640)\n"
          ]
        },
        {
          "output_type": "stream",
          "name": "stderr",
          "text": [
            "\rProcessing:   1%|▏         | 131/9184 [00:16<16:41,  9.04it/s]"
          ]
        },
        {
          "output_type": "stream",
          "name": "stdout",
          "text": [
            "\n",
            "0: 384x640 2 persons, 4 cars, 1 bus, 2 trucks, 76.7ms\n",
            "Speed: 2.3ms preprocess, 76.7ms inference, 1.1ms postprocess per image at shape (1, 3, 384, 640)\n"
          ]
        },
        {
          "output_type": "stream",
          "name": "stderr",
          "text": [
            "\rProcessing:   1%|▏         | 132/9184 [00:16<16:23,  9.21it/s]"
          ]
        },
        {
          "output_type": "stream",
          "name": "stdout",
          "text": [
            "\n",
            "0: 384x640 2 persons, 5 cars, 1 truck, 37.9ms\n",
            "Speed: 2.3ms preprocess, 37.9ms inference, 1.0ms postprocess per image at shape (1, 3, 384, 640)\n"
          ]
        },
        {
          "output_type": "stream",
          "name": "stderr",
          "text": [
            "\rProcessing:   1%|▏         | 133/9184 [00:16<16:47,  8.99it/s]"
          ]
        },
        {
          "output_type": "stream",
          "name": "stdout",
          "text": [
            "\n",
            "0: 384x640 2 persons, 4 cars, 1 bus, 1 truck, 35.9ms\n",
            "Speed: 2.1ms preprocess, 35.9ms inference, 0.9ms postprocess per image at shape (1, 3, 384, 640)\n"
          ]
        },
        {
          "output_type": "stream",
          "name": "stderr",
          "text": [
            "\rProcessing:   1%|▏         | 134/9184 [00:17<18:20,  8.22it/s]"
          ]
        },
        {
          "output_type": "stream",
          "name": "stdout",
          "text": [
            "\n",
            "0: 384x640 2 persons, 6 cars, 2 trucks, 76.3ms\n",
            "Speed: 2.1ms preprocess, 76.3ms inference, 1.9ms postprocess per image at shape (1, 3, 384, 640)\n"
          ]
        },
        {
          "output_type": "stream",
          "name": "stderr",
          "text": [
            "\rProcessing:   1%|▏         | 135/9184 [00:17<17:40,  8.53it/s]"
          ]
        },
        {
          "output_type": "stream",
          "name": "stdout",
          "text": [
            "\n",
            "0: 384x640 2 persons, 7 cars, 1 truck, 74.6ms\n",
            "Speed: 2.1ms preprocess, 74.6ms inference, 1.0ms postprocess per image at shape (1, 3, 384, 640)\n"
          ]
        },
        {
          "output_type": "stream",
          "name": "stderr",
          "text": [
            "\rProcessing:   1%|▏         | 136/9184 [00:17<17:12,  8.76it/s]"
          ]
        },
        {
          "output_type": "stream",
          "name": "stdout",
          "text": [
            "\n",
            "0: 384x640 2 persons, 7 cars, 1 bus, 1 truck, 76.8ms\n",
            "Speed: 2.2ms preprocess, 76.8ms inference, 0.9ms postprocess per image at shape (1, 3, 384, 640)\n"
          ]
        },
        {
          "output_type": "stream",
          "name": "stderr",
          "text": [
            "\rProcessing:   1%|▏         | 137/9184 [00:17<16:53,  8.92it/s]"
          ]
        },
        {
          "output_type": "stream",
          "name": "stdout",
          "text": [
            "\n",
            "0: 384x640 2 persons, 7 cars, 1 train, 1 truck, 76.1ms\n",
            "Speed: 2.1ms preprocess, 76.1ms inference, 1.0ms postprocess per image at shape (1, 3, 384, 640)\n"
          ]
        },
        {
          "output_type": "stream",
          "name": "stderr",
          "text": [
            "\rProcessing:   2%|▏         | 138/9184 [00:17<16:32,  9.11it/s]"
          ]
        },
        {
          "output_type": "stream",
          "name": "stdout",
          "text": [
            "\n",
            "0: 384x640 2 persons, 6 cars, 1 truck, 77.2ms\n",
            "Speed: 2.1ms preprocess, 77.2ms inference, 1.0ms postprocess per image at shape (1, 3, 384, 640)\n"
          ]
        },
        {
          "output_type": "stream",
          "name": "stderr",
          "text": [
            "\rProcessing:   2%|▏         | 139/9184 [00:17<16:26,  9.17it/s]"
          ]
        },
        {
          "output_type": "stream",
          "name": "stdout",
          "text": [
            "\n",
            "0: 384x640 2 persons, 7 cars, 1 truck, 37.2ms\n",
            "Speed: 2.1ms preprocess, 37.2ms inference, 0.9ms postprocess per image at shape (1, 3, 384, 640)\n"
          ]
        },
        {
          "output_type": "stream",
          "name": "stderr",
          "text": [
            "\rProcessing:   2%|▏         | 140/9184 [00:17<16:27,  9.15it/s]"
          ]
        },
        {
          "output_type": "stream",
          "name": "stdout",
          "text": [
            "\n",
            "0: 384x640 2 persons, 7 cars, 1 truck, 39.2ms\n",
            "Speed: 2.4ms preprocess, 39.2ms inference, 1.0ms postprocess per image at shape (1, 3, 384, 640)\n"
          ]
        },
        {
          "output_type": "stream",
          "name": "stderr",
          "text": [
            "\rProcessing:   2%|▏         | 141/9184 [00:17<18:29,  8.15it/s]"
          ]
        },
        {
          "output_type": "stream",
          "name": "stdout",
          "text": [
            "\n",
            "0: 384x640 2 persons, 7 cars, 1 bus, 1 truck, 76.2ms\n",
            "Speed: 2.4ms preprocess, 76.2ms inference, 1.0ms postprocess per image at shape (1, 3, 384, 640)\n"
          ]
        },
        {
          "output_type": "stream",
          "name": "stderr",
          "text": [
            "\rProcessing:   2%|▏         | 142/9184 [00:17<17:50,  8.45it/s]"
          ]
        },
        {
          "output_type": "stream",
          "name": "stdout",
          "text": [
            "\n",
            "0: 384x640 2 persons, 7 cars, 1 truck, 77.4ms\n",
            "Speed: 3.2ms preprocess, 77.4ms inference, 1.1ms postprocess per image at shape (1, 3, 384, 640)\n"
          ]
        },
        {
          "output_type": "stream",
          "name": "stderr",
          "text": [
            "\rProcessing:   2%|▏         | 143/9184 [00:18<17:35,  8.57it/s]"
          ]
        },
        {
          "output_type": "stream",
          "name": "stdout",
          "text": [
            "\n",
            "0: 384x640 2 persons, 7 cars, 78.9ms\n",
            "Speed: 2.5ms preprocess, 78.9ms inference, 1.1ms postprocess per image at shape (1, 3, 384, 640)\n"
          ]
        },
        {
          "output_type": "stream",
          "name": "stderr",
          "text": [
            "\rProcessing:   2%|▏         | 144/9184 [00:18<17:14,  8.74it/s]"
          ]
        },
        {
          "output_type": "stream",
          "name": "stdout",
          "text": [
            "\n",
            "0: 384x640 2 persons, 7 cars, 1 truck, 77.5ms\n",
            "Speed: 2.3ms preprocess, 77.5ms inference, 1.0ms postprocess per image at shape (1, 3, 384, 640)\n"
          ]
        },
        {
          "output_type": "stream",
          "name": "stderr",
          "text": [
            "\rProcessing:   2%|▏         | 145/9184 [00:18<17:05,  8.81it/s]"
          ]
        },
        {
          "output_type": "stream",
          "name": "stdout",
          "text": [
            "\n",
            "0: 384x640 2 persons, 7 cars, 1 truck, 37.2ms\n",
            "Speed: 2.2ms preprocess, 37.2ms inference, 1.0ms postprocess per image at shape (1, 3, 384, 640)\n"
          ]
        },
        {
          "output_type": "stream",
          "name": "stderr",
          "text": [
            "\rProcessing:   2%|▏         | 146/9184 [00:18<19:14,  7.83it/s]"
          ]
        },
        {
          "output_type": "stream",
          "name": "stdout",
          "text": [
            "\n",
            "0: 384x640 2 persons, 6 cars, 1 truck, 75.8ms\n",
            "Speed: 2.4ms preprocess, 75.8ms inference, 1.0ms postprocess per image at shape (1, 3, 384, 640)\n"
          ]
        },
        {
          "output_type": "stream",
          "name": "stderr",
          "text": [
            "\rProcessing:   2%|▏         | 147/9184 [00:18<18:12,  8.27it/s]"
          ]
        },
        {
          "output_type": "stream",
          "name": "stdout",
          "text": [
            "\n",
            "0: 384x640 2 persons, 5 cars, 1 train, 1 truck, 80.0ms\n",
            "Speed: 2.2ms preprocess, 80.0ms inference, 1.2ms postprocess per image at shape (1, 3, 384, 640)\n"
          ]
        },
        {
          "output_type": "stream",
          "name": "stderr",
          "text": [
            "\rProcessing:   2%|▏         | 148/9184 [00:18<17:45,  8.48it/s]"
          ]
        },
        {
          "output_type": "stream",
          "name": "stdout",
          "text": [
            "\n",
            "0: 384x640 2 persons, 6 cars, 1 truck, 79.8ms\n",
            "Speed: 2.2ms preprocess, 79.8ms inference, 1.0ms postprocess per image at shape (1, 3, 384, 640)\n"
          ]
        },
        {
          "output_type": "stream",
          "name": "stderr",
          "text": [
            "\rProcessing:   2%|▏         | 149/9184 [00:18<17:25,  8.64it/s]"
          ]
        },
        {
          "output_type": "stream",
          "name": "stdout",
          "text": [
            "\n",
            "0: 384x640 2 persons, 6 cars, 1 train, 76.8ms\n",
            "Speed: 2.4ms preprocess, 76.8ms inference, 0.9ms postprocess per image at shape (1, 3, 384, 640)\n"
          ]
        },
        {
          "output_type": "stream",
          "name": "stderr",
          "text": [
            "\rProcessing:   2%|▏         | 150/9184 [00:18<16:59,  8.86it/s]"
          ]
        },
        {
          "output_type": "stream",
          "name": "stdout",
          "text": [
            "\n",
            "0: 384x640 2 persons, 7 cars, 1 train, 38.9ms\n",
            "Speed: 2.6ms preprocess, 38.9ms inference, 0.9ms postprocess per image at shape (1, 3, 384, 640)\n"
          ]
        },
        {
          "output_type": "stream",
          "name": "stderr",
          "text": [
            "\rProcessing:   2%|▏         | 151/9184 [00:18<16:54,  8.90it/s]"
          ]
        },
        {
          "output_type": "stream",
          "name": "stdout",
          "text": [
            "\n",
            "0: 384x640 2 persons, 8 cars, 1 truck, 38.6ms\n",
            "Speed: 2.4ms preprocess, 38.6ms inference, 1.0ms postprocess per image at shape (1, 3, 384, 640)\n"
          ]
        },
        {
          "output_type": "stream",
          "name": "stderr",
          "text": [
            "\rProcessing:   2%|▏         | 152/9184 [00:19<18:50,  7.99it/s]"
          ]
        },
        {
          "output_type": "stream",
          "name": "stdout",
          "text": [
            "\n",
            "0: 384x640 2 persons, 8 cars, 1 truck, 73.8ms\n",
            "Speed: 2.2ms preprocess, 73.8ms inference, 1.1ms postprocess per image at shape (1, 3, 384, 640)\n"
          ]
        },
        {
          "output_type": "stream",
          "name": "stderr",
          "text": [
            "\rProcessing:   2%|▏         | 153/9184 [00:19<17:52,  8.42it/s]"
          ]
        },
        {
          "output_type": "stream",
          "name": "stdout",
          "text": [
            "\n",
            "0: 384x640 2 persons, 8 cars, 1 truck, 77.2ms\n",
            "Speed: 2.2ms preprocess, 77.2ms inference, 1.0ms postprocess per image at shape (1, 3, 384, 640)\n"
          ]
        },
        {
          "output_type": "stream",
          "name": "stderr",
          "text": [
            "\rProcessing:   2%|▏         | 154/9184 [00:19<17:28,  8.61it/s]"
          ]
        },
        {
          "output_type": "stream",
          "name": "stdout",
          "text": [
            "\n",
            "0: 384x640 2 persons, 8 cars, 79.3ms\n",
            "Speed: 2.2ms preprocess, 79.3ms inference, 1.0ms postprocess per image at shape (1, 3, 384, 640)\n"
          ]
        },
        {
          "output_type": "stream",
          "name": "stderr",
          "text": [
            "\rProcessing:   2%|▏         | 155/9184 [00:19<17:14,  8.73it/s]"
          ]
        },
        {
          "output_type": "stream",
          "name": "stdout",
          "text": [
            "\n",
            "0: 384x640 2 persons, 8 cars, 77.1ms\n",
            "Speed: 2.3ms preprocess, 77.1ms inference, 1.0ms postprocess per image at shape (1, 3, 384, 640)\n"
          ]
        },
        {
          "output_type": "stream",
          "name": "stderr",
          "text": [
            "\rProcessing:   2%|▏         | 156/9184 [00:19<16:50,  8.94it/s]"
          ]
        },
        {
          "output_type": "stream",
          "name": "stdout",
          "text": [
            "\n",
            "0: 384x640 2 persons, 8 cars, 80.2ms\n",
            "Speed: 2.5ms preprocess, 80.2ms inference, 1.0ms postprocess per image at shape (1, 3, 384, 640)\n"
          ]
        },
        {
          "output_type": "stream",
          "name": "stderr",
          "text": [
            "\rProcessing:   2%|▏         | 157/9184 [00:19<19:17,  7.80it/s]"
          ]
        },
        {
          "output_type": "stream",
          "name": "stdout",
          "text": [
            "\n",
            "0: 384x640 2 persons, 8 cars, 72.8ms\n",
            "Speed: 2.5ms preprocess, 72.8ms inference, 1.0ms postprocess per image at shape (1, 3, 384, 640)\n"
          ]
        },
        {
          "output_type": "stream",
          "name": "stderr",
          "text": [
            "\rProcessing:   2%|▏         | 158/9184 [00:19<18:28,  8.14it/s]"
          ]
        },
        {
          "output_type": "stream",
          "name": "stdout",
          "text": [
            "\n",
            "0: 384x640 2 persons, 9 cars, 1 truck, 76.7ms\n",
            "Speed: 2.3ms preprocess, 76.7ms inference, 1.0ms postprocess per image at shape (1, 3, 384, 640)\n"
          ]
        },
        {
          "output_type": "stream",
          "name": "stderr",
          "text": [
            "\rProcessing:   2%|▏         | 159/9184 [00:19<17:42,  8.50it/s]"
          ]
        },
        {
          "output_type": "stream",
          "name": "stdout",
          "text": [
            "\n",
            "0: 384x640 2 persons, 8 cars, 1 truck, 79.5ms\n",
            "Speed: 2.2ms preprocess, 79.5ms inference, 1.0ms postprocess per image at shape (1, 3, 384, 640)\n"
          ]
        },
        {
          "output_type": "stream",
          "name": "stderr",
          "text": [
            "\rProcessing:   2%|▏         | 160/9184 [00:20<17:22,  8.66it/s]"
          ]
        },
        {
          "output_type": "stream",
          "name": "stdout",
          "text": [
            "\n",
            "0: 384x640 3 persons, 8 cars, 77.7ms\n",
            "Speed: 2.3ms preprocess, 77.7ms inference, 1.0ms postprocess per image at shape (1, 3, 384, 640)\n"
          ]
        },
        {
          "output_type": "stream",
          "name": "stderr",
          "text": [
            "\rProcessing:   2%|▏         | 161/9184 [00:20<17:04,  8.81it/s]"
          ]
        },
        {
          "output_type": "stream",
          "name": "stdout",
          "text": [
            "\n",
            "0: 384x640 3 persons, 8 cars, 1 bus, 1 truck, 1 boat, 71.7ms\n",
            "Speed: 2.5ms preprocess, 71.7ms inference, 1.1ms postprocess per image at shape (1, 3, 384, 640)\n"
          ]
        },
        {
          "output_type": "stream",
          "name": "stderr",
          "text": [
            "\rProcessing:   2%|▏         | 162/9184 [00:20<16:51,  8.92it/s]"
          ]
        },
        {
          "output_type": "stream",
          "name": "stdout",
          "text": [
            "\n",
            "0: 384x640 3 persons, 8 cars, 40.0ms\n",
            "Speed: 2.2ms preprocess, 40.0ms inference, 1.1ms postprocess per image at shape (1, 3, 384, 640)\n"
          ]
        },
        {
          "output_type": "stream",
          "name": "stderr",
          "text": [
            "\rProcessing:   2%|▏         | 163/9184 [00:20<19:03,  7.89it/s]"
          ]
        },
        {
          "output_type": "stream",
          "name": "stdout",
          "text": [
            "\n",
            "0: 384x640 3 persons, 9 cars, 76.0ms\n",
            "Speed: 2.4ms preprocess, 76.0ms inference, 1.1ms postprocess per image at shape (1, 3, 384, 640)\n"
          ]
        },
        {
          "output_type": "stream",
          "name": "stderr",
          "text": [
            "\rProcessing:   2%|▏         | 164/9184 [00:20<18:10,  8.27it/s]"
          ]
        },
        {
          "output_type": "stream",
          "name": "stdout",
          "text": [
            "\n",
            "0: 384x640 3 persons, 8 cars, 80.2ms\n",
            "Speed: 2.2ms preprocess, 80.2ms inference, 1.1ms postprocess per image at shape (1, 3, 384, 640)\n"
          ]
        },
        {
          "output_type": "stream",
          "name": "stderr",
          "text": [
            "\rProcessing:   2%|▏         | 165/9184 [00:20<17:35,  8.55it/s]"
          ]
        },
        {
          "output_type": "stream",
          "name": "stdout",
          "text": [
            "\n",
            "0: 384x640 3 persons, 8 cars, 77.4ms\n",
            "Speed: 2.3ms preprocess, 77.4ms inference, 0.9ms postprocess per image at shape (1, 3, 384, 640)\n"
          ]
        },
        {
          "output_type": "stream",
          "name": "stderr",
          "text": [
            "\rProcessing:   2%|▏         | 166/9184 [00:20<17:10,  8.75it/s]"
          ]
        },
        {
          "output_type": "stream",
          "name": "stdout",
          "text": [
            "\n",
            "0: 384x640 3 persons, 8 cars, 79.4ms\n",
            "Speed: 2.4ms preprocess, 79.4ms inference, 1.0ms postprocess per image at shape (1, 3, 384, 640)\n"
          ]
        },
        {
          "output_type": "stream",
          "name": "stderr",
          "text": [
            "\rProcessing:   2%|▏         | 167/9184 [00:20<17:01,  8.83it/s]"
          ]
        },
        {
          "output_type": "stream",
          "name": "stdout",
          "text": [
            "\n",
            "0: 384x640 3 persons, 7 cars, 77.3ms\n",
            "Speed: 2.3ms preprocess, 77.3ms inference, 1.0ms postprocess per image at shape (1, 3, 384, 640)\n"
          ]
        },
        {
          "output_type": "stream",
          "name": "stderr",
          "text": [
            "\rProcessing:   2%|▏         | 168/9184 [00:20<16:40,  9.01it/s]"
          ]
        },
        {
          "output_type": "stream",
          "name": "stdout",
          "text": [
            "\n",
            "0: 384x640 3 persons, 7 cars, 40.2ms\n",
            "Speed: 2.2ms preprocess, 40.2ms inference, 1.1ms postprocess per image at shape (1, 3, 384, 640)\n"
          ]
        },
        {
          "output_type": "stream",
          "name": "stderr",
          "text": [
            "\rProcessing:   2%|▏         | 169/9184 [00:21<18:53,  7.96it/s]"
          ]
        },
        {
          "output_type": "stream",
          "name": "stdout",
          "text": [
            "\n",
            "0: 384x640 3 persons, 7 cars, 73.3ms\n",
            "Speed: 2.1ms preprocess, 73.3ms inference, 1.2ms postprocess per image at shape (1, 3, 384, 640)\n"
          ]
        },
        {
          "output_type": "stream",
          "name": "stderr",
          "text": [
            "\rProcessing:   2%|▏         | 170/9184 [00:21<18:05,  8.31it/s]"
          ]
        },
        {
          "output_type": "stream",
          "name": "stdout",
          "text": [
            "\n",
            "0: 384x640 3 persons, 7 cars, 78.7ms\n",
            "Speed: 2.2ms preprocess, 78.7ms inference, 1.0ms postprocess per image at shape (1, 3, 384, 640)\n"
          ]
        },
        {
          "output_type": "stream",
          "name": "stderr",
          "text": [
            "\rProcessing:   2%|▏         | 171/9184 [00:21<17:27,  8.60it/s]"
          ]
        },
        {
          "output_type": "stream",
          "name": "stdout",
          "text": [
            "\n",
            "0: 384x640 3 persons, 7 cars, 79.5ms\n",
            "Speed: 2.1ms preprocess, 79.5ms inference, 1.0ms postprocess per image at shape (1, 3, 384, 640)\n"
          ]
        },
        {
          "output_type": "stream",
          "name": "stderr",
          "text": [
            "\rProcessing:   2%|▏         | 172/9184 [00:21<17:02,  8.81it/s]"
          ]
        },
        {
          "output_type": "stream",
          "name": "stdout",
          "text": [
            "\n",
            "0: 384x640 3 persons, 8 cars, 79.6ms\n",
            "Speed: 2.3ms preprocess, 79.6ms inference, 1.0ms postprocess per image at shape (1, 3, 384, 640)\n"
          ]
        },
        {
          "output_type": "stream",
          "name": "stderr",
          "text": [
            "\rProcessing:   2%|▏         | 173/9184 [00:21<16:55,  8.88it/s]"
          ]
        },
        {
          "output_type": "stream",
          "name": "stdout",
          "text": [
            "\n",
            "0: 384x640 3 persons, 7 cars, 78.7ms\n",
            "Speed: 2.5ms preprocess, 78.7ms inference, 1.0ms postprocess per image at shape (1, 3, 384, 640)\n"
          ]
        },
        {
          "output_type": "stream",
          "name": "stderr",
          "text": [
            "\rProcessing:   2%|▏         | 174/9184 [00:21<16:36,  9.04it/s]"
          ]
        },
        {
          "output_type": "stream",
          "name": "stdout",
          "text": [
            "\n",
            "0: 384x640 3 persons, 7 cars, 38.2ms\n",
            "Speed: 2.2ms preprocess, 38.2ms inference, 0.9ms postprocess per image at shape (1, 3, 384, 640)\n"
          ]
        },
        {
          "output_type": "stream",
          "name": "stderr",
          "text": [
            "\rProcessing:   2%|▏         | 175/9184 [00:21<18:47,  7.99it/s]"
          ]
        },
        {
          "output_type": "stream",
          "name": "stdout",
          "text": [
            "\n",
            "0: 384x640 3 persons, 8 cars, 76.9ms\n",
            "Speed: 2.3ms preprocess, 76.9ms inference, 1.0ms postprocess per image at shape (1, 3, 384, 640)\n"
          ]
        },
        {
          "output_type": "stream",
          "name": "stderr",
          "text": [
            "\rProcessing:   2%|▏         | 176/9184 [00:21<18:04,  8.31it/s]"
          ]
        },
        {
          "output_type": "stream",
          "name": "stdout",
          "text": [
            "\n",
            "0: 384x640 3 persons, 8 cars, 78.7ms\n",
            "Speed: 2.1ms preprocess, 78.7ms inference, 1.0ms postprocess per image at shape (1, 3, 384, 640)\n"
          ]
        },
        {
          "output_type": "stream",
          "name": "stderr",
          "text": [
            "\rProcessing:   2%|▏         | 177/9184 [00:22<17:25,  8.62it/s]"
          ]
        },
        {
          "output_type": "stream",
          "name": "stdout",
          "text": [
            "\n",
            "0: 384x640 3 persons, 8 cars, 78.8ms\n",
            "Speed: 2.2ms preprocess, 78.8ms inference, 1.0ms postprocess per image at shape (1, 3, 384, 640)\n"
          ]
        },
        {
          "output_type": "stream",
          "name": "stderr",
          "text": [
            "\rProcessing:   2%|▏         | 178/9184 [00:22<17:06,  8.77it/s]"
          ]
        },
        {
          "output_type": "stream",
          "name": "stdout",
          "text": [
            "\n",
            "0: 384x640 3 persons, 9 cars, 82.2ms\n",
            "Speed: 2.3ms preprocess, 82.2ms inference, 1.3ms postprocess per image at shape (1, 3, 384, 640)\n"
          ]
        },
        {
          "output_type": "stream",
          "name": "stderr",
          "text": [
            "\rProcessing:   2%|▏         | 179/9184 [00:22<17:05,  8.78it/s]"
          ]
        },
        {
          "output_type": "stream",
          "name": "stdout",
          "text": [
            "\n",
            "0: 384x640 3 persons, 10 cars, 40.6ms\n",
            "Speed: 41.4ms preprocess, 40.6ms inference, 1.0ms postprocess per image at shape (1, 3, 384, 640)\n"
          ]
        },
        {
          "output_type": "stream",
          "name": "stderr",
          "text": [
            "\rProcessing:   2%|▏         | 180/9184 [00:22<19:11,  7.82it/s]"
          ]
        },
        {
          "output_type": "stream",
          "name": "stdout",
          "text": [
            "\n",
            "0: 384x640 3 persons, 7 cars, 38.6ms\n",
            "Speed: 2.1ms preprocess, 38.6ms inference, 37.2ms postprocess per image at shape (1, 3, 384, 640)\n"
          ]
        },
        {
          "output_type": "stream",
          "name": "stderr",
          "text": [
            "\rProcessing:   2%|▏         | 181/9184 [00:22<18:08,  8.27it/s]"
          ]
        },
        {
          "output_type": "stream",
          "name": "stdout",
          "text": [
            "\n",
            "0: 384x640 1 person, 10 cars, 75.1ms\n",
            "Speed: 2.1ms preprocess, 75.1ms inference, 1.1ms postprocess per image at shape (1, 3, 384, 640)\n"
          ]
        },
        {
          "output_type": "stream",
          "name": "stderr",
          "text": [
            "\rProcessing:   2%|▏         | 182/9184 [00:22<17:44,  8.46it/s]"
          ]
        },
        {
          "output_type": "stream",
          "name": "stdout",
          "text": [
            "\n",
            "0: 384x640 2 persons, 9 cars, 80.3ms\n",
            "Speed: 2.3ms preprocess, 80.3ms inference, 1.0ms postprocess per image at shape (1, 3, 384, 640)\n"
          ]
        },
        {
          "output_type": "stream",
          "name": "stderr",
          "text": [
            "\rProcessing:   2%|▏         | 183/9184 [00:22<17:13,  8.71it/s]"
          ]
        },
        {
          "output_type": "stream",
          "name": "stdout",
          "text": [
            "\n",
            "0: 384x640 2 persons, 10 cars, 82.4ms\n",
            "Speed: 2.2ms preprocess, 82.4ms inference, 1.0ms postprocess per image at shape (1, 3, 384, 640)\n"
          ]
        },
        {
          "output_type": "stream",
          "name": "stderr",
          "text": [
            "\rProcessing:   2%|▏         | 184/9184 [00:22<17:07,  8.76it/s]"
          ]
        },
        {
          "output_type": "stream",
          "name": "stdout",
          "text": [
            "\n",
            "0: 384x640 1 person, 9 cars, 77.7ms\n",
            "Speed: 2.3ms preprocess, 77.7ms inference, 1.0ms postprocess per image at shape (1, 3, 384, 640)\n"
          ]
        },
        {
          "output_type": "stream",
          "name": "stderr",
          "text": [
            "\rProcessing:   2%|▏         | 185/9184 [00:22<16:55,  8.87it/s]"
          ]
        },
        {
          "output_type": "stream",
          "name": "stdout",
          "text": [
            "\n",
            "0: 384x640 1 person, 7 cars, 38.2ms\n",
            "Speed: 2.3ms preprocess, 38.2ms inference, 1.1ms postprocess per image at shape (1, 3, 384, 640)\n"
          ]
        },
        {
          "output_type": "stream",
          "name": "stderr",
          "text": [
            "\rProcessing:   2%|▏         | 186/9184 [00:23<17:03,  8.79it/s]"
          ]
        },
        {
          "output_type": "stream",
          "name": "stdout",
          "text": [
            "\n",
            "0: 384x640 1 person, 8 cars, 81.8ms\n",
            "Speed: 2.4ms preprocess, 81.8ms inference, 1.1ms postprocess per image at shape (1, 3, 384, 640)\n"
          ]
        },
        {
          "output_type": "stream",
          "name": "stderr",
          "text": [
            "\rProcessing:   2%|▏         | 187/9184 [00:23<18:33,  8.08it/s]"
          ]
        },
        {
          "output_type": "stream",
          "name": "stdout",
          "text": [
            "\n",
            "0: 384x640 1 person, 10 cars, 81.3ms\n",
            "Speed: 2.4ms preprocess, 81.3ms inference, 1.2ms postprocess per image at shape (1, 3, 384, 640)\n"
          ]
        },
        {
          "output_type": "stream",
          "name": "stderr",
          "text": [
            "\rProcessing:   2%|▏         | 188/9184 [00:23<18:08,  8.26it/s]"
          ]
        },
        {
          "output_type": "stream",
          "name": "stdout",
          "text": [
            "\n",
            "0: 384x640 1 person, 8 cars, 80.8ms\n",
            "Speed: 2.4ms preprocess, 80.8ms inference, 1.1ms postprocess per image at shape (1, 3, 384, 640)\n"
          ]
        },
        {
          "output_type": "stream",
          "name": "stderr",
          "text": [
            "\rProcessing:   2%|▏         | 189/9184 [00:23<17:39,  8.49it/s]"
          ]
        },
        {
          "output_type": "stream",
          "name": "stdout",
          "text": [
            "\n",
            "0: 384x640 1 person, 9 cars, 79.1ms\n",
            "Speed: 2.2ms preprocess, 79.1ms inference, 1.0ms postprocess per image at shape (1, 3, 384, 640)\n"
          ]
        },
        {
          "output_type": "stream",
          "name": "stderr",
          "text": [
            "\rProcessing:   2%|▏         | 190/9184 [00:23<17:19,  8.66it/s]"
          ]
        },
        {
          "output_type": "stream",
          "name": "stdout",
          "text": [
            "\n",
            "0: 384x640 1 person, 9 cars, 38.4ms\n",
            "Speed: 2.4ms preprocess, 38.4ms inference, 1.1ms postprocess per image at shape (1, 3, 384, 640)\n"
          ]
        },
        {
          "output_type": "stream",
          "name": "stderr",
          "text": [
            "\rProcessing:   2%|▏         | 191/9184 [00:23<19:19,  7.76it/s]"
          ]
        },
        {
          "output_type": "stream",
          "name": "stdout",
          "text": [
            "\n",
            "0: 384x640 1 person, 10 cars, 76.4ms\n",
            "Speed: 2.2ms preprocess, 76.4ms inference, 1.1ms postprocess per image at shape (1, 3, 384, 640)\n"
          ]
        },
        {
          "output_type": "stream",
          "name": "stderr",
          "text": [
            "\rProcessing:   2%|▏         | 192/9184 [00:23<18:14,  8.22it/s]"
          ]
        },
        {
          "output_type": "stream",
          "name": "stdout",
          "text": [
            "\n",
            "0: 384x640 1 person, 9 cars, 79.0ms\n",
            "Speed: 2.2ms preprocess, 79.0ms inference, 1.1ms postprocess per image at shape (1, 3, 384, 640)\n"
          ]
        },
        {
          "output_type": "stream",
          "name": "stderr",
          "text": [
            "\rProcessing:   2%|▏         | 193/9184 [00:23<17:44,  8.45it/s]"
          ]
        },
        {
          "output_type": "stream",
          "name": "stdout",
          "text": [
            "\n",
            "0: 384x640 1 person, 11 cars, 75.4ms\n",
            "Speed: 2.2ms preprocess, 75.4ms inference, 1.0ms postprocess per image at shape (1, 3, 384, 640)\n"
          ]
        },
        {
          "output_type": "stream",
          "name": "stderr",
          "text": [
            "\rProcessing:   2%|▏         | 194/9184 [00:24<17:29,  8.57it/s]"
          ]
        },
        {
          "output_type": "stream",
          "name": "stdout",
          "text": [
            "\n",
            "0: 384x640 1 person, 9 cars, 77.3ms\n",
            "Speed: 2.6ms preprocess, 77.3ms inference, 1.0ms postprocess per image at shape (1, 3, 384, 640)\n"
          ]
        },
        {
          "output_type": "stream",
          "name": "stderr",
          "text": [
            "\rProcessing:   2%|▏         | 195/9184 [00:24<17:03,  8.79it/s]"
          ]
        },
        {
          "output_type": "stream",
          "name": "stdout",
          "text": [
            "\n",
            "0: 384x640 1 person, 9 cars, 39.7ms\n",
            "Speed: 2.3ms preprocess, 39.7ms inference, 1.0ms postprocess per image at shape (1, 3, 384, 640)\n"
          ]
        },
        {
          "output_type": "stream",
          "name": "stderr",
          "text": [
            "\rProcessing:   2%|▏         | 196/9184 [00:24<17:19,  8.64it/s]"
          ]
        },
        {
          "output_type": "stream",
          "name": "stdout",
          "text": [
            "\n",
            "0: 384x640 1 person, 9 cars, 83.9ms\n",
            "Speed: 2.3ms preprocess, 83.9ms inference, 1.0ms postprocess per image at shape (1, 3, 384, 640)\n"
          ]
        },
        {
          "output_type": "stream",
          "name": "stderr",
          "text": [
            "\rProcessing:   2%|▏         | 197/9184 [00:24<18:53,  7.93it/s]"
          ]
        },
        {
          "output_type": "stream",
          "name": "stdout",
          "text": [
            "\n",
            "0: 384x640 1 person, 10 cars, 1 truck, 78.2ms\n",
            "Speed: 2.5ms preprocess, 78.2ms inference, 1.0ms postprocess per image at shape (1, 3, 384, 640)\n"
          ]
        },
        {
          "output_type": "stream",
          "name": "stderr",
          "text": [
            "\rProcessing:   2%|▏         | 198/9184 [00:24<18:01,  8.31it/s]"
          ]
        },
        {
          "output_type": "stream",
          "name": "stdout",
          "text": [
            "\n",
            "0: 384x640 1 person, 11 cars, 1 truck, 78.7ms\n",
            "Speed: 2.3ms preprocess, 78.7ms inference, 0.9ms postprocess per image at shape (1, 3, 384, 640)\n"
          ]
        },
        {
          "output_type": "stream",
          "name": "stderr",
          "text": [
            "\rProcessing:   2%|▏         | 199/9184 [00:24<17:31,  8.55it/s]"
          ]
        },
        {
          "output_type": "stream",
          "name": "stdout",
          "text": [
            "\n",
            "0: 384x640 1 person, 10 cars, 79.0ms\n",
            "Speed: 2.2ms preprocess, 79.0ms inference, 1.0ms postprocess per image at shape (1, 3, 384, 640)\n"
          ]
        },
        {
          "output_type": "stream",
          "name": "stderr",
          "text": [
            "\rProcessing:   2%|▏         | 200/9184 [00:24<17:09,  8.72it/s]"
          ]
        },
        {
          "output_type": "stream",
          "name": "stdout",
          "text": [
            "\n",
            "0: 384x640 1 person, 10 cars, 1 truck, 80.0ms\n",
            "Speed: 2.3ms preprocess, 80.0ms inference, 1.0ms postprocess per image at shape (1, 3, 384, 640)\n"
          ]
        },
        {
          "output_type": "stream",
          "name": "stderr",
          "text": [
            "\rProcessing:   2%|▏         | 201/9184 [00:24<16:54,  8.86it/s]"
          ]
        },
        {
          "output_type": "stream",
          "name": "stdout",
          "text": [
            "\n",
            "0: 384x640 1 person, 8 cars, 1 truck, 39.0ms\n",
            "Speed: 2.2ms preprocess, 39.0ms inference, 1.0ms postprocess per image at shape (1, 3, 384, 640)\n"
          ]
        },
        {
          "output_type": "stream",
          "name": "stderr",
          "text": [
            "\rProcessing:   2%|▏         | 202/9184 [00:25<18:54,  7.91it/s]"
          ]
        },
        {
          "output_type": "stream",
          "name": "stdout",
          "text": [
            "\n",
            "0: 384x640 1 person, 10 cars, 77.8ms\n",
            "Speed: 2.2ms preprocess, 77.8ms inference, 1.1ms postprocess per image at shape (1, 3, 384, 640)\n"
          ]
        },
        {
          "output_type": "stream",
          "name": "stderr",
          "text": [
            "\rProcessing:   2%|▏         | 203/9184 [00:25<18:11,  8.23it/s]"
          ]
        },
        {
          "output_type": "stream",
          "name": "stdout",
          "text": [
            "\n",
            "0: 384x640 2 persons, 10 cars, 1 truck, 79.6ms\n",
            "Speed: 2.1ms preprocess, 79.6ms inference, 1.1ms postprocess per image at shape (1, 3, 384, 640)\n"
          ]
        },
        {
          "output_type": "stream",
          "name": "stderr",
          "text": [
            "\rProcessing:   2%|▏         | 204/9184 [00:25<17:35,  8.51it/s]"
          ]
        },
        {
          "output_type": "stream",
          "name": "stdout",
          "text": [
            "\n",
            "0: 384x640 1 person, 12 cars, 82.7ms\n",
            "Speed: 2.2ms preprocess, 82.7ms inference, 1.1ms postprocess per image at shape (1, 3, 384, 640)\n"
          ]
        },
        {
          "output_type": "stream",
          "name": "stderr",
          "text": [
            "\rProcessing:   2%|▏         | 205/9184 [00:25<17:23,  8.61it/s]"
          ]
        },
        {
          "output_type": "stream",
          "name": "stdout",
          "text": [
            "\n",
            "0: 384x640 1 person, 11 cars, 72.2ms\n",
            "Speed: 2.3ms preprocess, 72.2ms inference, 1.1ms postprocess per image at shape (1, 3, 384, 640)\n"
          ]
        },
        {
          "output_type": "stream",
          "name": "stderr",
          "text": [
            "\rProcessing:   2%|▏         | 206/9184 [00:25<19:35,  7.64it/s]"
          ]
        },
        {
          "output_type": "stream",
          "name": "stdout",
          "text": [
            "\n",
            "0: 384x640 1 person, 11 cars, 37.8ms\n",
            "Speed: 2.1ms preprocess, 37.8ms inference, 1.0ms postprocess per image at shape (1, 3, 384, 640)\n",
            "\n",
            "0: 384x640 2 persons, 13 cars, 81.8ms\n",
            "Speed: 2.2ms preprocess, 81.8ms inference, 1.2ms postprocess per image at shape (1, 3, 384, 640)\n"
          ]
        },
        {
          "output_type": "stream",
          "name": "stderr",
          "text": [
            "\rProcessing:   2%|▏         | 208/9184 [00:25<17:44,  8.44it/s]"
          ]
        },
        {
          "output_type": "stream",
          "name": "stdout",
          "text": [
            "\n",
            "0: 384x640 3 persons, 11 cars, 77.2ms\n",
            "Speed: 2.1ms preprocess, 77.2ms inference, 1.0ms postprocess per image at shape (1, 3, 384, 640)\n"
          ]
        },
        {
          "output_type": "stream",
          "name": "stderr",
          "text": [
            "\rProcessing:   2%|▏         | 209/9184 [00:25<17:24,  8.60it/s]"
          ]
        },
        {
          "output_type": "stream",
          "name": "stdout",
          "text": [
            "\n",
            "0: 384x640 3 persons, 11 cars, 75.3ms\n",
            "Speed: 2.1ms preprocess, 75.3ms inference, 1.1ms postprocess per image at shape (1, 3, 384, 640)\n"
          ]
        },
        {
          "output_type": "stream",
          "name": "stderr",
          "text": [
            "\rProcessing:   2%|▏         | 210/9184 [00:25<16:58,  8.81it/s]"
          ]
        },
        {
          "output_type": "stream",
          "name": "stdout",
          "text": [
            "\n",
            "0: 384x640 2 persons, 11 cars, 82.4ms\n",
            "Speed: 2.2ms preprocess, 82.4ms inference, 1.1ms postprocess per image at shape (1, 3, 384, 640)\n"
          ]
        },
        {
          "output_type": "stream",
          "name": "stderr",
          "text": [
            "\rProcessing:   2%|▏         | 211/9184 [00:26<16:57,  8.82it/s]"
          ]
        },
        {
          "output_type": "stream",
          "name": "stdout",
          "text": [
            "\n",
            "0: 384x640 3 persons, 12 cars, 80.1ms\n",
            "Speed: 2.2ms preprocess, 80.1ms inference, 1.0ms postprocess per image at shape (1, 3, 384, 640)\n"
          ]
        },
        {
          "output_type": "stream",
          "name": "stderr",
          "text": [
            "\rProcessing:   2%|▏         | 212/9184 [00:26<19:11,  7.79it/s]"
          ]
        },
        {
          "output_type": "stream",
          "name": "stdout",
          "text": [
            "\n",
            "0: 384x640 3 persons, 9 cars, 76.7ms\n",
            "Speed: 2.1ms preprocess, 76.7ms inference, 1.0ms postprocess per image at shape (1, 3, 384, 640)\n"
          ]
        },
        {
          "output_type": "stream",
          "name": "stderr",
          "text": [
            "\rProcessing:   2%|▏         | 213/9184 [00:26<18:15,  8.19it/s]"
          ]
        },
        {
          "output_type": "stream",
          "name": "stdout",
          "text": [
            "\n",
            "0: 384x640 2 persons, 9 cars, 82.8ms\n",
            "Speed: 2.3ms preprocess, 82.8ms inference, 1.1ms postprocess per image at shape (1, 3, 384, 640)\n"
          ]
        },
        {
          "output_type": "stream",
          "name": "stderr",
          "text": [
            "\rProcessing:   2%|▏         | 214/9184 [00:26<17:54,  8.35it/s]"
          ]
        },
        {
          "output_type": "stream",
          "name": "stdout",
          "text": [
            "\n",
            "0: 384x640 3 persons, 9 cars, 78.1ms\n",
            "Speed: 2.1ms preprocess, 78.1ms inference, 1.0ms postprocess per image at shape (1, 3, 384, 640)\n"
          ]
        },
        {
          "output_type": "stream",
          "name": "stderr",
          "text": [
            "\rProcessing:   2%|▏         | 215/9184 [00:26<17:27,  8.56it/s]"
          ]
        },
        {
          "output_type": "stream",
          "name": "stdout",
          "text": [
            "\n",
            "0: 384x640 3 persons, 9 cars, 77.4ms\n",
            "Speed: 2.1ms preprocess, 77.4ms inference, 1.0ms postprocess per image at shape (1, 3, 384, 640)\n"
          ]
        },
        {
          "output_type": "stream",
          "name": "stderr",
          "text": [
            "\rProcessing:   2%|▏         | 216/9184 [00:26<16:58,  8.80it/s]"
          ]
        },
        {
          "output_type": "stream",
          "name": "stdout",
          "text": [
            "\n",
            "0: 384x640 3 persons, 8 cars, 39.6ms\n",
            "Speed: 2.3ms preprocess, 39.6ms inference, 1.0ms postprocess per image at shape (1, 3, 384, 640)\n"
          ]
        },
        {
          "output_type": "stream",
          "name": "stderr",
          "text": [
            "\rProcessing:   2%|▏         | 217/9184 [00:26<17:01,  8.78it/s]"
          ]
        },
        {
          "output_type": "stream",
          "name": "stdout",
          "text": [
            "\n",
            "0: 384x640 2 persons, 8 cars, 38.0ms\n",
            "Speed: 2.2ms preprocess, 38.0ms inference, 1.0ms postprocess per image at shape (1, 3, 384, 640)\n"
          ]
        },
        {
          "output_type": "stream",
          "name": "stderr",
          "text": [
            "\rProcessing:   2%|▏         | 218/9184 [00:26<18:43,  7.98it/s]"
          ]
        },
        {
          "output_type": "stream",
          "name": "stdout",
          "text": [
            "\n",
            "0: 384x640 3 persons, 8 cars, 80.6ms\n",
            "Speed: 2.4ms preprocess, 80.6ms inference, 1.0ms postprocess per image at shape (1, 3, 384, 640)\n"
          ]
        },
        {
          "output_type": "stream",
          "name": "stderr",
          "text": [
            "\rProcessing:   2%|▏         | 219/9184 [00:27<18:00,  8.30it/s]"
          ]
        },
        {
          "output_type": "stream",
          "name": "stdout",
          "text": [
            "\n",
            "0: 384x640 2 persons, 7 cars, 82.2ms\n",
            "Speed: 2.4ms preprocess, 82.2ms inference, 1.1ms postprocess per image at shape (1, 3, 384, 640)\n"
          ]
        },
        {
          "output_type": "stream",
          "name": "stderr",
          "text": [
            "\rProcessing:   2%|▏         | 220/9184 [00:27<17:38,  8.47it/s]"
          ]
        },
        {
          "output_type": "stream",
          "name": "stdout",
          "text": [
            "\n",
            "0: 384x640 2 persons, 8 cars, 1 bus, 84.8ms\n",
            "Speed: 2.2ms preprocess, 84.8ms inference, 1.2ms postprocess per image at shape (1, 3, 384, 640)\n"
          ]
        },
        {
          "output_type": "stream",
          "name": "stderr",
          "text": [
            "\rProcessing:   2%|▏         | 221/9184 [00:27<17:35,  8.49it/s]"
          ]
        },
        {
          "output_type": "stream",
          "name": "stdout",
          "text": [
            "\n",
            "0: 384x640 2 persons, 8 cars, 1 bus, 40.6ms\n",
            "Speed: 2.2ms preprocess, 40.6ms inference, 1.1ms postprocess per image at shape (1, 3, 384, 640)\n"
          ]
        },
        {
          "output_type": "stream",
          "name": "stderr",
          "text": [
            "\rProcessing:   2%|▏         | 222/9184 [00:27<19:26,  7.68it/s]"
          ]
        },
        {
          "output_type": "stream",
          "name": "stdout",
          "text": [
            "\n",
            "0: 384x640 3 persons, 9 cars, 77.1ms\n",
            "Speed: 2.4ms preprocess, 77.1ms inference, 1.3ms postprocess per image at shape (1, 3, 384, 640)\n"
          ]
        },
        {
          "output_type": "stream",
          "name": "stderr",
          "text": [
            "\rProcessing:   2%|▏         | 223/9184 [00:27<18:26,  8.10it/s]"
          ]
        },
        {
          "output_type": "stream",
          "name": "stdout",
          "text": [
            "\n",
            "0: 384x640 3 persons, 8 cars, 81.5ms\n",
            "Speed: 2.5ms preprocess, 81.5ms inference, 1.1ms postprocess per image at shape (1, 3, 384, 640)\n"
          ]
        },
        {
          "output_type": "stream",
          "name": "stderr",
          "text": [
            "\rProcessing:   2%|▏         | 224/9184 [00:27<18:05,  8.25it/s]"
          ]
        },
        {
          "output_type": "stream",
          "name": "stdout",
          "text": [
            "\n",
            "0: 384x640 2 persons, 11 cars, 77.8ms\n",
            "Speed: 2.5ms preprocess, 77.8ms inference, 1.0ms postprocess per image at shape (1, 3, 384, 640)\n"
          ]
        },
        {
          "output_type": "stream",
          "name": "stderr",
          "text": [
            "\rProcessing:   2%|▏         | 225/9184 [00:27<17:33,  8.50it/s]"
          ]
        },
        {
          "output_type": "stream",
          "name": "stdout",
          "text": [
            "\n",
            "0: 384x640 2 persons, 10 cars, 38.5ms\n",
            "Speed: 40.5ms preprocess, 38.5ms inference, 1.0ms postprocess per image at shape (1, 3, 384, 640)\n"
          ]
        },
        {
          "output_type": "stream",
          "name": "stderr",
          "text": [
            "\rProcessing:   2%|▏         | 226/9184 [00:27<17:10,  8.69it/s]"
          ]
        },
        {
          "output_type": "stream",
          "name": "stdout",
          "text": [
            "\n",
            "0: 384x640 2 persons, 11 cars, 38.0ms\n",
            "Speed: 2.2ms preprocess, 38.0ms inference, 1.0ms postprocess per image at shape (1, 3, 384, 640)\n"
          ]
        },
        {
          "output_type": "stream",
          "name": "stderr",
          "text": [
            "\rProcessing:   2%|▏         | 227/9184 [00:28<19:11,  7.78it/s]"
          ]
        },
        {
          "output_type": "stream",
          "name": "stdout",
          "text": [
            "\n",
            "0: 384x640 1 person, 10 cars, 75.8ms\n",
            "Speed: 2.2ms preprocess, 75.8ms inference, 1.2ms postprocess per image at shape (1, 3, 384, 640)\n"
          ]
        },
        {
          "output_type": "stream",
          "name": "stderr",
          "text": [
            "\rProcessing:   2%|▏         | 228/9184 [00:28<18:10,  8.21it/s]"
          ]
        },
        {
          "output_type": "stream",
          "name": "stdout",
          "text": [
            "\n",
            "0: 384x640 3 persons, 10 cars, 77.8ms\n",
            "Speed: 2.2ms preprocess, 77.8ms inference, 1.0ms postprocess per image at shape (1, 3, 384, 640)\n"
          ]
        },
        {
          "output_type": "stream",
          "name": "stderr",
          "text": [
            "\rProcessing:   2%|▏         | 229/9184 [00:28<17:34,  8.49it/s]"
          ]
        },
        {
          "output_type": "stream",
          "name": "stdout",
          "text": [
            "\n",
            "0: 384x640 2 persons, 9 cars, 75.9ms\n",
            "Speed: 2.3ms preprocess, 75.9ms inference, 1.0ms postprocess per image at shape (1, 3, 384, 640)\n"
          ]
        },
        {
          "output_type": "stream",
          "name": "stderr",
          "text": [
            "\rProcessing:   3%|▎         | 230/9184 [00:28<17:17,  8.63it/s]"
          ]
        },
        {
          "output_type": "stream",
          "name": "stdout",
          "text": [
            "\n",
            "0: 384x640 2 persons, 6 cars, 76.2ms\n",
            "Speed: 2.2ms preprocess, 76.2ms inference, 1.0ms postprocess per image at shape (1, 3, 384, 640)\n"
          ]
        },
        {
          "output_type": "stream",
          "name": "stderr",
          "text": [
            "\rProcessing:   3%|▎         | 231/9184 [00:28<16:50,  8.86it/s]"
          ]
        },
        {
          "output_type": "stream",
          "name": "stdout",
          "text": [
            "\n",
            "0: 384x640 1 person, 9 cars, 38.1ms\n",
            "Speed: 2.2ms preprocess, 38.1ms inference, 1.0ms postprocess per image at shape (1, 3, 384, 640)\n"
          ]
        },
        {
          "output_type": "stream",
          "name": "stderr",
          "text": [
            "\rProcessing:   3%|▎         | 232/9184 [00:28<16:46,  8.89it/s]"
          ]
        },
        {
          "output_type": "stream",
          "name": "stdout",
          "text": [
            "\n",
            "0: 384x640 1 person, 8 cars, 1 bus, 1 truck, 36.1ms\n",
            "Speed: 2.0ms preprocess, 36.1ms inference, 1.0ms postprocess per image at shape (1, 3, 384, 640)\n"
          ]
        },
        {
          "output_type": "stream",
          "name": "stderr",
          "text": [
            "\rProcessing:   3%|▎         | 233/9184 [00:28<18:29,  8.07it/s]"
          ]
        },
        {
          "output_type": "stream",
          "name": "stdout",
          "text": [
            "\n",
            "0: 384x640 1 person, 9 cars, 77.3ms\n",
            "Speed: 2.2ms preprocess, 77.3ms inference, 1.0ms postprocess per image at shape (1, 3, 384, 640)\n"
          ]
        },
        {
          "output_type": "stream",
          "name": "stderr",
          "text": [
            "\rProcessing:   3%|▎         | 234/9184 [00:28<17:47,  8.38it/s]"
          ]
        },
        {
          "output_type": "stream",
          "name": "stdout",
          "text": [
            "\n",
            "0: 384x640 1 person, 7 cars, 1 bus, 78.4ms\n",
            "Speed: 2.4ms preprocess, 78.4ms inference, 1.0ms postprocess per image at shape (1, 3, 384, 640)\n"
          ]
        },
        {
          "output_type": "stream",
          "name": "stderr",
          "text": [
            "\rProcessing:   3%|▎         | 235/9184 [00:28<17:22,  8.58it/s]"
          ]
        },
        {
          "output_type": "stream",
          "name": "stdout",
          "text": [
            "\n",
            "0: 384x640 1 person, 9 cars, 1 bus, 76.8ms\n",
            "Speed: 2.2ms preprocess, 76.8ms inference, 1.0ms postprocess per image at shape (1, 3, 384, 640)\n"
          ]
        },
        {
          "output_type": "stream",
          "name": "stderr",
          "text": [
            "\rProcessing:   3%|▎         | 236/9184 [00:29<17:05,  8.72it/s]"
          ]
        },
        {
          "output_type": "stream",
          "name": "stdout",
          "text": [
            "\n",
            "0: 384x640 1 person, 8 cars, 1 bus, 1 truck, 75.5ms\n",
            "Speed: 2.2ms preprocess, 75.5ms inference, 1.1ms postprocess per image at shape (1, 3, 384, 640)\n"
          ]
        },
        {
          "output_type": "stream",
          "name": "stderr",
          "text": [
            "\rProcessing:   3%|▎         | 237/9184 [00:29<16:39,  8.95it/s]"
          ]
        },
        {
          "output_type": "stream",
          "name": "stdout",
          "text": [
            "\n",
            "0: 384x640 1 person, 7 cars, 1 bus, 1 train, 78.5ms\n",
            "Speed: 2.7ms preprocess, 78.5ms inference, 1.0ms postprocess per image at shape (1, 3, 384, 640)\n"
          ]
        },
        {
          "output_type": "stream",
          "name": "stderr",
          "text": [
            "\rProcessing:   3%|▎         | 238/9184 [00:29<16:36,  8.98it/s]"
          ]
        },
        {
          "output_type": "stream",
          "name": "stdout",
          "text": [
            "\n",
            "0: 384x640 1 person, 7 cars, 1 bus, 38.0ms\n",
            "Speed: 2.1ms preprocess, 38.0ms inference, 1.0ms postprocess per image at shape (1, 3, 384, 640)\n"
          ]
        },
        {
          "output_type": "stream",
          "name": "stderr",
          "text": [
            "\rProcessing:   3%|▎         | 239/9184 [00:29<18:50,  7.92it/s]"
          ]
        },
        {
          "output_type": "stream",
          "name": "stdout",
          "text": [
            "\n",
            "0: 384x640 2 persons, 11 cars, 1 bus, 78.6ms\n",
            "Speed: 2.2ms preprocess, 78.6ms inference, 1.0ms postprocess per image at shape (1, 3, 384, 640)\n"
          ]
        },
        {
          "output_type": "stream",
          "name": "stderr",
          "text": [
            "\rProcessing:   3%|▎         | 240/9184 [00:29<17:57,  8.30it/s]"
          ]
        },
        {
          "output_type": "stream",
          "name": "stdout",
          "text": [
            "\n",
            "0: 384x640 1 person, 10 cars, 77.4ms\n",
            "Speed: 2.4ms preprocess, 77.4ms inference, 1.1ms postprocess per image at shape (1, 3, 384, 640)\n"
          ]
        },
        {
          "output_type": "stream",
          "name": "stderr",
          "text": [
            "\rProcessing:   3%|▎         | 241/9184 [00:29<17:28,  8.53it/s]"
          ]
        },
        {
          "output_type": "stream",
          "name": "stdout",
          "text": [
            "\n",
            "0: 384x640 1 person, 8 cars, 1 bus, 1 train, 75.6ms\n",
            "Speed: 2.2ms preprocess, 75.6ms inference, 1.1ms postprocess per image at shape (1, 3, 384, 640)\n"
          ]
        },
        {
          "output_type": "stream",
          "name": "stderr",
          "text": [
            "\rProcessing:   3%|▎         | 242/9184 [00:29<17:16,  8.63it/s]"
          ]
        },
        {
          "output_type": "stream",
          "name": "stdout",
          "text": [
            "\n",
            "0: 384x640 2 persons, 9 cars, 1 bus, 81.7ms\n",
            "Speed: 2.1ms preprocess, 81.7ms inference, 1.0ms postprocess per image at shape (1, 3, 384, 640)\n"
          ]
        },
        {
          "output_type": "stream",
          "name": "stderr",
          "text": [
            "\rProcessing:   3%|▎         | 243/9184 [00:29<17:00,  8.76it/s]"
          ]
        },
        {
          "output_type": "stream",
          "name": "stdout",
          "text": [
            "\n",
            "0: 384x640 1 person, 8 cars, 1 bus, 2 trucks, 38.0ms\n",
            "Speed: 2.1ms preprocess, 38.0ms inference, 1.0ms postprocess per image at shape (1, 3, 384, 640)\n"
          ]
        },
        {
          "output_type": "stream",
          "name": "stderr",
          "text": [
            "\rProcessing:   3%|▎         | 244/9184 [00:30<18:59,  7.84it/s]"
          ]
        },
        {
          "output_type": "stream",
          "name": "stdout",
          "text": [
            "\n",
            "0: 384x640 1 person, 10 cars, 2 trucks, 76.1ms\n",
            "Speed: 2.3ms preprocess, 76.1ms inference, 1.0ms postprocess per image at shape (1, 3, 384, 640)\n"
          ]
        },
        {
          "output_type": "stream",
          "name": "stderr",
          "text": [
            "\rProcessing:   3%|▎         | 245/9184 [00:30<18:10,  8.19it/s]"
          ]
        },
        {
          "output_type": "stream",
          "name": "stdout",
          "text": [
            "\n",
            "0: 384x640 2 persons, 10 cars, 1 truck, 80.5ms\n",
            "Speed: 2.1ms preprocess, 80.5ms inference, 1.0ms postprocess per image at shape (1, 3, 384, 640)\n"
          ]
        },
        {
          "output_type": "stream",
          "name": "stderr",
          "text": [
            "\rProcessing:   3%|▎         | 246/9184 [00:30<17:34,  8.47it/s]"
          ]
        },
        {
          "output_type": "stream",
          "name": "stdout",
          "text": [
            "\n",
            "0: 384x640 1 person, 10 cars, 1 bus, 1 truck, 73.6ms\n",
            "Speed: 2.1ms preprocess, 73.6ms inference, 1.0ms postprocess per image at shape (1, 3, 384, 640)\n"
          ]
        },
        {
          "output_type": "stream",
          "name": "stderr",
          "text": [
            "\rProcessing:   3%|▎         | 247/9184 [00:30<17:13,  8.65it/s]"
          ]
        },
        {
          "output_type": "stream",
          "name": "stdout",
          "text": [
            "\n",
            "0: 384x640 1 person, 10 cars, 1 bus, 74.5ms\n",
            "Speed: 2.3ms preprocess, 74.5ms inference, 1.0ms postprocess per image at shape (1, 3, 384, 640)\n"
          ]
        },
        {
          "output_type": "stream",
          "name": "stderr",
          "text": [
            "\rProcessing:   3%|▎         | 248/9184 [00:30<16:55,  8.80it/s]"
          ]
        },
        {
          "output_type": "stream",
          "name": "stdout",
          "text": [
            "\n",
            "0: 384x640 1 person, 10 cars, 1 bus, 37.0ms\n",
            "Speed: 2.2ms preprocess, 37.0ms inference, 1.0ms postprocess per image at shape (1, 3, 384, 640)\n"
          ]
        },
        {
          "output_type": "stream",
          "name": "stderr",
          "text": [
            "\rProcessing:   3%|▎         | 249/9184 [00:30<16:44,  8.90it/s]"
          ]
        },
        {
          "output_type": "stream",
          "name": "stdout",
          "text": [
            "\n",
            "0: 384x640 1 person, 9 cars, 1 bus, 38.4ms\n",
            "Speed: 2.1ms preprocess, 38.4ms inference, 1.0ms postprocess per image at shape (1, 3, 384, 640)\n"
          ]
        },
        {
          "output_type": "stream",
          "name": "stderr",
          "text": [
            "\rProcessing:   3%|▎         | 250/9184 [00:30<18:33,  8.03it/s]"
          ]
        },
        {
          "output_type": "stream",
          "name": "stdout",
          "text": [
            "\n",
            "0: 384x640 1 person, 10 cars, 1 bus, 73.9ms\n",
            "Speed: 2.1ms preprocess, 73.9ms inference, 1.0ms postprocess per image at shape (1, 3, 384, 640)\n"
          ]
        },
        {
          "output_type": "stream",
          "name": "stderr",
          "text": [
            "\rProcessing:   3%|▎         | 251/9184 [00:30<17:53,  8.32it/s]"
          ]
        },
        {
          "output_type": "stream",
          "name": "stdout",
          "text": [
            "\n",
            "0: 384x640 1 person, 10 cars, 1 truck, 75.5ms\n",
            "Speed: 2.4ms preprocess, 75.5ms inference, 1.0ms postprocess per image at shape (1, 3, 384, 640)\n"
          ]
        },
        {
          "output_type": "stream",
          "name": "stderr",
          "text": [
            "\rProcessing:   3%|▎         | 252/9184 [00:30<17:19,  8.60it/s]"
          ]
        },
        {
          "output_type": "stream",
          "name": "stdout",
          "text": [
            "\n",
            "0: 384x640 1 person, 9 cars, 2 buss, 73.8ms\n",
            "Speed: 2.3ms preprocess, 73.8ms inference, 1.0ms postprocess per image at shape (1, 3, 384, 640)\n"
          ]
        },
        {
          "output_type": "stream",
          "name": "stderr",
          "text": [
            "\rProcessing:   3%|▎         | 253/9184 [00:31<16:56,  8.79it/s]"
          ]
        },
        {
          "output_type": "stream",
          "name": "stdout",
          "text": [
            "\n",
            "0: 384x640 1 person, 8 cars, 1 bus, 76.0ms\n",
            "Speed: 2.3ms preprocess, 76.0ms inference, 1.0ms postprocess per image at shape (1, 3, 384, 640)\n"
          ]
        },
        {
          "output_type": "stream",
          "name": "stderr",
          "text": [
            "\rProcessing:   3%|▎         | 254/9184 [00:31<16:53,  8.81it/s]"
          ]
        },
        {
          "output_type": "stream",
          "name": "stdout",
          "text": [
            "\n",
            "0: 384x640 1 person, 10 cars, 2 buss, 2 trucks, 39.0ms\n",
            "Speed: 2.4ms preprocess, 39.0ms inference, 1.0ms postprocess per image at shape (1, 3, 384, 640)\n"
          ]
        },
        {
          "output_type": "stream",
          "name": "stderr",
          "text": [
            "\rProcessing:   3%|▎         | 255/9184 [00:31<16:39,  8.93it/s]"
          ]
        },
        {
          "output_type": "stream",
          "name": "stdout",
          "text": [
            "\n",
            "0: 384x640 1 person, 11 cars, 2 buss, 1 truck, 39.8ms\n",
            "Speed: 2.1ms preprocess, 39.8ms inference, 39.3ms postprocess per image at shape (1, 3, 384, 640)\n"
          ]
        },
        {
          "output_type": "stream",
          "name": "stderr",
          "text": [
            "\rProcessing:   3%|▎         | 256/9184 [00:31<18:43,  7.95it/s]"
          ]
        },
        {
          "output_type": "stream",
          "name": "stdout",
          "text": [
            "\n",
            "0: 384x640 1 person, 13 cars, 2 buss, 80.0ms\n",
            "Speed: 2.2ms preprocess, 80.0ms inference, 1.0ms postprocess per image at shape (1, 3, 384, 640)\n"
          ]
        },
        {
          "output_type": "stream",
          "name": "stderr",
          "text": [
            "\rProcessing:   3%|▎         | 257/9184 [00:31<18:09,  8.19it/s]"
          ]
        },
        {
          "output_type": "stream",
          "name": "stdout",
          "text": [
            "\n",
            "0: 384x640 1 person, 11 cars, 2 buss, 1 truck, 78.9ms\n",
            "Speed: 2.1ms preprocess, 78.9ms inference, 1.0ms postprocess per image at shape (1, 3, 384, 640)\n"
          ]
        },
        {
          "output_type": "stream",
          "name": "stderr",
          "text": [
            "\rProcessing:   3%|▎         | 258/9184 [00:31<17:32,  8.48it/s]"
          ]
        },
        {
          "output_type": "stream",
          "name": "stdout",
          "text": [
            "\n",
            "0: 384x640 1 person, 11 cars, 1 bus, 77.3ms\n",
            "Speed: 2.2ms preprocess, 77.3ms inference, 1.0ms postprocess per image at shape (1, 3, 384, 640)\n"
          ]
        },
        {
          "output_type": "stream",
          "name": "stderr",
          "text": [
            "\rProcessing:   3%|▎         | 259/9184 [00:31<17:07,  8.69it/s]"
          ]
        },
        {
          "output_type": "stream",
          "name": "stdout",
          "text": [
            "\n",
            "0: 384x640 1 person, 10 cars, 1 truck, 38.3ms\n",
            "Speed: 2.1ms preprocess, 38.3ms inference, 1.0ms postprocess per image at shape (1, 3, 384, 640)\n"
          ]
        },
        {
          "output_type": "stream",
          "name": "stderr",
          "text": [
            "\rProcessing:   3%|▎         | 260/9184 [00:31<17:06,  8.70it/s]"
          ]
        },
        {
          "output_type": "stream",
          "name": "stdout",
          "text": [
            "\n",
            "0: 384x640 1 person, 13 cars, 2 buss, 39.6ms\n",
            "Speed: 2.1ms preprocess, 39.6ms inference, 1.1ms postprocess per image at shape (1, 3, 384, 640)\n"
          ]
        },
        {
          "output_type": "stream",
          "name": "stderr",
          "text": [
            "\rProcessing:   3%|▎         | 261/9184 [00:32<18:51,  7.89it/s]"
          ]
        },
        {
          "output_type": "stream",
          "name": "stdout",
          "text": [
            "\n",
            "0: 384x640 1 person, 13 cars, 1 truck, 74.3ms\n",
            "Speed: 2.2ms preprocess, 74.3ms inference, 1.1ms postprocess per image at shape (1, 3, 384, 640)\n"
          ]
        },
        {
          "output_type": "stream",
          "name": "stderr",
          "text": [
            "\rProcessing:   3%|▎         | 262/9184 [00:32<17:57,  8.28it/s]"
          ]
        },
        {
          "output_type": "stream",
          "name": "stdout",
          "text": [
            "\n",
            "0: 384x640 1 person, 14 cars, 2 trucks, 75.4ms\n",
            "Speed: 2.4ms preprocess, 75.4ms inference, 1.0ms postprocess per image at shape (1, 3, 384, 640)\n"
          ]
        },
        {
          "output_type": "stream",
          "name": "stderr",
          "text": [
            "\rProcessing:   3%|▎         | 263/9184 [00:32<17:27,  8.52it/s]"
          ]
        },
        {
          "output_type": "stream",
          "name": "stdout",
          "text": [
            "\n",
            "0: 384x640 1 person, 12 cars, 2 buss, 1 truck, 74.1ms\n",
            "Speed: 2.3ms preprocess, 74.1ms inference, 1.0ms postprocess per image at shape (1, 3, 384, 640)\n"
          ]
        },
        {
          "output_type": "stream",
          "name": "stderr",
          "text": [
            "\rProcessing:   3%|▎         | 264/9184 [00:32<16:53,  8.80it/s]"
          ]
        },
        {
          "output_type": "stream",
          "name": "stdout",
          "text": [
            "\n",
            "0: 384x640 1 person, 11 cars, 1 bus, 2 trucks, 77.5ms\n",
            "Speed: 2.3ms preprocess, 77.5ms inference, 1.0ms postprocess per image at shape (1, 3, 384, 640)\n"
          ]
        },
        {
          "output_type": "stream",
          "name": "stderr",
          "text": [
            "\rProcessing:   3%|▎         | 265/9184 [00:32<16:46,  8.87it/s]"
          ]
        },
        {
          "output_type": "stream",
          "name": "stdout",
          "text": [
            "\n",
            "0: 384x640 3 persons, 12 cars, 1 bus, 1 truck, 36.2ms\n",
            "Speed: 2.2ms preprocess, 36.2ms inference, 1.0ms postprocess per image at shape (1, 3, 384, 640)\n"
          ]
        },
        {
          "output_type": "stream",
          "name": "stderr",
          "text": [
            "\rProcessing:   3%|▎         | 266/9184 [00:32<16:37,  8.94it/s]"
          ]
        },
        {
          "output_type": "stream",
          "name": "stdout",
          "text": [
            "\n",
            "0: 384x640 1 person, 12 cars, 2 buss, 37.3ms\n",
            "Speed: 2.1ms preprocess, 37.3ms inference, 1.0ms postprocess per image at shape (1, 3, 384, 640)\n"
          ]
        },
        {
          "output_type": "stream",
          "name": "stderr",
          "text": [
            "\rProcessing:   3%|▎         | 267/9184 [00:32<18:32,  8.02it/s]"
          ]
        },
        {
          "output_type": "stream",
          "name": "stdout",
          "text": [
            "\n",
            "0: 384x640 1 person, 11 cars, 2 buss, 1 truck, 71.7ms\n",
            "Speed: 2.1ms preprocess, 71.7ms inference, 1.0ms postprocess per image at shape (1, 3, 384, 640)\n"
          ]
        },
        {
          "output_type": "stream",
          "name": "stderr",
          "text": [
            "\rProcessing:   3%|▎         | 268/9184 [00:32<17:41,  8.40it/s]"
          ]
        },
        {
          "output_type": "stream",
          "name": "stdout",
          "text": [
            "\n",
            "0: 384x640 1 person, 10 cars, 2 buss, 75.2ms\n",
            "Speed: 2.1ms preprocess, 75.2ms inference, 1.0ms postprocess per image at shape (1, 3, 384, 640)\n"
          ]
        },
        {
          "output_type": "stream",
          "name": "stderr",
          "text": [
            "\rProcessing:   3%|▎         | 269/9184 [00:32<17:11,  8.64it/s]"
          ]
        },
        {
          "output_type": "stream",
          "name": "stdout",
          "text": [
            "\n",
            "0: 384x640 1 person, 12 cars, 1 bus, 2 trucks, 73.3ms\n",
            "Speed: 2.1ms preprocess, 73.3ms inference, 1.0ms postprocess per image at shape (1, 3, 384, 640)\n"
          ]
        },
        {
          "output_type": "stream",
          "name": "stderr",
          "text": [
            "\rProcessing:   3%|▎         | 270/9184 [00:33<16:43,  8.88it/s]"
          ]
        },
        {
          "output_type": "stream",
          "name": "stdout",
          "text": [
            "\n",
            "0: 384x640 2 persons, 11 cars, 1 bus, 1 truck, 78.1ms\n",
            "Speed: 2.3ms preprocess, 78.1ms inference, 1.2ms postprocess per image at shape (1, 3, 384, 640)\n"
          ]
        },
        {
          "output_type": "stream",
          "name": "stderr",
          "text": [
            "\rProcessing:   3%|▎         | 271/9184 [00:33<16:38,  8.92it/s]"
          ]
        },
        {
          "output_type": "stream",
          "name": "stdout",
          "text": [
            "\n",
            "0: 384x640 3 persons, 11 cars, 2 buss, 1 truck, 79.0ms\n",
            "Speed: 2.1ms preprocess, 79.0ms inference, 1.1ms postprocess per image at shape (1, 3, 384, 640)\n"
          ]
        },
        {
          "output_type": "stream",
          "name": "stderr",
          "text": [
            "\rProcessing:   3%|▎         | 272/9184 [00:33<16:39,  8.92it/s]"
          ]
        },
        {
          "output_type": "stream",
          "name": "stdout",
          "text": [
            "\n",
            "0: 384x640 1 person, 12 cars, 2 buss, 1 truck, 38.8ms\n",
            "Speed: 2.3ms preprocess, 38.8ms inference, 1.0ms postprocess per image at shape (1, 3, 384, 640)\n"
          ]
        },
        {
          "output_type": "stream",
          "name": "stderr",
          "text": [
            "\rProcessing:   3%|▎         | 273/9184 [00:33<18:42,  7.94it/s]"
          ]
        },
        {
          "output_type": "stream",
          "name": "stdout",
          "text": [
            "\n",
            "0: 384x640 1 person, 11 cars, 2 buss, 2 trucks, 72.1ms\n",
            "Speed: 2.3ms preprocess, 72.1ms inference, 1.0ms postprocess per image at shape (1, 3, 384, 640)\n"
          ]
        },
        {
          "output_type": "stream",
          "name": "stderr",
          "text": [
            "\rProcessing:   3%|▎         | 274/9184 [00:33<17:49,  8.33it/s]"
          ]
        },
        {
          "output_type": "stream",
          "name": "stdout",
          "text": [
            "\n",
            "0: 384x640 1 person, 11 cars, 2 buss, 2 trucks, 76.4ms\n",
            "Speed: 2.1ms preprocess, 76.4ms inference, 0.9ms postprocess per image at shape (1, 3, 384, 640)\n"
          ]
        },
        {
          "output_type": "stream",
          "name": "stderr",
          "text": [
            "\rProcessing:   3%|▎         | 275/9184 [00:33<17:23,  8.54it/s]"
          ]
        },
        {
          "output_type": "stream",
          "name": "stdout",
          "text": [
            "\n",
            "0: 384x640 1 person, 11 cars, 2 buss, 1 truck, 77.3ms\n",
            "Speed: 2.1ms preprocess, 77.3ms inference, 1.0ms postprocess per image at shape (1, 3, 384, 640)\n"
          ]
        },
        {
          "output_type": "stream",
          "name": "stderr",
          "text": [
            "\rProcessing:   3%|▎         | 276/9184 [00:33<17:03,  8.70it/s]"
          ]
        },
        {
          "output_type": "stream",
          "name": "stdout",
          "text": [
            "\n",
            "0: 384x640 1 person, 10 cars, 2 buss, 1 truck, 74.2ms\n",
            "Speed: 2.4ms preprocess, 74.2ms inference, 1.0ms postprocess per image at shape (1, 3, 384, 640)\n"
          ]
        },
        {
          "output_type": "stream",
          "name": "stderr",
          "text": [
            "\rProcessing:   3%|▎         | 277/9184 [00:33<16:47,  8.84it/s]"
          ]
        },
        {
          "output_type": "stream",
          "name": "stdout",
          "text": [
            "\n",
            "0: 384x640 2 persons, 9 cars, 2 buss, 2 trucks, 37.5ms\n",
            "Speed: 2.2ms preprocess, 37.5ms inference, 1.5ms postprocess per image at shape (1, 3, 384, 640)\n"
          ]
        },
        {
          "output_type": "stream",
          "name": "stderr",
          "text": [
            "\rProcessing:   3%|▎         | 278/9184 [00:33<16:50,  8.81it/s]"
          ]
        },
        {
          "output_type": "stream",
          "name": "stdout",
          "text": [
            "\n",
            "0: 384x640 2 persons, 10 cars, 1 bus, 2 trucks, 39.5ms\n",
            "Speed: 2.2ms preprocess, 39.5ms inference, 38.2ms postprocess per image at shape (1, 3, 384, 640)\n"
          ]
        },
        {
          "output_type": "stream",
          "name": "stderr",
          "text": [
            "\rProcessing:   3%|▎         | 279/9184 [00:34<18:38,  7.96it/s]"
          ]
        },
        {
          "output_type": "stream",
          "name": "stdout",
          "text": [
            "\n",
            "0: 384x640 2 persons, 9 cars, 1 bus, 3 trucks, 75.4ms\n",
            "Speed: 2.1ms preprocess, 75.4ms inference, 1.0ms postprocess per image at shape (1, 3, 384, 640)\n"
          ]
        },
        {
          "output_type": "stream",
          "name": "stderr",
          "text": [
            "\rProcessing:   3%|▎         | 280/9184 [00:34<17:50,  8.32it/s]"
          ]
        },
        {
          "output_type": "stream",
          "name": "stdout",
          "text": [
            "\n",
            "0: 384x640 2 persons, 10 cars, 2 buss, 2 trucks, 75.3ms\n",
            "Speed: 2.1ms preprocess, 75.3ms inference, 1.0ms postprocess per image at shape (1, 3, 384, 640)\n"
          ]
        },
        {
          "output_type": "stream",
          "name": "stderr",
          "text": [
            "\rProcessing:   3%|▎         | 281/9184 [00:34<17:23,  8.53it/s]"
          ]
        },
        {
          "output_type": "stream",
          "name": "stdout",
          "text": [
            "\n",
            "0: 384x640 9 cars, 2 buss, 1 truck, 75.3ms\n",
            "Speed: 2.1ms preprocess, 75.3ms inference, 1.0ms postprocess per image at shape (1, 3, 384, 640)\n"
          ]
        },
        {
          "output_type": "stream",
          "name": "stderr",
          "text": [
            "\rProcessing:   3%|▎         | 282/9184 [00:34<16:55,  8.77it/s]"
          ]
        },
        {
          "output_type": "stream",
          "name": "stdout",
          "text": [
            "\n",
            "0: 384x640 1 person, 9 cars, 2 buss, 2 trucks, 72.3ms\n",
            "Speed: 2.2ms preprocess, 72.3ms inference, 0.9ms postprocess per image at shape (1, 3, 384, 640)\n"
          ]
        },
        {
          "output_type": "stream",
          "name": "stderr",
          "text": [
            "\rProcessing:   3%|▎         | 283/9184 [00:34<16:33,  8.96it/s]"
          ]
        },
        {
          "output_type": "stream",
          "name": "stdout",
          "text": [
            "\n",
            "0: 384x640 1 person, 9 cars, 2 buss, 1 truck, 73.3ms\n",
            "Speed: 2.1ms preprocess, 73.3ms inference, 1.0ms postprocess per image at shape (1, 3, 384, 640)\n"
          ]
        },
        {
          "output_type": "stream",
          "name": "stderr",
          "text": [
            "\rProcessing:   3%|▎         | 284/9184 [00:34<16:20,  9.08it/s]"
          ]
        },
        {
          "output_type": "stream",
          "name": "stdout",
          "text": [
            "\n",
            "0: 384x640 9 cars, 1 bus, 2 trucks, 37.6ms\n",
            "Speed: 2.1ms preprocess, 37.6ms inference, 1.3ms postprocess per image at shape (1, 3, 384, 640)\n"
          ]
        },
        {
          "output_type": "stream",
          "name": "stderr",
          "text": [
            "\rProcessing:   3%|▎         | 285/9184 [00:34<18:30,  8.02it/s]"
          ]
        },
        {
          "output_type": "stream",
          "name": "stdout",
          "text": [
            "\n",
            "0: 384x640 1 person, 9 cars, 1 bus, 1 truck, 70.7ms\n",
            "Speed: 2.1ms preprocess, 70.7ms inference, 1.0ms postprocess per image at shape (1, 3, 384, 640)\n"
          ]
        },
        {
          "output_type": "stream",
          "name": "stderr",
          "text": [
            "\rProcessing:   3%|▎         | 286/9184 [00:34<17:34,  8.43it/s]"
          ]
        },
        {
          "output_type": "stream",
          "name": "stdout",
          "text": [
            "\n",
            "0: 384x640 10 cars, 2 trucks, 75.2ms\n",
            "Speed: 2.0ms preprocess, 75.2ms inference, 1.0ms postprocess per image at shape (1, 3, 384, 640)\n"
          ]
        },
        {
          "output_type": "stream",
          "name": "stderr",
          "text": [
            "\rProcessing:   3%|▎         | 287/9184 [00:35<17:11,  8.63it/s]"
          ]
        },
        {
          "output_type": "stream",
          "name": "stdout",
          "text": [
            "\n",
            "0: 384x640 10 cars, 1 bus, 2 trucks, 76.2ms\n",
            "Speed: 2.1ms preprocess, 76.2ms inference, 1.0ms postprocess per image at shape (1, 3, 384, 640)\n"
          ]
        },
        {
          "output_type": "stream",
          "name": "stderr",
          "text": [
            "\rProcessing:   3%|▎         | 288/9184 [00:35<16:47,  8.83it/s]"
          ]
        },
        {
          "output_type": "stream",
          "name": "stdout",
          "text": [
            "\n",
            "0: 384x640 1 person, 10 cars, 1 bus, 2 trucks, 76.5ms\n",
            "Speed: 2.0ms preprocess, 76.5ms inference, 1.1ms postprocess per image at shape (1, 3, 384, 640)\n"
          ]
        },
        {
          "output_type": "stream",
          "name": "stderr",
          "text": [
            "\rProcessing:   3%|▎         | 289/9184 [00:35<16:37,  8.92it/s]"
          ]
        },
        {
          "output_type": "stream",
          "name": "stdout",
          "text": [
            "\n",
            "0: 384x640 10 cars, 1 bus, 2 trucks, 74.3ms\n",
            "Speed: 2.0ms preprocess, 74.3ms inference, 1.0ms postprocess per image at shape (1, 3, 384, 640)\n"
          ]
        },
        {
          "output_type": "stream",
          "name": "stderr",
          "text": [
            "\rProcessing:   3%|▎         | 290/9184 [00:35<16:33,  8.96it/s]"
          ]
        },
        {
          "output_type": "stream",
          "name": "stdout",
          "text": [
            "\n",
            "0: 384x640 10 cars, 2 trucks, 36.3ms\n",
            "Speed: 2.1ms preprocess, 36.3ms inference, 1.0ms postprocess per image at shape (1, 3, 384, 640)\n"
          ]
        },
        {
          "output_type": "stream",
          "name": "stderr",
          "text": [
            "\rProcessing:   3%|▎         | 291/9184 [00:35<16:51,  8.80it/s]"
          ]
        },
        {
          "output_type": "stream",
          "name": "stdout",
          "text": [
            "\n",
            "0: 384x640 1 person, 10 cars, 1 bus, 1 truck, 37.8ms\n",
            "Speed: 2.1ms preprocess, 37.8ms inference, 1.0ms postprocess per image at shape (1, 3, 384, 640)\n"
          ]
        },
        {
          "output_type": "stream",
          "name": "stderr",
          "text": [
            "\rProcessing:   3%|▎         | 292/9184 [00:35<18:02,  8.21it/s]"
          ]
        },
        {
          "output_type": "stream",
          "name": "stdout",
          "text": [
            "\n",
            "0: 384x640 10 cars, 1 bus, 2 trucks, 75.2ms\n",
            "Speed: 2.2ms preprocess, 75.2ms inference, 0.9ms postprocess per image at shape (1, 3, 384, 640)\n"
          ]
        },
        {
          "output_type": "stream",
          "name": "stderr",
          "text": [
            "\rProcessing:   3%|▎         | 293/9184 [00:35<17:29,  8.47it/s]"
          ]
        },
        {
          "output_type": "stream",
          "name": "stdout",
          "text": [
            "\n",
            "0: 384x640 1 person, 10 cars, 1 bus, 1 truck, 76.2ms\n",
            "Speed: 2.1ms preprocess, 76.2ms inference, 0.9ms postprocess per image at shape (1, 3, 384, 640)\n"
          ]
        },
        {
          "output_type": "stream",
          "name": "stderr",
          "text": [
            "\rProcessing:   3%|▎         | 294/9184 [00:35<16:57,  8.74it/s]"
          ]
        },
        {
          "output_type": "stream",
          "name": "stdout",
          "text": [
            "\n",
            "0: 384x640 1 person, 10 cars, 1 bus, 76.9ms\n",
            "Speed: 2.1ms preprocess, 76.9ms inference, 1.0ms postprocess per image at shape (1, 3, 384, 640)\n"
          ]
        },
        {
          "output_type": "stream",
          "name": "stderr",
          "text": [
            "\rProcessing:   3%|▎         | 295/9184 [00:35<16:39,  8.89it/s]"
          ]
        },
        {
          "output_type": "stream",
          "name": "stdout",
          "text": [
            "\n",
            "0: 384x640 2 persons, 10 cars, 2 buss, 75.5ms\n",
            "Speed: 2.1ms preprocess, 75.5ms inference, 1.0ms postprocess per image at shape (1, 3, 384, 640)\n"
          ]
        },
        {
          "output_type": "stream",
          "name": "stderr",
          "text": [
            "\rProcessing:   3%|▎         | 296/9184 [00:36<16:29,  8.99it/s]"
          ]
        },
        {
          "output_type": "stream",
          "name": "stdout",
          "text": [
            "\n",
            "0: 384x640 1 person, 10 cars, 2 buss, 79.8ms\n",
            "Speed: 2.2ms preprocess, 79.8ms inference, 1.0ms postprocess per image at shape (1, 3, 384, 640)\n"
          ]
        },
        {
          "output_type": "stream",
          "name": "stderr",
          "text": [
            "\rProcessing:   3%|▎         | 297/9184 [00:36<16:26,  9.01it/s]"
          ]
        },
        {
          "output_type": "stream",
          "name": "stdout",
          "text": [
            "\n",
            "0: 384x640 1 person, 11 cars, 1 bus, 38.7ms\n",
            "Speed: 2.1ms preprocess, 38.7ms inference, 0.9ms postprocess per image at shape (1, 3, 384, 640)\n"
          ]
        },
        {
          "output_type": "stream",
          "name": "stderr",
          "text": [
            "\rProcessing:   3%|▎         | 298/9184 [00:36<18:35,  7.96it/s]"
          ]
        },
        {
          "output_type": "stream",
          "name": "stdout",
          "text": [
            "\n",
            "0: 384x640 1 person, 13 cars, 1 bus, 1 truck, 73.2ms\n",
            "Speed: 2.2ms preprocess, 73.2ms inference, 1.0ms postprocess per image at shape (1, 3, 384, 640)\n"
          ]
        },
        {
          "output_type": "stream",
          "name": "stderr",
          "text": [
            "\rProcessing:   3%|▎         | 299/9184 [00:36<17:46,  8.33it/s]"
          ]
        },
        {
          "output_type": "stream",
          "name": "stdout",
          "text": [
            "\n",
            "0: 384x640 1 person, 10 cars, 1 bus, 1 truck, 72.8ms\n",
            "Speed: 2.2ms preprocess, 72.8ms inference, 1.0ms postprocess per image at shape (1, 3, 384, 640)\n"
          ]
        },
        {
          "output_type": "stream",
          "name": "stderr",
          "text": [
            "\rProcessing:   3%|▎         | 300/9184 [00:36<17:04,  8.67it/s]"
          ]
        },
        {
          "output_type": "stream",
          "name": "stdout",
          "text": [
            "\n",
            "0: 384x640 1 person, 10 cars, 1 kite, 76.3ms\n",
            "Speed: 2.2ms preprocess, 76.3ms inference, 1.0ms postprocess per image at shape (1, 3, 384, 640)\n"
          ]
        },
        {
          "output_type": "stream",
          "name": "stderr",
          "text": [
            "\rProcessing:   3%|▎         | 301/9184 [00:36<16:43,  8.85it/s]"
          ]
        },
        {
          "output_type": "stream",
          "name": "stdout",
          "text": [
            "\n",
            "0: 384x640 1 person, 10 cars, 72.7ms\n",
            "Speed: 2.1ms preprocess, 72.7ms inference, 0.9ms postprocess per image at shape (1, 3, 384, 640)\n"
          ]
        },
        {
          "output_type": "stream",
          "name": "stderr",
          "text": [
            "\rProcessing:   3%|▎         | 302/9184 [00:36<16:30,  8.97it/s]"
          ]
        },
        {
          "output_type": "stream",
          "name": "stdout",
          "text": [
            "\n",
            "0: 384x640 1 person, 12 cars, 74.1ms\n",
            "Speed: 2.2ms preprocess, 74.1ms inference, 0.9ms postprocess per image at shape (1, 3, 384, 640)\n"
          ]
        },
        {
          "output_type": "stream",
          "name": "stderr",
          "text": [
            "\rProcessing:   3%|▎         | 303/9184 [00:36<16:11,  9.15it/s]"
          ]
        },
        {
          "output_type": "stream",
          "name": "stdout",
          "text": [
            "\n",
            "0: 384x640 1 person, 11 cars, 74.3ms\n",
            "Speed: 2.1ms preprocess, 74.3ms inference, 1.0ms postprocess per image at shape (1, 3, 384, 640)\n"
          ]
        },
        {
          "output_type": "stream",
          "name": "stderr",
          "text": [
            "\rProcessing:   3%|▎         | 304/9184 [00:36<16:00,  9.25it/s]"
          ]
        },
        {
          "output_type": "stream",
          "name": "stdout",
          "text": [
            "\n",
            "0: 384x640 1 person, 11 cars, 36.1ms\n",
            "Speed: 2.3ms preprocess, 36.1ms inference, 1.0ms postprocess per image at shape (1, 3, 384, 640)\n"
          ]
        },
        {
          "output_type": "stream",
          "name": "stderr",
          "text": [
            "\rProcessing:   3%|▎         | 305/9184 [00:37<16:32,  8.94it/s]"
          ]
        },
        {
          "output_type": "stream",
          "name": "stdout",
          "text": [
            "\n",
            "0: 384x640 1 person, 12 cars, 1 bus, 37.2ms\n",
            "Speed: 2.0ms preprocess, 37.2ms inference, 0.9ms postprocess per image at shape (1, 3, 384, 640)\n"
          ]
        },
        {
          "output_type": "stream",
          "name": "stderr",
          "text": [
            "\rProcessing:   3%|▎         | 306/9184 [00:37<17:51,  8.29it/s]"
          ]
        },
        {
          "output_type": "stream",
          "name": "stdout",
          "text": [
            "\n",
            "0: 384x640 1 person, 11 cars, 1 bus, 76.1ms\n",
            "Speed: 2.2ms preprocess, 76.1ms inference, 1.0ms postprocess per image at shape (1, 3, 384, 640)\n"
          ]
        },
        {
          "output_type": "stream",
          "name": "stderr",
          "text": [
            "\rProcessing:   3%|▎         | 307/9184 [00:37<17:13,  8.59it/s]"
          ]
        },
        {
          "output_type": "stream",
          "name": "stdout",
          "text": [
            "\n",
            "0: 384x640 1 person, 11 cars, 1 bus, 79.2ms\n",
            "Speed: 2.0ms preprocess, 79.2ms inference, 0.9ms postprocess per image at shape (1, 3, 384, 640)\n"
          ]
        },
        {
          "output_type": "stream",
          "name": "stderr",
          "text": [
            "\rProcessing:   3%|▎         | 308/9184 [00:37<16:59,  8.71it/s]"
          ]
        },
        {
          "output_type": "stream",
          "name": "stdout",
          "text": [
            "\n",
            "0: 384x640 1 person, 10 cars, 1 bus, 77.0ms\n",
            "Speed: 2.0ms preprocess, 77.0ms inference, 1.0ms postprocess per image at shape (1, 3, 384, 640)\n"
          ]
        },
        {
          "output_type": "stream",
          "name": "stderr",
          "text": [
            "\rProcessing:   3%|▎         | 309/9184 [00:37<16:32,  8.94it/s]"
          ]
        },
        {
          "output_type": "stream",
          "name": "stdout",
          "text": [
            "\n",
            "0: 384x640 1 person, 9 cars, 1 bus, 77.8ms\n",
            "Speed: 2.2ms preprocess, 77.8ms inference, 1.0ms postprocess per image at shape (1, 3, 384, 640)\n"
          ]
        },
        {
          "output_type": "stream",
          "name": "stderr",
          "text": [
            "\rProcessing:   3%|▎         | 310/9184 [00:37<16:23,  9.02it/s]"
          ]
        },
        {
          "output_type": "stream",
          "name": "stdout",
          "text": [
            "\n",
            "0: 384x640 1 person, 10 cars, 1 bus, 78.1ms\n",
            "Speed: 2.1ms preprocess, 78.1ms inference, 1.0ms postprocess per image at shape (1, 3, 384, 640)\n"
          ]
        },
        {
          "output_type": "stream",
          "name": "stderr",
          "text": [
            "\rProcessing:   3%|▎         | 311/9184 [00:37<16:18,  9.07it/s]"
          ]
        },
        {
          "output_type": "stream",
          "name": "stdout",
          "text": [
            "\n",
            "0: 384x640 1 person, 10 cars, 1 bus, 39.5ms\n",
            "Speed: 2.2ms preprocess, 39.5ms inference, 1.0ms postprocess per image at shape (1, 3, 384, 640)\n"
          ]
        },
        {
          "output_type": "stream",
          "name": "stderr",
          "text": [
            "\rProcessing:   3%|▎         | 312/9184 [00:37<16:33,  8.93it/s]"
          ]
        },
        {
          "output_type": "stream",
          "name": "stdout",
          "text": [
            "\n",
            "0: 384x640 1 person, 12 cars, 1 bus, 84.1ms\n",
            "Speed: 2.2ms preprocess, 84.1ms inference, 1.0ms postprocess per image at shape (1, 3, 384, 640)\n"
          ]
        },
        {
          "output_type": "stream",
          "name": "stderr",
          "text": [
            "\rProcessing:   3%|▎         | 313/9184 [00:38<18:23,  8.04it/s]"
          ]
        },
        {
          "output_type": "stream",
          "name": "stdout",
          "text": [
            "\n",
            "0: 384x640 1 person, 12 cars, 74.7ms\n",
            "Speed: 2.4ms preprocess, 74.7ms inference, 1.0ms postprocess per image at shape (1, 3, 384, 640)\n"
          ]
        },
        {
          "output_type": "stream",
          "name": "stderr",
          "text": [
            "\rProcessing:   3%|▎         | 314/9184 [00:38<17:49,  8.29it/s]"
          ]
        },
        {
          "output_type": "stream",
          "name": "stdout",
          "text": [
            "\n",
            "0: 384x640 1 person, 10 cars, 1 bus, 81.1ms\n",
            "Speed: 2.1ms preprocess, 81.1ms inference, 1.1ms postprocess per image at shape (1, 3, 384, 640)\n"
          ]
        },
        {
          "output_type": "stream",
          "name": "stderr",
          "text": [
            "\rProcessing:   3%|▎         | 315/9184 [00:38<17:18,  8.54it/s]"
          ]
        },
        {
          "output_type": "stream",
          "name": "stdout",
          "text": [
            "\n",
            "0: 384x640 1 person, 12 cars, 1 bus, 79.0ms\n",
            "Speed: 2.2ms preprocess, 79.0ms inference, 1.1ms postprocess per image at shape (1, 3, 384, 640)\n"
          ]
        },
        {
          "output_type": "stream",
          "name": "stderr",
          "text": [
            "\rProcessing:   3%|▎         | 316/9184 [00:38<16:56,  8.72it/s]"
          ]
        },
        {
          "output_type": "stream",
          "name": "stdout",
          "text": [
            "\n",
            "0: 384x640 1 person, 9 cars, 2 buss, 37.7ms\n",
            "Speed: 2.2ms preprocess, 37.7ms inference, 1.2ms postprocess per image at shape (1, 3, 384, 640)\n"
          ]
        },
        {
          "output_type": "stream",
          "name": "stderr",
          "text": [
            "\rProcessing:   3%|▎         | 317/9184 [00:38<19:06,  7.74it/s]"
          ]
        },
        {
          "output_type": "stream",
          "name": "stdout",
          "text": [
            "\n",
            "0: 384x640 1 person, 11 cars, 2 buss, 1 truck, 79.0ms\n",
            "Speed: 2.0ms preprocess, 79.0ms inference, 1.0ms postprocess per image at shape (1, 3, 384, 640)\n"
          ]
        },
        {
          "output_type": "stream",
          "name": "stderr",
          "text": [
            "\rProcessing:   3%|▎         | 318/9184 [00:38<18:03,  8.18it/s]"
          ]
        },
        {
          "output_type": "stream",
          "name": "stdout",
          "text": [
            "\n",
            "0: 384x640 1 person, 12 cars, 1 bus, 79.7ms\n",
            "Speed: 2.2ms preprocess, 79.7ms inference, 1.0ms postprocess per image at shape (1, 3, 384, 640)\n"
          ]
        },
        {
          "output_type": "stream",
          "name": "stderr",
          "text": [
            "\rProcessing:   3%|▎         | 319/9184 [00:38<17:29,  8.45it/s]"
          ]
        },
        {
          "output_type": "stream",
          "name": "stdout",
          "text": [
            "\n",
            "0: 384x640 1 person, 11 cars, 1 bus, 79.5ms\n",
            "Speed: 2.2ms preprocess, 79.5ms inference, 1.0ms postprocess per image at shape (1, 3, 384, 640)\n"
          ]
        },
        {
          "output_type": "stream",
          "name": "stderr",
          "text": [
            "\rProcessing:   3%|▎         | 320/9184 [00:38<17:07,  8.63it/s]"
          ]
        },
        {
          "output_type": "stream",
          "name": "stdout",
          "text": [
            "\n",
            "0: 384x640 3 persons, 10 cars, 2 buss, 82.1ms\n",
            "Speed: 2.2ms preprocess, 82.1ms inference, 1.1ms postprocess per image at shape (1, 3, 384, 640)\n"
          ]
        },
        {
          "output_type": "stream",
          "name": "stderr",
          "text": [
            "\rProcessing:   3%|▎         | 321/9184 [00:38<16:53,  8.75it/s]"
          ]
        },
        {
          "output_type": "stream",
          "name": "stdout",
          "text": [
            "\n",
            "0: 384x640 3 persons, 9 cars, 1 bus, 40.6ms\n",
            "Speed: 2.1ms preprocess, 40.6ms inference, 1.1ms postprocess per image at shape (1, 3, 384, 640)\n"
          ]
        },
        {
          "output_type": "stream",
          "name": "stderr",
          "text": [
            "\rProcessing:   4%|▎         | 322/9184 [00:39<18:58,  7.79it/s]"
          ]
        },
        {
          "output_type": "stream",
          "name": "stdout",
          "text": [
            "\n",
            "0: 384x640 3 persons, 9 cars, 1 bus, 76.6ms\n",
            "Speed: 2.1ms preprocess, 76.6ms inference, 1.0ms postprocess per image at shape (1, 3, 384, 640)\n"
          ]
        },
        {
          "output_type": "stream",
          "name": "stderr",
          "text": [
            "\rProcessing:   4%|▎         | 323/9184 [00:39<18:06,  8.16it/s]"
          ]
        },
        {
          "output_type": "stream",
          "name": "stdout",
          "text": [
            "\n",
            "0: 384x640 3 persons, 12 cars, 1 bus, 76.4ms\n",
            "Speed: 2.0ms preprocess, 76.4ms inference, 1.0ms postprocess per image at shape (1, 3, 384, 640)\n"
          ]
        },
        {
          "output_type": "stream",
          "name": "stderr",
          "text": [
            "\rProcessing:   4%|▎         | 324/9184 [00:39<17:21,  8.51it/s]"
          ]
        },
        {
          "output_type": "stream",
          "name": "stdout",
          "text": [
            "\n",
            "0: 384x640 2 persons, 10 cars, 1 bus, 78.6ms\n",
            "Speed: 2.0ms preprocess, 78.6ms inference, 1.0ms postprocess per image at shape (1, 3, 384, 640)\n"
          ]
        },
        {
          "output_type": "stream",
          "name": "stderr",
          "text": [
            "\rProcessing:   4%|▎         | 325/9184 [00:39<16:55,  8.72it/s]"
          ]
        },
        {
          "output_type": "stream",
          "name": "stdout",
          "text": [
            "\n",
            "0: 384x640 1 person, 9 cars, 76.5ms\n",
            "Speed: 2.2ms preprocess, 76.5ms inference, 1.0ms postprocess per image at shape (1, 3, 384, 640)\n"
          ]
        },
        {
          "output_type": "stream",
          "name": "stderr",
          "text": [
            "\rProcessing:   4%|▎         | 326/9184 [00:39<16:52,  8.74it/s]"
          ]
        },
        {
          "output_type": "stream",
          "name": "stdout",
          "text": [
            "\n",
            "0: 384x640 1 person, 9 cars, 1 bus, 78.2ms\n",
            "Speed: 2.0ms preprocess, 78.2ms inference, 1.0ms postprocess per image at shape (1, 3, 384, 640)\n"
          ]
        },
        {
          "output_type": "stream",
          "name": "stderr",
          "text": [
            "\rProcessing:   4%|▎         | 327/9184 [00:39<16:28,  8.96it/s]"
          ]
        },
        {
          "output_type": "stream",
          "name": "stdout",
          "text": [
            "\n",
            "0: 384x640 1 person, 12 cars, 1 bus, 36.8ms\n",
            "Speed: 2.0ms preprocess, 36.8ms inference, 1.1ms postprocess per image at shape (1, 3, 384, 640)\n"
          ]
        },
        {
          "output_type": "stream",
          "name": "stderr",
          "text": [
            "\rProcessing:   4%|▎         | 328/9184 [00:39<16:49,  8.77it/s]"
          ]
        },
        {
          "output_type": "stream",
          "name": "stdout",
          "text": [
            "\n",
            "0: 384x640 1 person, 11 cars, 1 bus, 34.3ms\n",
            "Speed: 2.1ms preprocess, 34.3ms inference, 1.0ms postprocess per image at shape (1, 3, 384, 640)\n"
          ]
        },
        {
          "output_type": "stream",
          "name": "stderr",
          "text": [
            "\rProcessing:   4%|▎         | 329/9184 [00:39<18:08,  8.14it/s]"
          ]
        },
        {
          "output_type": "stream",
          "name": "stdout",
          "text": [
            "\n",
            "0: 384x640 1 person, 9 cars, 72.7ms\n",
            "Speed: 2.2ms preprocess, 72.7ms inference, 1.9ms postprocess per image at shape (1, 3, 384, 640)\n"
          ]
        },
        {
          "output_type": "stream",
          "name": "stderr",
          "text": [
            "\rProcessing:   4%|▎         | 330/9184 [00:40<17:08,  8.61it/s]"
          ]
        },
        {
          "output_type": "stream",
          "name": "stdout",
          "text": [
            "\n",
            "0: 384x640 1 person, 9 cars, 1 truck, 79.0ms\n",
            "Speed: 2.0ms preprocess, 79.0ms inference, 1.0ms postprocess per image at shape (1, 3, 384, 640)\n"
          ]
        },
        {
          "output_type": "stream",
          "name": "stderr",
          "text": [
            "\rProcessing:   4%|▎         | 331/9184 [00:40<16:47,  8.79it/s]"
          ]
        },
        {
          "output_type": "stream",
          "name": "stdout",
          "text": [
            "\n",
            "0: 384x640 1 person, 9 cars, 1 bus, 78.8ms\n",
            "Speed: 2.1ms preprocess, 78.8ms inference, 1.1ms postprocess per image at shape (1, 3, 384, 640)\n"
          ]
        },
        {
          "output_type": "stream",
          "name": "stderr",
          "text": [
            "\rProcessing:   4%|▎         | 332/9184 [00:40<16:33,  8.91it/s]"
          ]
        },
        {
          "output_type": "stream",
          "name": "stdout",
          "text": [
            "\n",
            "0: 384x640 1 person, 9 cars, 1 bus, 3 trucks, 78.9ms\n",
            "Speed: 2.0ms preprocess, 78.9ms inference, 1.0ms postprocess per image at shape (1, 3, 384, 640)\n"
          ]
        },
        {
          "output_type": "stream",
          "name": "stderr",
          "text": [
            "\rProcessing:   4%|▎         | 333/9184 [00:40<16:19,  9.04it/s]"
          ]
        },
        {
          "output_type": "stream",
          "name": "stdout",
          "text": [
            "\n",
            "0: 384x640 1 person, 11 cars, 1 bus, 1 truck, 76.1ms\n",
            "Speed: 2.0ms preprocess, 76.1ms inference, 1.0ms postprocess per image at shape (1, 3, 384, 640)\n"
          ]
        },
        {
          "output_type": "stream",
          "name": "stderr",
          "text": [
            "\rProcessing:   4%|▎         | 334/9184 [00:40<16:06,  9.16it/s]"
          ]
        },
        {
          "output_type": "stream",
          "name": "stdout",
          "text": [
            "\n",
            "0: 384x640 2 persons, 8 cars, 1 bus, 1 truck, 70.5ms\n",
            "Speed: 2.0ms preprocess, 70.5ms inference, 1.0ms postprocess per image at shape (1, 3, 384, 640)\n"
          ]
        },
        {
          "output_type": "stream",
          "name": "stderr",
          "text": [
            "\rProcessing:   4%|▎         | 335/9184 [00:40<15:55,  9.26it/s]"
          ]
        },
        {
          "output_type": "stream",
          "name": "stdout",
          "text": [
            "\n",
            "0: 384x640 3 persons, 8 cars, 1 bus, 2 trucks, 38.5ms\n",
            "Speed: 2.1ms preprocess, 38.5ms inference, 1.1ms postprocess per image at shape (1, 3, 384, 640)\n"
          ]
        },
        {
          "output_type": "stream",
          "name": "stderr",
          "text": [
            "\rProcessing:   4%|▎         | 336/9184 [00:40<16:02,  9.19it/s]"
          ]
        },
        {
          "output_type": "stream",
          "name": "stdout",
          "text": [
            "\n",
            "0: 384x640 1 person, 9 cars, 2 buss, 1 truck, 36.5ms\n",
            "Speed: 2.0ms preprocess, 36.5ms inference, 1.0ms postprocess per image at shape (1, 3, 384, 640)\n"
          ]
        },
        {
          "output_type": "stream",
          "name": "stderr",
          "text": [
            "\rProcessing:   4%|▎         | 337/9184 [00:40<16:02,  9.19it/s]"
          ]
        },
        {
          "output_type": "stream",
          "name": "stdout",
          "text": [
            "\n",
            "0: 384x640 1 person, 9 cars, 1 bus, 1 truck, 76.9ms\n",
            "Speed: 2.0ms preprocess, 76.9ms inference, 0.9ms postprocess per image at shape (1, 3, 384, 640)\n"
          ]
        },
        {
          "output_type": "stream",
          "name": "stderr",
          "text": [
            "\rProcessing:   4%|▎         | 338/9184 [00:40<17:43,  8.31it/s]"
          ]
        },
        {
          "output_type": "stream",
          "name": "stdout",
          "text": [
            "\n",
            "0: 384x640 1 person, 9 cars, 2 buss, 1 truck, 78.8ms\n",
            "Speed: 2.0ms preprocess, 78.8ms inference, 1.0ms postprocess per image at shape (1, 3, 384, 640)\n"
          ]
        },
        {
          "output_type": "stream",
          "name": "stderr",
          "text": [
            "\rProcessing:   4%|▎         | 339/9184 [00:41<17:04,  8.64it/s]"
          ]
        },
        {
          "output_type": "stream",
          "name": "stdout",
          "text": [
            "\n",
            "0: 384x640 1 person, 10 cars, 2 buss, 1 truck, 78.6ms\n",
            "Speed: 2.1ms preprocess, 78.6ms inference, 1.1ms postprocess per image at shape (1, 3, 384, 640)\n"
          ]
        },
        {
          "output_type": "stream",
          "name": "stderr",
          "text": [
            "\rProcessing:   4%|▎         | 340/9184 [00:41<16:42,  8.82it/s]"
          ]
        },
        {
          "output_type": "stream",
          "name": "stdout",
          "text": [
            "\n",
            "0: 384x640 3 persons, 11 cars, 2 buss, 1 truck, 79.6ms\n",
            "Speed: 1.9ms preprocess, 79.6ms inference, 0.9ms postprocess per image at shape (1, 3, 384, 640)\n"
          ]
        },
        {
          "output_type": "stream",
          "name": "stderr",
          "text": [
            "\rProcessing:   4%|▎         | 341/9184 [00:41<16:30,  8.92it/s]"
          ]
        },
        {
          "output_type": "stream",
          "name": "stdout",
          "text": [
            "\n",
            "0: 384x640 4 persons, 10 cars, 2 buss, 2 trucks, 77.7ms\n",
            "Speed: 2.0ms preprocess, 77.7ms inference, 1.0ms postprocess per image at shape (1, 3, 384, 640)\n"
          ]
        },
        {
          "output_type": "stream",
          "name": "stderr",
          "text": [
            "\rProcessing:   4%|▎         | 342/9184 [00:41<16:10,  9.11it/s]"
          ]
        },
        {
          "output_type": "stream",
          "name": "stdout",
          "text": [
            "\n",
            "0: 384x640 4 persons, 9 cars, 2 buss, 2 trucks, 76.3ms\n",
            "Speed: 2.2ms preprocess, 76.3ms inference, 1.1ms postprocess per image at shape (1, 3, 384, 640)\n"
          ]
        },
        {
          "output_type": "stream",
          "name": "stderr",
          "text": [
            "\rProcessing:   4%|▎         | 343/9184 [00:41<15:57,  9.23it/s]"
          ]
        },
        {
          "output_type": "stream",
          "name": "stdout",
          "text": [
            "\n",
            "0: 384x640 2 persons, 12 cars, 1 bus, 2 trucks, 34.1ms\n",
            "Speed: 2.0ms preprocess, 34.1ms inference, 1.0ms postprocess per image at shape (1, 3, 384, 640)\n"
          ]
        },
        {
          "output_type": "stream",
          "name": "stderr",
          "text": [
            "\rProcessing:   4%|▎         | 344/9184 [00:41<16:16,  9.05it/s]"
          ]
        },
        {
          "output_type": "stream",
          "name": "stdout",
          "text": [
            "\n",
            "0: 384x640 3 persons, 9 cars, 2 trucks, 37.7ms\n",
            "Speed: 2.1ms preprocess, 37.7ms inference, 1.0ms postprocess per image at shape (1, 3, 384, 640)\n"
          ]
        },
        {
          "output_type": "stream",
          "name": "stderr",
          "text": [
            "\rProcessing:   4%|▍         | 345/9184 [00:41<17:49,  8.26it/s]"
          ]
        },
        {
          "output_type": "stream",
          "name": "stdout",
          "text": [
            "\n",
            "0: 384x640 3 persons, 11 cars, 2 buss, 76.1ms\n",
            "Speed: 2.0ms preprocess, 76.1ms inference, 1.0ms postprocess per image at shape (1, 3, 384, 640)\n"
          ]
        },
        {
          "output_type": "stream",
          "name": "stderr",
          "text": [
            "\rProcessing:   4%|▍         | 346/9184 [00:41<17:10,  8.58it/s]"
          ]
        },
        {
          "output_type": "stream",
          "name": "stdout",
          "text": [
            "\n",
            "0: 384x640 2 persons, 12 cars, 1 bus, 77.6ms\n",
            "Speed: 2.1ms preprocess, 77.6ms inference, 1.1ms postprocess per image at shape (1, 3, 384, 640)\n"
          ]
        },
        {
          "output_type": "stream",
          "name": "stderr",
          "text": [
            "\rProcessing:   4%|▍         | 347/9184 [00:41<16:47,  8.77it/s]"
          ]
        },
        {
          "output_type": "stream",
          "name": "stdout",
          "text": [
            "\n",
            "0: 384x640 3 persons, 13 cars, 76.1ms\n",
            "Speed: 2.1ms preprocess, 76.1ms inference, 0.9ms postprocess per image at shape (1, 3, 384, 640)\n"
          ]
        },
        {
          "output_type": "stream",
          "name": "stderr",
          "text": [
            "\rProcessing:   4%|▍         | 348/9184 [00:42<16:20,  9.01it/s]"
          ]
        },
        {
          "output_type": "stream",
          "name": "stdout",
          "text": [
            "\n",
            "0: 384x640 2 persons, 12 cars, 77.1ms\n",
            "Speed: 2.0ms preprocess, 77.1ms inference, 0.9ms postprocess per image at shape (1, 3, 384, 640)\n"
          ]
        },
        {
          "output_type": "stream",
          "name": "stderr",
          "text": [
            "\rProcessing:   4%|▍         | 349/9184 [00:42<16:10,  9.11it/s]"
          ]
        },
        {
          "output_type": "stream",
          "name": "stdout",
          "text": [
            "\n",
            "0: 384x640 1 person, 11 cars, 1 bus, 75.0ms\n",
            "Speed: 2.0ms preprocess, 75.0ms inference, 1.0ms postprocess per image at shape (1, 3, 384, 640)\n"
          ]
        },
        {
          "output_type": "stream",
          "name": "stderr",
          "text": [
            "\rProcessing:   4%|▍         | 350/9184 [00:42<16:12,  9.08it/s]"
          ]
        },
        {
          "output_type": "stream",
          "name": "stdout",
          "text": [
            "\n",
            "0: 384x640 1 person, 13 cars, 75.0ms\n",
            "Speed: 2.1ms preprocess, 75.0ms inference, 1.0ms postprocess per image at shape (1, 3, 384, 640)\n"
          ]
        },
        {
          "output_type": "stream",
          "name": "stderr",
          "text": [
            "\rProcessing:   4%|▍         | 351/9184 [00:42<15:52,  9.28it/s]"
          ]
        },
        {
          "output_type": "stream",
          "name": "stdout",
          "text": [
            "\n",
            "0: 384x640 1 person, 12 cars, 1 bus, 35.3ms\n",
            "Speed: 2.0ms preprocess, 35.3ms inference, 1.0ms postprocess per image at shape (1, 3, 384, 640)\n"
          ]
        },
        {
          "output_type": "stream",
          "name": "stderr",
          "text": [
            "\rProcessing:   4%|▍         | 352/9184 [00:42<16:16,  9.05it/s]"
          ]
        },
        {
          "output_type": "stream",
          "name": "stdout",
          "text": [
            "\n",
            "0: 384x640 1 person, 14 cars, 35.1ms\n",
            "Speed: 2.0ms preprocess, 35.1ms inference, 1.0ms postprocess per image at shape (1, 3, 384, 640)\n"
          ]
        },
        {
          "output_type": "stream",
          "name": "stderr",
          "text": [
            "\rProcessing:   4%|▍         | 353/9184 [00:42<17:42,  8.31it/s]"
          ]
        },
        {
          "output_type": "stream",
          "name": "stdout",
          "text": [
            "\n",
            "0: 384x640 1 person, 11 cars, 36.6ms\n",
            "Speed: 2.0ms preprocess, 36.6ms inference, 1.0ms postprocess per image at shape (1, 3, 384, 640)\n"
          ]
        },
        {
          "output_type": "stream",
          "name": "stderr",
          "text": [
            "\rProcessing:   4%|▍         | 354/9184 [00:42<16:53,  8.71it/s]"
          ]
        },
        {
          "output_type": "stream",
          "name": "stdout",
          "text": [
            "\n",
            "0: 384x640 1 person, 13 cars, 75.8ms\n",
            "Speed: 2.0ms preprocess, 75.8ms inference, 1.0ms postprocess per image at shape (1, 3, 384, 640)\n"
          ]
        },
        {
          "output_type": "stream",
          "name": "stderr",
          "text": [
            "\rProcessing:   4%|▍         | 355/9184 [00:42<16:28,  8.93it/s]"
          ]
        },
        {
          "output_type": "stream",
          "name": "stdout",
          "text": [
            "\n",
            "0: 384x640 1 person, 9 cars, 77.9ms\n",
            "Speed: 2.2ms preprocess, 77.9ms inference, 1.0ms postprocess per image at shape (1, 3, 384, 640)\n"
          ]
        },
        {
          "output_type": "stream",
          "name": "stderr",
          "text": [
            "\rProcessing:   4%|▍         | 356/9184 [00:42<16:15,  9.05it/s]"
          ]
        },
        {
          "output_type": "stream",
          "name": "stdout",
          "text": [
            "\n",
            "0: 384x640 1 person, 9 cars, 76.9ms\n",
            "Speed: 2.0ms preprocess, 76.9ms inference, 0.9ms postprocess per image at shape (1, 3, 384, 640)\n"
          ]
        },
        {
          "output_type": "stream",
          "name": "stderr",
          "text": [
            "\rProcessing:   4%|▍         | 357/9184 [00:43<15:56,  9.23it/s]"
          ]
        },
        {
          "output_type": "stream",
          "name": "stdout",
          "text": [
            "\n",
            "0: 384x640 1 person, 12 cars, 80.5ms\n",
            "Speed: 2.0ms preprocess, 80.5ms inference, 1.0ms postprocess per image at shape (1, 3, 384, 640)\n"
          ]
        },
        {
          "output_type": "stream",
          "name": "stderr",
          "text": [
            "\rProcessing:   4%|▍         | 358/9184 [00:43<15:59,  9.20it/s]"
          ]
        },
        {
          "output_type": "stream",
          "name": "stdout",
          "text": [
            "\n",
            "0: 384x640 1 person, 11 cars, 1 bus, 80.3ms\n",
            "Speed: 2.2ms preprocess, 80.3ms inference, 1.0ms postprocess per image at shape (1, 3, 384, 640)\n"
          ]
        },
        {
          "output_type": "stream",
          "name": "stderr",
          "text": [
            "\rProcessing:   4%|▍         | 359/9184 [00:43<16:02,  9.17it/s]"
          ]
        },
        {
          "output_type": "stream",
          "name": "stdout",
          "text": [
            "\n",
            "0: 384x640 1 person, 13 cars, 76.3ms\n",
            "Speed: 2.1ms preprocess, 76.3ms inference, 1.1ms postprocess per image at shape (1, 3, 384, 640)\n"
          ]
        },
        {
          "output_type": "stream",
          "name": "stderr",
          "text": [
            "\rProcessing:   4%|▍         | 360/9184 [00:43<15:48,  9.30it/s]"
          ]
        },
        {
          "output_type": "stream",
          "name": "stdout",
          "text": [
            "\n",
            "0: 384x640 1 person, 9 cars, 1 bus, 38.5ms\n",
            "Speed: 2.3ms preprocess, 38.5ms inference, 1.1ms postprocess per image at shape (1, 3, 384, 640)\n"
          ]
        },
        {
          "output_type": "stream",
          "name": "stderr",
          "text": [
            "\rProcessing:   4%|▍         | 361/9184 [00:43<16:20,  9.00it/s]"
          ]
        },
        {
          "output_type": "stream",
          "name": "stdout",
          "text": [
            "\n",
            "0: 384x640 1 person, 8 cars, 1 bus, 77.3ms\n",
            "Speed: 2.0ms preprocess, 77.3ms inference, 1.0ms postprocess per image at shape (1, 3, 384, 640)\n"
          ]
        },
        {
          "output_type": "stream",
          "name": "stderr",
          "text": [
            "\rProcessing:   4%|▍         | 362/9184 [00:43<17:59,  8.17it/s]"
          ]
        },
        {
          "output_type": "stream",
          "name": "stdout",
          "text": [
            "\n",
            "0: 384x640 1 person, 8 cars, 1 bus, 80.4ms\n",
            "Speed: 2.0ms preprocess, 80.4ms inference, 0.9ms postprocess per image at shape (1, 3, 384, 640)\n"
          ]
        },
        {
          "output_type": "stream",
          "name": "stderr",
          "text": [
            "\rProcessing:   4%|▍         | 363/9184 [00:43<17:18,  8.49it/s]"
          ]
        },
        {
          "output_type": "stream",
          "name": "stdout",
          "text": [
            "\n",
            "0: 384x640 1 person, 9 cars, 2 buss, 80.6ms\n",
            "Speed: 2.1ms preprocess, 80.6ms inference, 1.0ms postprocess per image at shape (1, 3, 384, 640)\n"
          ]
        },
        {
          "output_type": "stream",
          "name": "stderr",
          "text": [
            "\rProcessing:   4%|▍         | 364/9184 [00:43<16:57,  8.66it/s]"
          ]
        },
        {
          "output_type": "stream",
          "name": "stdout",
          "text": [
            "\n",
            "0: 384x640 1 person, 9 cars, 1 bus, 79.3ms\n",
            "Speed: 2.2ms preprocess, 79.3ms inference, 1.0ms postprocess per image at shape (1, 3, 384, 640)\n"
          ]
        },
        {
          "output_type": "stream",
          "name": "stderr",
          "text": [
            "\rProcessing:   4%|▍         | 365/9184 [00:43<16:41,  8.80it/s]"
          ]
        },
        {
          "output_type": "stream",
          "name": "stdout",
          "text": [
            "\n",
            "0: 384x640 1 person, 7 cars, 1 bus, 78.6ms\n",
            "Speed: 2.0ms preprocess, 78.6ms inference, 0.9ms postprocess per image at shape (1, 3, 384, 640)\n"
          ]
        },
        {
          "output_type": "stream",
          "name": "stderr",
          "text": [
            "\rProcessing:   4%|▍         | 366/9184 [00:44<16:18,  9.01it/s]"
          ]
        },
        {
          "output_type": "stream",
          "name": "stdout",
          "text": [
            "\n",
            "0: 384x640 1 person, 8 cars, 1 bus, 36.8ms\n",
            "Speed: 2.1ms preprocess, 36.8ms inference, 1.0ms postprocess per image at shape (1, 3, 384, 640)\n"
          ]
        },
        {
          "output_type": "stream",
          "name": "stderr",
          "text": [
            "\rProcessing:   4%|▍         | 367/9184 [00:44<16:35,  8.86it/s]"
          ]
        },
        {
          "output_type": "stream",
          "name": "stdout",
          "text": [
            "\n",
            "0: 384x640 1 person, 6 cars, 1 truck, 35.6ms\n",
            "Speed: 2.2ms preprocess, 35.6ms inference, 1.0ms postprocess per image at shape (1, 3, 384, 640)\n"
          ]
        },
        {
          "output_type": "stream",
          "name": "stderr",
          "text": [
            "\rProcessing:   4%|▍         | 368/9184 [00:44<17:56,  8.19it/s]"
          ]
        },
        {
          "output_type": "stream",
          "name": "stdout",
          "text": [
            "\n",
            "0: 384x640 1 person, 7 cars, 1 bus, 80.9ms\n",
            "Speed: 2.0ms preprocess, 80.9ms inference, 1.0ms postprocess per image at shape (1, 3, 384, 640)\n"
          ]
        },
        {
          "output_type": "stream",
          "name": "stderr",
          "text": [
            "\rProcessing:   4%|▍         | 369/9184 [00:44<17:22,  8.46it/s]"
          ]
        },
        {
          "output_type": "stream",
          "name": "stdout",
          "text": [
            "\n",
            "0: 384x640 1 person, 8 cars, 1 bus, 77.4ms\n",
            "Speed: 2.1ms preprocess, 77.4ms inference, 1.0ms postprocess per image at shape (1, 3, 384, 640)\n"
          ]
        },
        {
          "output_type": "stream",
          "name": "stderr",
          "text": [
            "\rProcessing:   4%|▍         | 370/9184 [00:44<16:56,  8.67it/s]"
          ]
        },
        {
          "output_type": "stream",
          "name": "stdout",
          "text": [
            "\n",
            "0: 384x640 1 person, 9 cars, 1 bus, 78.5ms\n",
            "Speed: 2.0ms preprocess, 78.5ms inference, 1.0ms postprocess per image at shape (1, 3, 384, 640)\n"
          ]
        },
        {
          "output_type": "stream",
          "name": "stderr",
          "text": [
            "\rProcessing:   4%|▍         | 371/9184 [00:44<16:40,  8.81it/s]"
          ]
        },
        {
          "output_type": "stream",
          "name": "stdout",
          "text": [
            "\n",
            "0: 384x640 1 person, 6 cars, 1 bus, 2 trucks, 78.2ms\n",
            "Speed: 2.4ms preprocess, 78.2ms inference, 1.0ms postprocess per image at shape (1, 3, 384, 640)\n"
          ]
        },
        {
          "output_type": "stream",
          "name": "stderr",
          "text": [
            "\rProcessing:   4%|▍         | 372/9184 [00:44<16:23,  8.96it/s]"
          ]
        },
        {
          "output_type": "stream",
          "name": "stdout",
          "text": [
            "\n",
            "0: 384x640 2 persons, 9 cars, 1 bus, 1 truck, 35.9ms\n",
            "Speed: 42.0ms preprocess, 35.9ms inference, 1.1ms postprocess per image at shape (1, 3, 384, 640)\n"
          ]
        },
        {
          "output_type": "stream",
          "name": "stderr",
          "text": [
            "\rProcessing:   4%|▍         | 373/9184 [00:44<16:09,  9.09it/s]"
          ]
        },
        {
          "output_type": "stream",
          "name": "stdout",
          "text": [
            "\n",
            "0: 384x640 1 person, 9 cars, 1 bus, 1 truck, 34.7ms\n",
            "Speed: 2.1ms preprocess, 34.7ms inference, 0.9ms postprocess per image at shape (1, 3, 384, 640)\n"
          ]
        },
        {
          "output_type": "stream",
          "name": "stderr",
          "text": [
            "\rProcessing:   4%|▍         | 374/9184 [00:44<16:32,  8.88it/s]"
          ]
        },
        {
          "output_type": "stream",
          "name": "stdout",
          "text": [
            "\n",
            "0: 384x640 1 person, 8 cars, 37.5ms\n",
            "Speed: 2.0ms preprocess, 37.5ms inference, 1.0ms postprocess per image at shape (1, 3, 384, 640)\n"
          ]
        },
        {
          "output_type": "stream",
          "name": "stderr",
          "text": [
            "\rProcessing:   4%|▍         | 375/9184 [00:45<17:47,  8.25it/s]"
          ]
        },
        {
          "output_type": "stream",
          "name": "stdout",
          "text": [
            "\n",
            "0: 384x640 1 person, 10 cars, 75.0ms\n",
            "Speed: 2.1ms preprocess, 75.0ms inference, 1.0ms postprocess per image at shape (1, 3, 384, 640)\n"
          ]
        },
        {
          "output_type": "stream",
          "name": "stderr",
          "text": [
            "\rProcessing:   4%|▍         | 376/9184 [00:45<17:10,  8.54it/s]"
          ]
        },
        {
          "output_type": "stream",
          "name": "stdout",
          "text": [
            "\n",
            "0: 384x640 1 person, 9 cars, 1 bus, 77.1ms\n",
            "Speed: 2.1ms preprocess, 77.1ms inference, 1.0ms postprocess per image at shape (1, 3, 384, 640)\n"
          ]
        },
        {
          "output_type": "stream",
          "name": "stderr",
          "text": [
            "\rProcessing:   4%|▍         | 377/9184 [00:45<16:52,  8.70it/s]"
          ]
        },
        {
          "output_type": "stream",
          "name": "stdout",
          "text": [
            "\n",
            "0: 384x640 1 person, 9 cars, 1 bus, 1 truck, 77.3ms\n",
            "Speed: 2.0ms preprocess, 77.3ms inference, 0.9ms postprocess per image at shape (1, 3, 384, 640)\n"
          ]
        },
        {
          "output_type": "stream",
          "name": "stderr",
          "text": [
            "\rProcessing:   4%|▍         | 378/9184 [00:45<16:27,  8.92it/s]"
          ]
        },
        {
          "output_type": "stream",
          "name": "stdout",
          "text": [
            "\n",
            "0: 384x640 1 person, 8 cars, 1 bus, 1 truck, 74.2ms\n",
            "Speed: 2.0ms preprocess, 74.2ms inference, 0.9ms postprocess per image at shape (1, 3, 384, 640)\n"
          ]
        },
        {
          "output_type": "stream",
          "name": "stderr",
          "text": [
            "\rProcessing:   4%|▍         | 379/9184 [00:45<16:09,  9.08it/s]"
          ]
        },
        {
          "output_type": "stream",
          "name": "stdout",
          "text": [
            "\n",
            "0: 384x640 1 person, 9 cars, 1 bus, 1 truck, 75.1ms\n",
            "Speed: 2.0ms preprocess, 75.1ms inference, 1.0ms postprocess per image at shape (1, 3, 384, 640)\n"
          ]
        },
        {
          "output_type": "stream",
          "name": "stderr",
          "text": [
            "\rProcessing:   4%|▍         | 380/9184 [00:45<16:01,  9.15it/s]"
          ]
        },
        {
          "output_type": "stream",
          "name": "stdout",
          "text": [
            "\n",
            "0: 384x640 1 person, 7 cars, 1 bus, 74.3ms\n",
            "Speed: 2.1ms preprocess, 74.3ms inference, 1.0ms postprocess per image at shape (1, 3, 384, 640)\n"
          ]
        },
        {
          "output_type": "stream",
          "name": "stderr",
          "text": [
            "\rProcessing:   4%|▍         | 381/9184 [00:45<15:47,  9.29it/s]"
          ]
        },
        {
          "output_type": "stream",
          "name": "stdout",
          "text": [
            "\n",
            "0: 384x640 3 persons, 8 cars, 1 bus, 38.1ms\n",
            "Speed: 2.2ms preprocess, 38.1ms inference, 1.0ms postprocess per image at shape (1, 3, 384, 640)\n"
          ]
        },
        {
          "output_type": "stream",
          "name": "stderr",
          "text": [
            "\rProcessing:   4%|▍         | 382/9184 [00:45<16:23,  8.95it/s]"
          ]
        },
        {
          "output_type": "stream",
          "name": "stdout",
          "text": [
            "\n",
            "0: 384x640 1 person, 7 cars, 1 bus, 1 truck, 33.8ms\n",
            "Speed: 1.9ms preprocess, 33.8ms inference, 0.9ms postprocess per image at shape (1, 3, 384, 640)\n"
          ]
        },
        {
          "output_type": "stream",
          "name": "stderr",
          "text": [
            "\rProcessing:   4%|▍         | 383/9184 [00:46<17:38,  8.32it/s]"
          ]
        },
        {
          "output_type": "stream",
          "name": "stdout",
          "text": [
            "\n",
            "0: 384x640 2 persons, 6 cars, 1 bus, 75.7ms\n",
            "Speed: 1.9ms preprocess, 75.7ms inference, 1.0ms postprocess per image at shape (1, 3, 384, 640)\n"
          ]
        },
        {
          "output_type": "stream",
          "name": "stderr",
          "text": [
            "\rProcessing:   4%|▍         | 384/9184 [00:46<16:59,  8.63it/s]"
          ]
        },
        {
          "output_type": "stream",
          "name": "stdout",
          "text": [
            "\n",
            "0: 384x640 2 persons, 7 cars, 1 bus, 1 truck, 75.5ms\n",
            "Speed: 2.0ms preprocess, 75.5ms inference, 1.0ms postprocess per image at shape (1, 3, 384, 640)\n"
          ]
        },
        {
          "output_type": "stream",
          "name": "stderr",
          "text": [
            "\rProcessing:   4%|▍         | 385/9184 [00:46<16:39,  8.81it/s]"
          ]
        },
        {
          "output_type": "stream",
          "name": "stdout",
          "text": [
            "\n",
            "0: 384x640 2 persons, 5 cars, 1 truck, 75.6ms\n",
            "Speed: 2.0ms preprocess, 75.6ms inference, 0.9ms postprocess per image at shape (1, 3, 384, 640)\n"
          ]
        },
        {
          "output_type": "stream",
          "name": "stderr",
          "text": [
            "\rProcessing:   4%|▍         | 386/9184 [00:46<16:29,  8.89it/s]"
          ]
        },
        {
          "output_type": "stream",
          "name": "stdout",
          "text": [
            "\n",
            "0: 384x640 2 persons, 5 cars, 1 bus, 1 truck, 76.4ms\n",
            "Speed: 2.1ms preprocess, 76.4ms inference, 0.9ms postprocess per image at shape (1, 3, 384, 640)\n"
          ]
        },
        {
          "output_type": "stream",
          "name": "stderr",
          "text": [
            "\rProcessing:   4%|▍         | 387/9184 [00:46<16:07,  9.09it/s]"
          ]
        },
        {
          "output_type": "stream",
          "name": "stdout",
          "text": [
            "\n",
            "0: 384x640 2 persons, 6 cars, 1 truck, 74.6ms\n",
            "Speed: 2.0ms preprocess, 74.6ms inference, 0.9ms postprocess per image at shape (1, 3, 384, 640)\n"
          ]
        },
        {
          "output_type": "stream",
          "name": "stderr",
          "text": [
            "\rProcessing:   4%|▍         | 388/9184 [00:46<15:57,  9.19it/s]"
          ]
        },
        {
          "output_type": "stream",
          "name": "stdout",
          "text": [
            "\n",
            "0: 384x640 2 persons, 7 cars, 1 bus, 35.4ms\n",
            "Speed: 41.1ms preprocess, 35.4ms inference, 1.0ms postprocess per image at shape (1, 3, 384, 640)\n"
          ]
        },
        {
          "output_type": "stream",
          "name": "stderr",
          "text": [
            "\rProcessing:   4%|▍         | 389/9184 [00:46<15:53,  9.22it/s]"
          ]
        },
        {
          "output_type": "stream",
          "name": "stdout",
          "text": [
            "\n",
            "0: 384x640 1 person, 5 cars, 2 buss, 36.7ms\n",
            "Speed: 2.0ms preprocess, 36.7ms inference, 1.0ms postprocess per image at shape (1, 3, 384, 640)\n"
          ]
        },
        {
          "output_type": "stream",
          "name": "stderr",
          "text": [
            "\rProcessing:   4%|▍         | 390/9184 [00:46<16:18,  8.99it/s]"
          ]
        },
        {
          "output_type": "stream",
          "name": "stdout",
          "text": [
            "\n",
            "0: 384x640 2 persons, 4 cars, 2 buss, 36.3ms\n",
            "Speed: 2.0ms preprocess, 36.3ms inference, 0.9ms postprocess per image at shape (1, 3, 384, 640)\n"
          ]
        },
        {
          "output_type": "stream",
          "name": "stderr",
          "text": [
            "\rProcessing:   4%|▍         | 391/9184 [00:46<17:31,  8.36it/s]"
          ]
        },
        {
          "output_type": "stream",
          "name": "stdout",
          "text": [
            "\n",
            "0: 384x640 2 persons, 5 cars, 1 train, 76.5ms\n",
            "Speed: 1.9ms preprocess, 76.5ms inference, 0.9ms postprocess per image at shape (1, 3, 384, 640)\n"
          ]
        },
        {
          "output_type": "stream",
          "name": "stderr",
          "text": [
            "\rProcessing:   4%|▍         | 392/9184 [00:47<17:04,  8.58it/s]"
          ]
        },
        {
          "output_type": "stream",
          "name": "stdout",
          "text": [
            "\n",
            "0: 384x640 1 person, 5 cars, 1 bus, 2 trucks, 76.1ms\n",
            "Speed: 1.9ms preprocess, 76.1ms inference, 0.9ms postprocess per image at shape (1, 3, 384, 640)\n"
          ]
        },
        {
          "output_type": "stream",
          "name": "stderr",
          "text": [
            "\rProcessing:   4%|▍         | 393/9184 [00:47<16:34,  8.84it/s]"
          ]
        },
        {
          "output_type": "stream",
          "name": "stdout",
          "text": [
            "\n",
            "0: 384x640 2 persons, 6 cars, 1 bus, 1 truck, 77.7ms\n",
            "Speed: 2.0ms preprocess, 77.7ms inference, 0.9ms postprocess per image at shape (1, 3, 384, 640)\n"
          ]
        },
        {
          "output_type": "stream",
          "name": "stderr",
          "text": [
            "\rProcessing:   4%|▍         | 394/9184 [00:47<16:24,  8.93it/s]"
          ]
        },
        {
          "output_type": "stream",
          "name": "stdout",
          "text": [
            "\n",
            "0: 384x640 2 persons, 6 cars, 2 trucks, 73.7ms\n",
            "Speed: 2.0ms preprocess, 73.7ms inference, 0.9ms postprocess per image at shape (1, 3, 384, 640)\n"
          ]
        },
        {
          "output_type": "stream",
          "name": "stderr",
          "text": [
            "\rProcessing:   4%|▍         | 395/9184 [00:47<16:11,  9.05it/s]"
          ]
        },
        {
          "output_type": "stream",
          "name": "stdout",
          "text": [
            "\n",
            "0: 384x640 2 persons, 6 cars, 74.9ms\n",
            "Speed: 2.1ms preprocess, 74.9ms inference, 0.9ms postprocess per image at shape (1, 3, 384, 640)\n"
          ]
        },
        {
          "output_type": "stream",
          "name": "stderr",
          "text": [
            "\rProcessing:   4%|▍         | 396/9184 [00:47<15:54,  9.21it/s]"
          ]
        },
        {
          "output_type": "stream",
          "name": "stdout",
          "text": [
            "\n",
            "0: 384x640 2 persons, 8 cars, 72.7ms\n",
            "Speed: 2.0ms preprocess, 72.7ms inference, 1.0ms postprocess per image at shape (1, 3, 384, 640)\n"
          ]
        },
        {
          "output_type": "stream",
          "name": "stderr",
          "text": [
            "\rProcessing:   4%|▍         | 397/9184 [00:47<15:42,  9.32it/s]"
          ]
        },
        {
          "output_type": "stream",
          "name": "stdout",
          "text": [
            "\n",
            "0: 384x640 1 person, 5 cars, 1 train, 34.8ms\n",
            "Speed: 2.1ms preprocess, 34.8ms inference, 0.9ms postprocess per image at shape (1, 3, 384, 640)\n"
          ]
        },
        {
          "output_type": "stream",
          "name": "stderr",
          "text": [
            "\rProcessing:   4%|▍         | 398/9184 [00:47<16:13,  9.03it/s]"
          ]
        },
        {
          "output_type": "stream",
          "name": "stdout",
          "text": [
            "\n",
            "0: 384x640 1 person, 6 cars, 1 train, 36.9ms\n",
            "Speed: 2.0ms preprocess, 36.9ms inference, 0.9ms postprocess per image at shape (1, 3, 384, 640)\n"
          ]
        },
        {
          "output_type": "stream",
          "name": "stderr",
          "text": [
            "\rProcessing:   4%|▍         | 399/9184 [00:47<17:37,  8.31it/s]"
          ]
        },
        {
          "output_type": "stream",
          "name": "stdout",
          "text": [
            "\n",
            "0: 384x640 1 person, 6 cars, 1 train, 35.6ms\n",
            "Speed: 1.9ms preprocess, 35.6ms inference, 38.2ms postprocess per image at shape (1, 3, 384, 640)\n"
          ]
        },
        {
          "output_type": "stream",
          "name": "stderr",
          "text": [
            "\rProcessing:   4%|▍         | 400/9184 [00:47<16:51,  8.68it/s]"
          ]
        },
        {
          "output_type": "stream",
          "name": "stdout",
          "text": [
            "\n",
            "0: 384x640 2 persons, 5 cars, 78.1ms\n",
            "Speed: 2.0ms preprocess, 78.1ms inference, 0.9ms postprocess per image at shape (1, 3, 384, 640)\n"
          ]
        },
        {
          "output_type": "stream",
          "name": "stderr",
          "text": [
            "\rProcessing:   4%|▍         | 401/9184 [00:48<16:33,  8.84it/s]"
          ]
        },
        {
          "output_type": "stream",
          "name": "stdout",
          "text": [
            "\n",
            "0: 384x640 2 persons, 6 cars, 77.2ms\n",
            "Speed: 2.1ms preprocess, 77.2ms inference, 1.4ms postprocess per image at shape (1, 3, 384, 640)\n"
          ]
        },
        {
          "output_type": "stream",
          "name": "stderr",
          "text": [
            "\rProcessing:   4%|▍         | 402/9184 [00:48<16:24,  8.92it/s]"
          ]
        },
        {
          "output_type": "stream",
          "name": "stdout",
          "text": [
            "\n",
            "0: 384x640 1 person, 6 cars, 76.0ms\n",
            "Speed: 2.0ms preprocess, 76.0ms inference, 1.0ms postprocess per image at shape (1, 3, 384, 640)\n"
          ]
        },
        {
          "output_type": "stream",
          "name": "stderr",
          "text": [
            "\rProcessing:   4%|▍         | 403/9184 [00:48<16:14,  9.01it/s]"
          ]
        },
        {
          "output_type": "stream",
          "name": "stdout",
          "text": [
            "\n",
            "0: 384x640 2 persons, 6 cars, 77.6ms\n",
            "Speed: 2.0ms preprocess, 77.6ms inference, 0.9ms postprocess per image at shape (1, 3, 384, 640)\n"
          ]
        },
        {
          "output_type": "stream",
          "name": "stderr",
          "text": [
            "\rProcessing:   4%|▍         | 404/9184 [00:48<16:04,  9.10it/s]"
          ]
        },
        {
          "output_type": "stream",
          "name": "stdout",
          "text": [
            "\n",
            "0: 384x640 2 persons, 6 cars, 36.4ms\n",
            "Speed: 2.1ms preprocess, 36.4ms inference, 0.9ms postprocess per image at shape (1, 3, 384, 640)\n"
          ]
        },
        {
          "output_type": "stream",
          "name": "stderr",
          "text": [
            "\rProcessing:   4%|▍         | 405/9184 [00:48<15:53,  9.21it/s]"
          ]
        },
        {
          "output_type": "stream",
          "name": "stdout",
          "text": [
            "\n",
            "0: 384x640 2 persons, 7 cars, 36.3ms\n",
            "Speed: 2.0ms preprocess, 36.3ms inference, 1.0ms postprocess per image at shape (1, 3, 384, 640)\n"
          ]
        },
        {
          "output_type": "stream",
          "name": "stderr",
          "text": [
            "\rProcessing:   4%|▍         | 406/9184 [00:48<16:05,  9.10it/s]"
          ]
        },
        {
          "output_type": "stream",
          "name": "stdout",
          "text": [
            "\n",
            "0: 384x640 2 persons, 7 cars, 34.4ms\n",
            "Speed: 2.1ms preprocess, 34.4ms inference, 0.9ms postprocess per image at shape (1, 3, 384, 640)\n"
          ]
        },
        {
          "output_type": "stream",
          "name": "stderr",
          "text": [
            "\rProcessing:   4%|▍         | 407/9184 [00:48<15:45,  9.28it/s]"
          ]
        },
        {
          "output_type": "stream",
          "name": "stdout",
          "text": [
            "\n",
            "0: 384x640 2 persons, 6 cars, 82.0ms\n",
            "Speed: 2.0ms preprocess, 82.0ms inference, 1.0ms postprocess per image at shape (1, 3, 384, 640)\n"
          ]
        },
        {
          "output_type": "stream",
          "name": "stderr",
          "text": [
            "\rProcessing:   4%|▍         | 408/9184 [00:48<17:31,  8.35it/s]"
          ]
        },
        {
          "output_type": "stream",
          "name": "stdout",
          "text": [
            "\n",
            "0: 384x640 3 persons, 5 cars, 79.6ms\n",
            "Speed: 2.0ms preprocess, 79.6ms inference, 0.9ms postprocess per image at shape (1, 3, 384, 640)\n"
          ]
        },
        {
          "output_type": "stream",
          "name": "stderr",
          "text": [
            "\rProcessing:   4%|▍         | 409/9184 [00:48<17:04,  8.56it/s]"
          ]
        },
        {
          "output_type": "stream",
          "name": "stdout",
          "text": [
            "\n",
            "0: 384x640 3 persons, 5 cars, 75.2ms\n",
            "Speed: 2.0ms preprocess, 75.2ms inference, 0.9ms postprocess per image at shape (1, 3, 384, 640)\n"
          ]
        },
        {
          "output_type": "stream",
          "name": "stderr",
          "text": [
            "\rProcessing:   4%|▍         | 410/9184 [00:49<16:47,  8.71it/s]"
          ]
        },
        {
          "output_type": "stream",
          "name": "stdout",
          "text": [
            "\n",
            "0: 384x640 3 persons, 5 cars, 1 bus, 1 truck, 76.5ms\n",
            "Speed: 2.1ms preprocess, 76.5ms inference, 1.1ms postprocess per image at shape (1, 3, 384, 640)\n"
          ]
        },
        {
          "output_type": "stream",
          "name": "stderr",
          "text": [
            "\rProcessing:   4%|▍         | 411/9184 [00:49<16:21,  8.93it/s]"
          ]
        },
        {
          "output_type": "stream",
          "name": "stdout",
          "text": [
            "\n",
            "0: 384x640 4 persons, 6 cars, 77.5ms\n",
            "Speed: 2.1ms preprocess, 77.5ms inference, 1.0ms postprocess per image at shape (1, 3, 384, 640)\n"
          ]
        },
        {
          "output_type": "stream",
          "name": "stderr",
          "text": [
            "\rProcessing:   4%|▍         | 412/9184 [00:49<16:10,  9.03it/s]"
          ]
        },
        {
          "output_type": "stream",
          "name": "stdout",
          "text": [
            "\n",
            "0: 384x640 4 persons, 6 cars, 35.2ms\n",
            "Speed: 2.0ms preprocess, 35.2ms inference, 0.9ms postprocess per image at shape (1, 3, 384, 640)\n"
          ]
        },
        {
          "output_type": "stream",
          "name": "stderr",
          "text": [
            "\rProcessing:   4%|▍         | 413/9184 [00:49<18:15,  8.01it/s]"
          ]
        },
        {
          "output_type": "stream",
          "name": "stdout",
          "text": [
            "\n",
            "0: 384x640 4 persons, 6 cars, 37.8ms\n",
            "Speed: 2.0ms preprocess, 37.8ms inference, 0.9ms postprocess per image at shape (1, 3, 384, 640)\n"
          ]
        },
        {
          "output_type": "stream",
          "name": "stderr",
          "text": [
            "\rProcessing:   5%|▍         | 414/9184 [00:49<17:15,  8.47it/s]"
          ]
        },
        {
          "output_type": "stream",
          "name": "stdout",
          "text": [
            "\n",
            "0: 384x640 3 persons, 6 cars, 76.9ms\n",
            "Speed: 1.9ms preprocess, 76.9ms inference, 1.0ms postprocess per image at shape (1, 3, 384, 640)\n"
          ]
        },
        {
          "output_type": "stream",
          "name": "stderr",
          "text": [
            "\rProcessing:   5%|▍         | 415/9184 [00:49<16:44,  8.73it/s]"
          ]
        },
        {
          "output_type": "stream",
          "name": "stdout",
          "text": [
            "\n",
            "0: 384x640 4 persons, 7 cars, 1 bus, 76.0ms\n",
            "Speed: 2.0ms preprocess, 76.0ms inference, 1.0ms postprocess per image at shape (1, 3, 384, 640)\n"
          ]
        },
        {
          "output_type": "stream",
          "name": "stderr",
          "text": [
            "\rProcessing:   5%|▍         | 416/9184 [00:49<16:22,  8.92it/s]"
          ]
        },
        {
          "output_type": "stream",
          "name": "stdout",
          "text": [
            "\n",
            "0: 384x640 4 persons, 5 cars, 1 bus, 1 truck, 79.1ms\n",
            "Speed: 2.0ms preprocess, 79.1ms inference, 1.1ms postprocess per image at shape (1, 3, 384, 640)\n"
          ]
        },
        {
          "output_type": "stream",
          "name": "stderr",
          "text": [
            "\rProcessing:   5%|▍         | 417/9184 [00:49<16:08,  9.05it/s]"
          ]
        },
        {
          "output_type": "stream",
          "name": "stdout",
          "text": [
            "\n",
            "0: 384x640 4 persons, 6 cars, 1 bus, 81.1ms\n",
            "Speed: 2.0ms preprocess, 81.1ms inference, 1.0ms postprocess per image at shape (1, 3, 384, 640)\n"
          ]
        },
        {
          "output_type": "stream",
          "name": "stderr",
          "text": [
            "\rProcessing:   5%|▍         | 418/9184 [00:49<16:12,  9.02it/s]"
          ]
        },
        {
          "output_type": "stream",
          "name": "stdout",
          "text": [
            "\n",
            "0: 384x640 1 person, 4 cars, 1 truck, 79.9ms\n",
            "Speed: 2.0ms preprocess, 79.9ms inference, 0.9ms postprocess per image at shape (1, 3, 384, 640)\n"
          ]
        },
        {
          "output_type": "stream",
          "name": "stderr",
          "text": [
            "\rProcessing:   5%|▍         | 419/9184 [00:50<16:06,  9.07it/s]"
          ]
        },
        {
          "output_type": "stream",
          "name": "stdout",
          "text": [
            "\n",
            "0: 384x640 4 persons, 5 cars, 37.2ms\n",
            "Speed: 2.0ms preprocess, 37.2ms inference, 0.9ms postprocess per image at shape (1, 3, 384, 640)\n"
          ]
        },
        {
          "output_type": "stream",
          "name": "stderr",
          "text": [
            "\rProcessing:   5%|▍         | 420/9184 [00:50<15:54,  9.18it/s]"
          ]
        },
        {
          "output_type": "stream",
          "name": "stdout",
          "text": [
            "\n",
            "0: 384x640 2 persons, 5 cars, 37.4ms\n",
            "Speed: 2.0ms preprocess, 37.4ms inference, 1.0ms postprocess per image at shape (1, 3, 384, 640)\n"
          ]
        },
        {
          "output_type": "stream",
          "name": "stderr",
          "text": [
            "\rProcessing:   5%|▍         | 421/9184 [00:50<17:55,  8.15it/s]"
          ]
        },
        {
          "output_type": "stream",
          "name": "stdout",
          "text": [
            "\n",
            "0: 384x640 2 persons, 6 cars, 1 bus, 74.2ms\n",
            "Speed: 2.1ms preprocess, 74.2ms inference, 1.0ms postprocess per image at shape (1, 3, 384, 640)\n"
          ]
        },
        {
          "output_type": "stream",
          "name": "stderr",
          "text": [
            "\rProcessing:   5%|▍         | 422/9184 [00:50<17:18,  8.44it/s]"
          ]
        },
        {
          "output_type": "stream",
          "name": "stdout",
          "text": [
            "\n",
            "0: 384x640 4 persons, 5 cars, 2 buss, 81.5ms\n",
            "Speed: 2.0ms preprocess, 81.5ms inference, 1.0ms postprocess per image at shape (1, 3, 384, 640)\n"
          ]
        },
        {
          "output_type": "stream",
          "name": "stderr",
          "text": [
            "\rProcessing:   5%|▍         | 423/9184 [00:50<16:52,  8.66it/s]"
          ]
        },
        {
          "output_type": "stream",
          "name": "stdout",
          "text": [
            "\n",
            "0: 384x640 3 persons, 6 cars, 2 buss, 1 truck, 80.8ms\n",
            "Speed: 2.0ms preprocess, 80.8ms inference, 1.0ms postprocess per image at shape (1, 3, 384, 640)\n"
          ]
        },
        {
          "output_type": "stream",
          "name": "stderr",
          "text": [
            "\rProcessing:   5%|▍         | 424/9184 [00:50<16:35,  8.80it/s]"
          ]
        },
        {
          "output_type": "stream",
          "name": "stdout",
          "text": [
            "\n",
            "0: 384x640 3 persons, 5 cars, 1 bus, 83.5ms\n",
            "Speed: 2.2ms preprocess, 83.5ms inference, 1.1ms postprocess per image at shape (1, 3, 384, 640)\n"
          ]
        },
        {
          "output_type": "stream",
          "name": "stderr",
          "text": [
            "\rProcessing:   5%|▍         | 425/9184 [00:50<16:33,  8.82it/s]"
          ]
        },
        {
          "output_type": "stream",
          "name": "stdout",
          "text": [
            "\n",
            "0: 384x640 2 persons, 7 cars, 39.2ms\n",
            "Speed: 2.1ms preprocess, 39.2ms inference, 1.0ms postprocess per image at shape (1, 3, 384, 640)\n"
          ]
        },
        {
          "output_type": "stream",
          "name": "stderr",
          "text": [
            "\rProcessing:   5%|▍         | 426/9184 [00:50<16:40,  8.75it/s]"
          ]
        },
        {
          "output_type": "stream",
          "name": "stdout",
          "text": [
            "\n",
            "0: 384x640 2 persons, 6 cars, 1 truck, 38.5ms\n",
            "Speed: 2.4ms preprocess, 38.5ms inference, 42.3ms postprocess per image at shape (1, 3, 384, 640)\n"
          ]
        },
        {
          "output_type": "stream",
          "name": "stderr",
          "text": [
            "\rProcessing:   5%|▍         | 427/9184 [00:51<18:09,  8.04it/s]"
          ]
        },
        {
          "output_type": "stream",
          "name": "stdout",
          "text": [
            "\n",
            "0: 384x640 2 persons, 5 cars, 1 bus, 1 truck, 81.8ms\n",
            "Speed: 2.0ms preprocess, 81.8ms inference, 0.9ms postprocess per image at shape (1, 3, 384, 640)\n"
          ]
        },
        {
          "output_type": "stream",
          "name": "stderr",
          "text": [
            "\rProcessing:   5%|▍         | 428/9184 [00:51<17:35,  8.29it/s]"
          ]
        },
        {
          "output_type": "stream",
          "name": "stdout",
          "text": [
            "\n",
            "0: 384x640 2 persons, 5 cars, 1 truck, 76.9ms\n",
            "Speed: 2.1ms preprocess, 76.9ms inference, 1.0ms postprocess per image at shape (1, 3, 384, 640)\n"
          ]
        },
        {
          "output_type": "stream",
          "name": "stderr",
          "text": [
            "\rProcessing:   5%|▍         | 429/9184 [00:51<16:52,  8.65it/s]"
          ]
        },
        {
          "output_type": "stream",
          "name": "stdout",
          "text": [
            "\n",
            "0: 384x640 3 persons, 5 cars, 1 bus, 1 truck, 80.2ms\n",
            "Speed: 2.1ms preprocess, 80.2ms inference, 1.0ms postprocess per image at shape (1, 3, 384, 640)\n"
          ]
        },
        {
          "output_type": "stream",
          "name": "stderr",
          "text": [
            "\rProcessing:   5%|▍         | 430/9184 [00:51<16:36,  8.78it/s]"
          ]
        },
        {
          "output_type": "stream",
          "name": "stdout",
          "text": [
            "\n",
            "0: 384x640 2 persons, 5 cars, 1 bus, 1 truck, 83.8ms\n",
            "Speed: 2.1ms preprocess, 83.8ms inference, 1.0ms postprocess per image at shape (1, 3, 384, 640)\n"
          ]
        },
        {
          "output_type": "stream",
          "name": "stderr",
          "text": [
            "\rProcessing:   5%|▍         | 431/9184 [00:51<16:32,  8.82it/s]"
          ]
        },
        {
          "output_type": "stream",
          "name": "stdout",
          "text": [
            "\n",
            "0: 384x640 2 persons, 4 cars, 1 bus, 36.8ms\n",
            "Speed: 2.0ms preprocess, 36.8ms inference, 0.9ms postprocess per image at shape (1, 3, 384, 640)\n"
          ]
        },
        {
          "output_type": "stream",
          "name": "stderr",
          "text": [
            "\rProcessing:   5%|▍         | 432/9184 [00:51<16:25,  8.88it/s]"
          ]
        },
        {
          "output_type": "stream",
          "name": "stdout",
          "text": [
            "\n",
            "0: 384x640 2 persons, 5 cars, 1 bus, 1 truck, 37.9ms\n",
            "Speed: 2.1ms preprocess, 37.9ms inference, 1.0ms postprocess per image at shape (1, 3, 384, 640)\n"
          ]
        },
        {
          "output_type": "stream",
          "name": "stderr",
          "text": [
            "\rProcessing:   5%|▍         | 433/9184 [00:51<17:56,  8.13it/s]"
          ]
        },
        {
          "output_type": "stream",
          "name": "stdout",
          "text": [
            "\n",
            "0: 384x640 2 persons, 4 cars, 1 bus, 1 truck, 73.2ms\n",
            "Speed: 2.2ms preprocess, 73.2ms inference, 0.9ms postprocess per image at shape (1, 3, 384, 640)\n"
          ]
        },
        {
          "output_type": "stream",
          "name": "stderr",
          "text": [
            "\rProcessing:   5%|▍         | 434/9184 [00:51<17:17,  8.43it/s]"
          ]
        },
        {
          "output_type": "stream",
          "name": "stdout",
          "text": [
            "\n",
            "0: 384x640 1 person, 5 cars, 1 bus, 76.4ms\n",
            "Speed: 2.0ms preprocess, 76.4ms inference, 1.0ms postprocess per image at shape (1, 3, 384, 640)\n"
          ]
        },
        {
          "output_type": "stream",
          "name": "stderr",
          "text": [
            "\rProcessing:   5%|▍         | 435/9184 [00:51<16:33,  8.81it/s]"
          ]
        },
        {
          "output_type": "stream",
          "name": "stdout",
          "text": [
            "\n",
            "0: 384x640 2 persons, 5 cars, 1 bus, 1 truck, 78.8ms\n",
            "Speed: 2.0ms preprocess, 78.8ms inference, 0.9ms postprocess per image at shape (1, 3, 384, 640)\n"
          ]
        },
        {
          "output_type": "stream",
          "name": "stderr",
          "text": [
            "\rProcessing:   5%|▍         | 436/9184 [00:52<16:15,  8.97it/s]"
          ]
        },
        {
          "output_type": "stream",
          "name": "stdout",
          "text": [
            "\n",
            "0: 384x640 1 person, 4 cars, 1 bus, 80.0ms\n",
            "Speed: 2.2ms preprocess, 80.0ms inference, 1.1ms postprocess per image at shape (1, 3, 384, 640)\n"
          ]
        },
        {
          "output_type": "stream",
          "name": "stderr",
          "text": [
            "\rProcessing:   5%|▍         | 437/9184 [00:52<16:07,  9.04it/s]"
          ]
        },
        {
          "output_type": "stream",
          "name": "stdout",
          "text": [
            "\n",
            "0: 384x640 1 person, 4 cars, 76.2ms\n",
            "Speed: 2.1ms preprocess, 76.2ms inference, 0.9ms postprocess per image at shape (1, 3, 384, 640)\n"
          ]
        },
        {
          "output_type": "stream",
          "name": "stderr",
          "text": [
            "\rProcessing:   5%|▍         | 438/9184 [00:52<15:46,  9.24it/s]"
          ]
        },
        {
          "output_type": "stream",
          "name": "stdout",
          "text": [
            "\n",
            "0: 384x640 1 person, 4 cars, 1 bus, 78.1ms\n",
            "Speed: 2.0ms preprocess, 78.1ms inference, 0.9ms postprocess per image at shape (1, 3, 384, 640)\n"
          ]
        },
        {
          "output_type": "stream",
          "name": "stderr",
          "text": [
            "\rProcessing:   5%|▍         | 439/9184 [00:52<15:40,  9.30it/s]"
          ]
        },
        {
          "output_type": "stream",
          "name": "stdout",
          "text": [
            "\n",
            "0: 384x640 1 person, 4 cars, 1 bus, 1 truck, 76.2ms\n",
            "Speed: 2.1ms preprocess, 76.2ms inference, 0.9ms postprocess per image at shape (1, 3, 384, 640)\n"
          ]
        },
        {
          "output_type": "stream",
          "name": "stderr",
          "text": [
            "\rProcessing:   5%|▍         | 440/9184 [00:52<15:34,  9.36it/s]"
          ]
        },
        {
          "output_type": "stream",
          "name": "stdout",
          "text": [
            "\n",
            "0: 384x640 1 person, 4 cars, 1 bus, 1 truck, 35.7ms\n",
            "Speed: 2.1ms preprocess, 35.7ms inference, 0.9ms postprocess per image at shape (1, 3, 384, 640)\n"
          ]
        },
        {
          "output_type": "stream",
          "name": "stderr",
          "text": [
            "\rProcessing:   5%|▍         | 441/9184 [00:52<15:27,  9.43it/s]"
          ]
        },
        {
          "output_type": "stream",
          "name": "stdout",
          "text": [
            "\n",
            "0: 384x640 1 person, 4 cars, 1 bus, 1 truck, 36.6ms\n",
            "Speed: 2.0ms preprocess, 36.6ms inference, 0.9ms postprocess per image at shape (1, 3, 384, 640)\n"
          ]
        },
        {
          "output_type": "stream",
          "name": "stderr",
          "text": [
            "\rProcessing:   5%|▍         | 442/9184 [00:52<15:38,  9.31it/s]"
          ]
        },
        {
          "output_type": "stream",
          "name": "stdout",
          "text": [
            "\n",
            "0: 384x640 1 person, 4 cars, 1 truck, 35.7ms\n",
            "Speed: 2.1ms preprocess, 35.7ms inference, 0.9ms postprocess per image at shape (1, 3, 384, 640)\n"
          ]
        },
        {
          "output_type": "stream",
          "name": "stderr",
          "text": [
            "\rProcessing:   5%|▍         | 443/9184 [00:52<17:27,  8.35it/s]"
          ]
        },
        {
          "output_type": "stream",
          "name": "stdout",
          "text": [
            "\n",
            "0: 384x640 1 person, 3 cars, 1 truck, 75.3ms\n",
            "Speed: 2.0ms preprocess, 75.3ms inference, 0.9ms postprocess per image at shape (1, 3, 384, 640)\n"
          ]
        },
        {
          "output_type": "stream",
          "name": "stderr",
          "text": [
            "\rProcessing:   5%|▍         | 444/9184 [00:52<16:40,  8.73it/s]"
          ]
        },
        {
          "output_type": "stream",
          "name": "stdout",
          "text": [
            "\n",
            "0: 384x640 1 person, 3 cars, 2 trucks, 79.5ms\n",
            "Speed: 2.2ms preprocess, 79.5ms inference, 1.0ms postprocess per image at shape (1, 3, 384, 640)\n"
          ]
        },
        {
          "output_type": "stream",
          "name": "stderr",
          "text": [
            "\rProcessing:   5%|▍         | 445/9184 [00:53<16:21,  8.91it/s]"
          ]
        },
        {
          "output_type": "stream",
          "name": "stdout",
          "text": [
            "\n",
            "0: 384x640 1 person, 4 cars, 3 trucks, 75.6ms\n",
            "Speed: 2.0ms preprocess, 75.6ms inference, 1.0ms postprocess per image at shape (1, 3, 384, 640)\n"
          ]
        },
        {
          "output_type": "stream",
          "name": "stderr",
          "text": [
            "\rProcessing:   5%|▍         | 446/9184 [00:53<16:16,  8.95it/s]"
          ]
        },
        {
          "output_type": "stream",
          "name": "stdout",
          "text": [
            "\n",
            "0: 384x640 1 person, 4 cars, 2 trucks, 80.7ms\n",
            "Speed: 2.0ms preprocess, 80.7ms inference, 1.0ms postprocess per image at shape (1, 3, 384, 640)\n"
          ]
        },
        {
          "output_type": "stream",
          "name": "stderr",
          "text": [
            "\rProcessing:   5%|▍         | 447/9184 [00:53<16:03,  9.07it/s]"
          ]
        },
        {
          "output_type": "stream",
          "name": "stdout",
          "text": [
            "\n",
            "0: 384x640 1 person, 4 cars, 2 trucks, 78.3ms\n",
            "Speed: 2.0ms preprocess, 78.3ms inference, 0.9ms postprocess per image at shape (1, 3, 384, 640)\n"
          ]
        },
        {
          "output_type": "stream",
          "name": "stderr",
          "text": [
            "\rProcessing:   5%|▍         | 448/9184 [00:53<15:51,  9.18it/s]"
          ]
        },
        {
          "output_type": "stream",
          "name": "stdout",
          "text": [
            "\n",
            "0: 384x640 1 person, 5 cars, 1 bus, 2 trucks, 35.9ms\n",
            "Speed: 45.2ms preprocess, 35.9ms inference, 1.0ms postprocess per image at shape (1, 3, 384, 640)\n"
          ]
        },
        {
          "output_type": "stream",
          "name": "stderr",
          "text": [
            "\rProcessing:   5%|▍         | 449/9184 [00:53<15:52,  9.17it/s]"
          ]
        },
        {
          "output_type": "stream",
          "name": "stdout",
          "text": [
            "\n",
            "0: 384x640 1 person, 3 cars, 1 bus, 2 trucks, 41.8ms\n",
            "Speed: 2.1ms preprocess, 41.8ms inference, 1.1ms postprocess per image at shape (1, 3, 384, 640)\n"
          ]
        },
        {
          "output_type": "stream",
          "name": "stderr",
          "text": [
            "\rProcessing:   5%|▍         | 450/9184 [00:53<17:53,  8.14it/s]"
          ]
        },
        {
          "output_type": "stream",
          "name": "stdout",
          "text": [
            "\n",
            "0: 384x640 1 person, 5 cars, 79.8ms\n",
            "Speed: 2.2ms preprocess, 79.8ms inference, 1.0ms postprocess per image at shape (1, 3, 384, 640)\n"
          ]
        },
        {
          "output_type": "stream",
          "name": "stderr",
          "text": [
            "\rProcessing:   5%|▍         | 451/9184 [00:53<17:15,  8.43it/s]"
          ]
        },
        {
          "output_type": "stream",
          "name": "stdout",
          "text": [
            "\n",
            "0: 384x640 1 person, 5 cars, 1 bus, 1 truck, 80.4ms\n",
            "Speed: 2.2ms preprocess, 80.4ms inference, 0.9ms postprocess per image at shape (1, 3, 384, 640)\n"
          ]
        },
        {
          "output_type": "stream",
          "name": "stderr",
          "text": [
            "\rProcessing:   5%|▍         | 452/9184 [00:53<16:54,  8.60it/s]"
          ]
        },
        {
          "output_type": "stream",
          "name": "stdout",
          "text": [
            "\n",
            "0: 384x640 1 person, 5 cars, 1 truck, 77.2ms\n",
            "Speed: 2.3ms preprocess, 77.2ms inference, 1.1ms postprocess per image at shape (1, 3, 384, 640)\n"
          ]
        },
        {
          "output_type": "stream",
          "name": "stderr",
          "text": [
            "\rProcessing:   5%|▍         | 453/9184 [00:53<16:23,  8.87it/s]"
          ]
        },
        {
          "output_type": "stream",
          "name": "stdout",
          "text": [
            "\n",
            "0: 384x640 1 person, 4 cars, 1 train, 1 truck, 74.1ms\n",
            "Speed: 2.4ms preprocess, 74.1ms inference, 1.0ms postprocess per image at shape (1, 3, 384, 640)\n"
          ]
        },
        {
          "output_type": "stream",
          "name": "stderr",
          "text": [
            "\rProcessing:   5%|▍         | 454/9184 [00:54<16:02,  9.07it/s]"
          ]
        },
        {
          "output_type": "stream",
          "name": "stdout",
          "text": [
            "\n",
            "0: 384x640 1 person, 4 cars, 1 train, 2 trucks, 77.1ms\n",
            "Speed: 2.2ms preprocess, 77.1ms inference, 0.9ms postprocess per image at shape (1, 3, 384, 640)\n"
          ]
        },
        {
          "output_type": "stream",
          "name": "stderr",
          "text": [
            "\rProcessing:   5%|▍         | 455/9184 [00:54<15:58,  9.11it/s]"
          ]
        },
        {
          "output_type": "stream",
          "name": "stdout",
          "text": [
            "\n",
            "0: 384x640 1 person, 3 cars, 1 bus, 2 trucks, 77.8ms\n",
            "Speed: 2.3ms preprocess, 77.8ms inference, 1.0ms postprocess per image at shape (1, 3, 384, 640)\n"
          ]
        },
        {
          "output_type": "stream",
          "name": "stderr",
          "text": [
            "\rProcessing:   5%|▍         | 456/9184 [00:54<15:43,  9.25it/s]"
          ]
        },
        {
          "output_type": "stream",
          "name": "stdout",
          "text": [
            "\n",
            "0: 384x640 1 person, 2 cars, 1 bus, 2 trucks, 36.5ms\n",
            "Speed: 2.1ms preprocess, 36.5ms inference, 1.0ms postprocess per image at shape (1, 3, 384, 640)\n"
          ]
        },
        {
          "output_type": "stream",
          "name": "stderr",
          "text": [
            "\rProcessing:   5%|▍         | 457/9184 [00:54<15:59,  9.09it/s]"
          ]
        },
        {
          "output_type": "stream",
          "name": "stdout",
          "text": [
            "\n",
            "0: 384x640 1 person, 4 cars, 1 bus, 2 trucks, 33.9ms\n",
            "Speed: 2.1ms preprocess, 33.9ms inference, 1.0ms postprocess per image at shape (1, 3, 384, 640)\n"
          ]
        },
        {
          "output_type": "stream",
          "name": "stderr",
          "text": [
            "\rProcessing:   5%|▍         | 458/9184 [00:54<17:28,  8.32it/s]"
          ]
        },
        {
          "output_type": "stream",
          "name": "stdout",
          "text": [
            "\n",
            "0: 384x640 1 person, 4 cars, 1 train, 2 trucks, 36.1ms\n",
            "Speed: 2.1ms preprocess, 36.1ms inference, 43.2ms postprocess per image at shape (1, 3, 384, 640)\n"
          ]
        },
        {
          "output_type": "stream",
          "name": "stderr",
          "text": [
            "\rProcessing:   5%|▍         | 459/9184 [00:54<16:46,  8.66it/s]"
          ]
        },
        {
          "output_type": "stream",
          "name": "stdout",
          "text": [
            "\n",
            "0: 384x640 1 person, 3 cars, 1 truck, 79.0ms\n",
            "Speed: 2.3ms preprocess, 79.0ms inference, 1.0ms postprocess per image at shape (1, 3, 384, 640)\n"
          ]
        },
        {
          "output_type": "stream",
          "name": "stderr",
          "text": [
            "\rProcessing:   5%|▌         | 460/9184 [00:54<16:26,  8.85it/s]"
          ]
        },
        {
          "output_type": "stream",
          "name": "stdout",
          "text": [
            "\n",
            "0: 384x640 1 person, 4 cars, 1 truck, 79.5ms\n",
            "Speed: 2.1ms preprocess, 79.5ms inference, 0.9ms postprocess per image at shape (1, 3, 384, 640)\n"
          ]
        },
        {
          "output_type": "stream",
          "name": "stderr",
          "text": [
            "\rProcessing:   5%|▌         | 461/9184 [00:54<16:14,  8.95it/s]"
          ]
        },
        {
          "output_type": "stream",
          "name": "stdout",
          "text": [
            "\n",
            "0: 384x640 1 person, 4 cars, 1 truck, 77.5ms\n",
            "Speed: 2.1ms preprocess, 77.5ms inference, 1.0ms postprocess per image at shape (1, 3, 384, 640)\n"
          ]
        },
        {
          "output_type": "stream",
          "name": "stderr",
          "text": [
            "\rProcessing:   5%|▌         | 462/9184 [00:54<15:53,  9.15it/s]"
          ]
        },
        {
          "output_type": "stream",
          "name": "stdout",
          "text": [
            "\n",
            "0: 384x640 1 person, 5 cars, 1 truck, 75.7ms\n",
            "Speed: 2.2ms preprocess, 75.7ms inference, 0.9ms postprocess per image at shape (1, 3, 384, 640)\n"
          ]
        },
        {
          "output_type": "stream",
          "name": "stderr",
          "text": [
            "\rProcessing:   5%|▌         | 463/9184 [00:55<15:40,  9.27it/s]"
          ]
        },
        {
          "output_type": "stream",
          "name": "stdout",
          "text": [
            "\n",
            "0: 384x640 1 person, 4 cars, 1 truck, 79.5ms\n",
            "Speed: 2.2ms preprocess, 79.5ms inference, 0.9ms postprocess per image at shape (1, 3, 384, 640)\n"
          ]
        },
        {
          "output_type": "stream",
          "name": "stderr",
          "text": [
            "\rProcessing:   5%|▌         | 464/9184 [00:55<15:40,  9.27it/s]"
          ]
        },
        {
          "output_type": "stream",
          "name": "stdout",
          "text": [
            "\n",
            "0: 384x640 1 person, 3 cars, 1 bus, 1 truck, 78.2ms\n",
            "Speed: 2.2ms preprocess, 78.2ms inference, 0.9ms postprocess per image at shape (1, 3, 384, 640)\n"
          ]
        },
        {
          "output_type": "stream",
          "name": "stderr",
          "text": [
            "\rProcessing:   5%|▌         | 465/9184 [00:55<15:30,  9.37it/s]"
          ]
        },
        {
          "output_type": "stream",
          "name": "stdout",
          "text": [
            "\n",
            "0: 384x640 1 person, 4 cars, 1 truck, 37.0ms\n",
            "Speed: 2.1ms preprocess, 37.0ms inference, 0.9ms postprocess per image at shape (1, 3, 384, 640)\n"
          ]
        },
        {
          "output_type": "stream",
          "name": "stderr",
          "text": [
            "\rProcessing:   5%|▌         | 466/9184 [00:55<15:52,  9.15it/s]"
          ]
        },
        {
          "output_type": "stream",
          "name": "stdout",
          "text": [
            "\n",
            "0: 384x640 1 person, 5 cars, 1 truck, 34.6ms\n",
            "Speed: 2.1ms preprocess, 34.6ms inference, 0.9ms postprocess per image at shape (1, 3, 384, 640)\n"
          ]
        },
        {
          "output_type": "stream",
          "name": "stderr",
          "text": [
            "\rProcessing:   5%|▌         | 467/9184 [00:55<17:19,  8.38it/s]"
          ]
        },
        {
          "output_type": "stream",
          "name": "stdout",
          "text": [
            "\n",
            "0: 384x640 1 person, 5 cars, 1 truck, 36.3ms\n",
            "Speed: 2.1ms preprocess, 36.3ms inference, 1.0ms postprocess per image at shape (1, 3, 384, 640)\n"
          ]
        },
        {
          "output_type": "stream",
          "name": "stderr",
          "text": [
            "\rProcessing:   5%|▌         | 468/9184 [00:55<16:37,  8.74it/s]"
          ]
        },
        {
          "output_type": "stream",
          "name": "stdout",
          "text": [
            "\n",
            "0: 384x640 1 person, 4 cars, 1 truck, 76.2ms\n",
            "Speed: 2.1ms preprocess, 76.2ms inference, 1.0ms postprocess per image at shape (1, 3, 384, 640)\n"
          ]
        },
        {
          "output_type": "stream",
          "name": "stderr",
          "text": [
            "\rProcessing:   5%|▌         | 469/9184 [00:55<16:14,  8.94it/s]"
          ]
        },
        {
          "output_type": "stream",
          "name": "stdout",
          "text": [
            "\n",
            "0: 384x640 1 person, 4 cars, 1 truck, 72.6ms\n",
            "Speed: 2.1ms preprocess, 72.6ms inference, 1.0ms postprocess per image at shape (1, 3, 384, 640)\n"
          ]
        },
        {
          "output_type": "stream",
          "name": "stderr",
          "text": [
            "\rProcessing:   5%|▌         | 470/9184 [00:55<16:04,  9.04it/s]"
          ]
        },
        {
          "output_type": "stream",
          "name": "stdout",
          "text": [
            "\n",
            "0: 384x640 1 person, 4 cars, 1 truck, 76.2ms\n",
            "Speed: 2.5ms preprocess, 76.2ms inference, 0.9ms postprocess per image at shape (1, 3, 384, 640)\n"
          ]
        },
        {
          "output_type": "stream",
          "name": "stderr",
          "text": [
            "\rProcessing:   5%|▌         | 471/9184 [00:55<15:44,  9.23it/s]"
          ]
        },
        {
          "output_type": "stream",
          "name": "stdout",
          "text": [
            "\n",
            "0: 384x640 1 person, 5 cars, 1 truck, 78.1ms\n",
            "Speed: 2.2ms preprocess, 78.1ms inference, 0.9ms postprocess per image at shape (1, 3, 384, 640)\n"
          ]
        },
        {
          "output_type": "stream",
          "name": "stderr",
          "text": [
            "\rProcessing:   5%|▌         | 472/9184 [00:56<15:39,  9.27it/s]"
          ]
        },
        {
          "output_type": "stream",
          "name": "stdout",
          "text": [
            "\n",
            "0: 384x640 1 person, 5 cars, 1 truck, 80.2ms\n",
            "Speed: 2.0ms preprocess, 80.2ms inference, 1.1ms postprocess per image at shape (1, 3, 384, 640)\n"
          ]
        },
        {
          "output_type": "stream",
          "name": "stderr",
          "text": [
            "\rProcessing:   5%|▌         | 473/9184 [00:56<15:43,  9.23it/s]"
          ]
        },
        {
          "output_type": "stream",
          "name": "stdout",
          "text": [
            "\n",
            "0: 384x640 1 person, 6 cars, 1 truck, 77.3ms\n",
            "Speed: 2.2ms preprocess, 77.3ms inference, 1.0ms postprocess per image at shape (1, 3, 384, 640)\n"
          ]
        },
        {
          "output_type": "stream",
          "name": "stderr",
          "text": [
            "\rProcessing:   5%|▌         | 474/9184 [00:56<15:33,  9.33it/s]"
          ]
        },
        {
          "output_type": "stream",
          "name": "stdout",
          "text": [
            "\n",
            "0: 384x640 1 person, 5 cars, 1 truck, 38.5ms\n",
            "Speed: 2.2ms preprocess, 38.5ms inference, 1.0ms postprocess per image at shape (1, 3, 384, 640)\n"
          ]
        },
        {
          "output_type": "stream",
          "name": "stderr",
          "text": [
            "\rProcessing:   5%|▌         | 475/9184 [00:56<15:54,  9.13it/s]"
          ]
        },
        {
          "output_type": "stream",
          "name": "stdout",
          "text": [
            "\n",
            "0: 384x640 1 person, 6 cars, 1 truck, 36.0ms\n",
            "Speed: 2.1ms preprocess, 36.0ms inference, 1.0ms postprocess per image at shape (1, 3, 384, 640)\n"
          ]
        },
        {
          "output_type": "stream",
          "name": "stderr",
          "text": [
            "\rProcessing:   5%|▌         | 476/9184 [00:56<17:31,  8.28it/s]"
          ]
        },
        {
          "output_type": "stream",
          "name": "stdout",
          "text": [
            "\n",
            "0: 384x640 1 person, 4 cars, 1 truck, 83.1ms\n",
            "Speed: 2.1ms preprocess, 83.1ms inference, 1.0ms postprocess per image at shape (1, 3, 384, 640)\n"
          ]
        },
        {
          "output_type": "stream",
          "name": "stderr",
          "text": [
            "\rProcessing:   5%|▌         | 477/9184 [00:56<17:02,  8.52it/s]"
          ]
        },
        {
          "output_type": "stream",
          "name": "stdout",
          "text": [
            "\n",
            "0: 384x640 1 person, 5 cars, 1 truck, 82.8ms\n",
            "Speed: 2.1ms preprocess, 82.8ms inference, 1.1ms postprocess per image at shape (1, 3, 384, 640)\n"
          ]
        },
        {
          "output_type": "stream",
          "name": "stderr",
          "text": [
            "\rProcessing:   5%|▌         | 478/9184 [00:56<16:46,  8.65it/s]"
          ]
        },
        {
          "output_type": "stream",
          "name": "stdout",
          "text": [
            "\n",
            "0: 384x640 1 person, 4 cars, 1 truck, 80.5ms\n",
            "Speed: 2.1ms preprocess, 80.5ms inference, 1.0ms postprocess per image at shape (1, 3, 384, 640)\n"
          ]
        },
        {
          "output_type": "stream",
          "name": "stderr",
          "text": [
            "\rProcessing:   5%|▌         | 479/9184 [00:56<16:29,  8.80it/s]"
          ]
        },
        {
          "output_type": "stream",
          "name": "stdout",
          "text": [
            "\n",
            "0: 384x640 1 person, 4 cars, 1 train, 1 truck, 79.3ms\n",
            "Speed: 2.1ms preprocess, 79.3ms inference, 1.0ms postprocess per image at shape (1, 3, 384, 640)\n"
          ]
        },
        {
          "output_type": "stream",
          "name": "stderr",
          "text": [
            "\rProcessing:   5%|▌         | 480/9184 [00:56<16:06,  9.01it/s]"
          ]
        },
        {
          "output_type": "stream",
          "name": "stdout",
          "text": [
            "\n",
            "0: 384x640 1 person, 4 cars, 1 truck, 77.4ms\n",
            "Speed: 2.2ms preprocess, 77.4ms inference, 0.9ms postprocess per image at shape (1, 3, 384, 640)\n"
          ]
        },
        {
          "output_type": "stream",
          "name": "stderr",
          "text": [
            "\rProcessing:   5%|▌         | 481/9184 [00:57<15:50,  9.16it/s]"
          ]
        },
        {
          "output_type": "stream",
          "name": "stdout",
          "text": [
            "\n",
            "0: 384x640 1 person, 4 cars, 1 truck, 38.0ms\n",
            "Speed: 2.2ms preprocess, 38.0ms inference, 1.0ms postprocess per image at shape (1, 3, 384, 640)\n"
          ]
        },
        {
          "output_type": "stream",
          "name": "stderr",
          "text": [
            "\rProcessing:   5%|▌         | 482/9184 [00:57<17:57,  8.07it/s]"
          ]
        },
        {
          "output_type": "stream",
          "name": "stdout",
          "text": [
            "\n",
            "0: 384x640 1 person, 4 cars, 1 truck, 81.9ms\n",
            "Speed: 2.1ms preprocess, 81.9ms inference, 0.9ms postprocess per image at shape (1, 3, 384, 640)\n"
          ]
        },
        {
          "output_type": "stream",
          "name": "stderr",
          "text": [
            "\rProcessing:   5%|▌         | 483/9184 [00:57<17:19,  8.37it/s]"
          ]
        },
        {
          "output_type": "stream",
          "name": "stdout",
          "text": [
            "\n",
            "0: 384x640 1 person, 4 cars, 1 truck, 78.7ms\n",
            "Speed: 2.1ms preprocess, 78.7ms inference, 0.9ms postprocess per image at shape (1, 3, 384, 640)\n"
          ]
        },
        {
          "output_type": "stream",
          "name": "stderr",
          "text": [
            "\rProcessing:   5%|▌         | 484/9184 [00:57<16:47,  8.63it/s]"
          ]
        },
        {
          "output_type": "stream",
          "name": "stdout",
          "text": [
            "\n",
            "0: 384x640 1 person, 4 cars, 1 truck, 80.3ms\n",
            "Speed: 2.2ms preprocess, 80.3ms inference, 1.0ms postprocess per image at shape (1, 3, 384, 640)\n"
          ]
        },
        {
          "output_type": "stream",
          "name": "stderr",
          "text": [
            "\rProcessing:   5%|▌         | 485/9184 [00:57<16:30,  8.78it/s]"
          ]
        },
        {
          "output_type": "stream",
          "name": "stdout",
          "text": [
            "\n",
            "0: 384x640 1 person, 4 cars, 1 truck, 78.6ms\n",
            "Speed: 2.0ms preprocess, 78.6ms inference, 1.0ms postprocess per image at shape (1, 3, 384, 640)\n"
          ]
        },
        {
          "output_type": "stream",
          "name": "stderr",
          "text": [
            "\rProcessing:   5%|▌         | 486/9184 [00:57<16:07,  8.99it/s]"
          ]
        },
        {
          "output_type": "stream",
          "name": "stdout",
          "text": [
            "\n",
            "0: 384x640 1 person, 4 cars, 1 truck, 79.6ms\n",
            "Speed: 2.1ms preprocess, 79.6ms inference, 0.9ms postprocess per image at shape (1, 3, 384, 640)\n"
          ]
        },
        {
          "output_type": "stream",
          "name": "stderr",
          "text": [
            "\rProcessing:   5%|▌         | 487/9184 [00:57<15:59,  9.06it/s]"
          ]
        },
        {
          "output_type": "stream",
          "name": "stdout",
          "text": [
            "\n",
            "0: 384x640 1 person, 4 cars, 1 truck, 36.4ms\n",
            "Speed: 2.3ms preprocess, 36.4ms inference, 0.9ms postprocess per image at shape (1, 3, 384, 640)\n"
          ]
        },
        {
          "output_type": "stream",
          "name": "stderr",
          "text": [
            "\rProcessing:   5%|▌         | 488/9184 [00:57<16:08,  8.98it/s]"
          ]
        },
        {
          "output_type": "stream",
          "name": "stdout",
          "text": [
            "\n",
            "0: 384x640 1 person, 4 cars, 1 truck, 102.7ms\n",
            "Speed: 2.4ms preprocess, 102.7ms inference, 1.0ms postprocess per image at shape (1, 3, 384, 640)\n"
          ]
        },
        {
          "output_type": "stream",
          "name": "stderr",
          "text": [
            "\rProcessing:   5%|▌         | 489/9184 [00:58<18:53,  7.67it/s]"
          ]
        },
        {
          "output_type": "stream",
          "name": "stdout",
          "text": [
            "\n",
            "0: 384x640 1 person, 5 cars, 82.0ms\n",
            "Speed: 2.1ms preprocess, 82.0ms inference, 0.9ms postprocess per image at shape (1, 3, 384, 640)\n"
          ]
        },
        {
          "output_type": "stream",
          "name": "stderr",
          "text": [
            "\rProcessing:   5%|▌         | 490/9184 [00:58<21:07,  6.86it/s]"
          ]
        },
        {
          "output_type": "stream",
          "name": "stdout",
          "text": [
            "\n",
            "0: 384x640 1 person, 5 cars, 80.6ms\n",
            "Speed: 2.2ms preprocess, 80.6ms inference, 0.9ms postprocess per image at shape (1, 3, 384, 640)\n"
          ]
        },
        {
          "output_type": "stream",
          "name": "stderr",
          "text": [
            "\rProcessing:   5%|▌         | 491/9184 [00:58<19:33,  7.41it/s]"
          ]
        },
        {
          "output_type": "stream",
          "name": "stdout",
          "text": [
            "\n",
            "0: 384x640 2 persons, 6 cars, 2 trucks, 80.6ms\n",
            "Speed: 2.2ms preprocess, 80.6ms inference, 0.9ms postprocess per image at shape (1, 3, 384, 640)\n"
          ]
        },
        {
          "output_type": "stream",
          "name": "stderr",
          "text": [
            "\rProcessing:   5%|▌         | 492/9184 [00:58<18:20,  7.90it/s]"
          ]
        },
        {
          "output_type": "stream",
          "name": "stdout",
          "text": [
            "\n",
            "0: 384x640 1 person, 5 cars, 2 trucks, 76.8ms\n",
            "Speed: 2.3ms preprocess, 76.8ms inference, 1.0ms postprocess per image at shape (1, 3, 384, 640)\n"
          ]
        },
        {
          "output_type": "stream",
          "name": "stderr",
          "text": [
            "\rProcessing:   5%|▌         | 493/9184 [00:58<17:24,  8.32it/s]"
          ]
        },
        {
          "output_type": "stream",
          "name": "stdout",
          "text": [
            "\n",
            "0: 384x640 1 person, 8 cars, 2 trucks, 75.1ms\n",
            "Speed: 2.3ms preprocess, 75.1ms inference, 1.0ms postprocess per image at shape (1, 3, 384, 640)\n"
          ]
        },
        {
          "output_type": "stream",
          "name": "stderr",
          "text": [
            "\rProcessing:   5%|▌         | 494/9184 [00:58<19:44,  7.34it/s]"
          ]
        },
        {
          "output_type": "stream",
          "name": "stdout",
          "text": [
            "\n",
            "0: 384x640 1 person, 7 cars, 1 truck, 100.0ms\n",
            "Speed: 2.2ms preprocess, 100.0ms inference, 1.0ms postprocess per image at shape (1, 3, 384, 640)\n"
          ]
        },
        {
          "output_type": "stream",
          "name": "stderr",
          "text": [
            "\rProcessing:   5%|▌         | 495/9184 [00:58<19:19,  7.50it/s]"
          ]
        },
        {
          "output_type": "stream",
          "name": "stdout",
          "text": [
            "\n",
            "0: 384x640 1 person, 6 cars, 39.3ms\n",
            "Speed: 2.5ms preprocess, 39.3ms inference, 1.0ms postprocess per image at shape (1, 3, 384, 640)\n"
          ]
        },
        {
          "output_type": "stream",
          "name": "stderr",
          "text": [
            "\rProcessing:   5%|▌         | 496/9184 [00:59<20:57,  6.91it/s]"
          ]
        },
        {
          "output_type": "stream",
          "name": "stdout",
          "text": [
            "\n",
            "0: 384x640 1 person, 6 cars, 79.7ms\n",
            "Speed: 2.1ms preprocess, 79.7ms inference, 0.9ms postprocess per image at shape (1, 3, 384, 640)\n"
          ]
        },
        {
          "output_type": "stream",
          "name": "stderr",
          "text": [
            "\rProcessing:   5%|▌         | 497/9184 [00:59<19:24,  7.46it/s]"
          ]
        },
        {
          "output_type": "stream",
          "name": "stdout",
          "text": [
            "\n",
            "0: 384x640 1 person, 6 cars, 78.2ms\n",
            "Speed: 2.1ms preprocess, 78.2ms inference, 1.0ms postprocess per image at shape (1, 3, 384, 640)\n"
          ]
        },
        {
          "output_type": "stream",
          "name": "stderr",
          "text": [
            "\rProcessing:   5%|▌         | 498/9184 [00:59<18:08,  7.98it/s]"
          ]
        },
        {
          "output_type": "stream",
          "name": "stdout",
          "text": [
            "\n",
            "0: 384x640 1 person, 5 cars, 80.4ms\n",
            "Speed: 2.2ms preprocess, 80.4ms inference, 1.0ms postprocess per image at shape (1, 3, 384, 640)\n"
          ]
        },
        {
          "output_type": "stream",
          "name": "stderr",
          "text": [
            "\rProcessing:   5%|▌         | 499/9184 [00:59<17:27,  8.29it/s]"
          ]
        },
        {
          "output_type": "stream",
          "name": "stdout",
          "text": [
            "\n",
            "0: 384x640 1 person, 6 cars, 81.0ms\n",
            "Speed: 2.6ms preprocess, 81.0ms inference, 1.0ms postprocess per image at shape (1, 3, 384, 640)\n"
          ]
        },
        {
          "output_type": "stream",
          "name": "stderr",
          "text": [
            "\rProcessing:   5%|▌         | 500/9184 [00:59<19:59,  7.24it/s]"
          ]
        },
        {
          "output_type": "stream",
          "name": "stdout",
          "text": [
            "\n",
            "0: 384x640 1 person, 5 cars, 100.4ms\n",
            "Speed: 2.1ms preprocess, 100.4ms inference, 1.0ms postprocess per image at shape (1, 3, 384, 640)\n"
          ]
        },
        {
          "output_type": "stream",
          "name": "stderr",
          "text": [
            "\rProcessing:   5%|▌         | 501/9184 [00:59<19:30,  7.42it/s]"
          ]
        },
        {
          "output_type": "stream",
          "name": "stdout",
          "text": [
            "\n",
            "0: 384x640 1 person, 5 cars, 38.6ms\n",
            "Speed: 46.4ms preprocess, 38.6ms inference, 0.9ms postprocess per image at shape (1, 3, 384, 640)\n"
          ]
        },
        {
          "output_type": "stream",
          "name": "stderr",
          "text": [
            "\rProcessing:   5%|▌         | 502/9184 [00:59<18:32,  7.81it/s]"
          ]
        },
        {
          "output_type": "stream",
          "name": "stdout",
          "text": [
            "\n",
            "0: 384x640 1 person, 5 cars, 35.5ms\n",
            "Speed: 2.2ms preprocess, 35.5ms inference, 0.9ms postprocess per image at shape (1, 3, 384, 640)\n"
          ]
        },
        {
          "output_type": "stream",
          "name": "stderr",
          "text": [
            "\rProcessing:   5%|▌         | 503/9184 [00:59<17:55,  8.08it/s]"
          ]
        },
        {
          "output_type": "stream",
          "name": "stdout",
          "text": [
            "\n",
            "0: 384x640 1 person, 6 cars, 1 truck, 38.9ms\n",
            "Speed: 2.2ms preprocess, 38.9ms inference, 1.0ms postprocess per image at shape (1, 3, 384, 640)\n"
          ]
        },
        {
          "output_type": "stream",
          "name": "stderr",
          "text": [
            "\rProcessing:   5%|▌         | 504/9184 [01:00<18:45,  7.71it/s]"
          ]
        },
        {
          "output_type": "stream",
          "name": "stdout",
          "text": [
            "\n",
            "0: 384x640 1 person, 6 cars, 78.2ms\n",
            "Speed: 2.1ms preprocess, 78.2ms inference, 1.0ms postprocess per image at shape (1, 3, 384, 640)\n"
          ]
        },
        {
          "output_type": "stream",
          "name": "stderr",
          "text": [
            "\rProcessing:   5%|▌         | 505/9184 [01:00<17:48,  8.13it/s]"
          ]
        },
        {
          "output_type": "stream",
          "name": "stdout",
          "text": [
            "\n",
            "0: 384x640 1 person, 6 cars, 1 truck, 75.9ms\n",
            "Speed: 2.0ms preprocess, 75.9ms inference, 1.0ms postprocess per image at shape (1, 3, 384, 640)\n"
          ]
        },
        {
          "output_type": "stream",
          "name": "stderr",
          "text": [
            "\rProcessing:   6%|▌         | 506/9184 [01:00<17:17,  8.36it/s]"
          ]
        },
        {
          "output_type": "stream",
          "name": "stdout",
          "text": [
            "\n",
            "0: 384x640 1 person, 6 cars, 1 truck, 79.7ms\n",
            "Speed: 2.1ms preprocess, 79.7ms inference, 0.9ms postprocess per image at shape (1, 3, 384, 640)\n"
          ]
        },
        {
          "output_type": "stream",
          "name": "stderr",
          "text": [
            "\rProcessing:   6%|▌         | 507/9184 [01:00<16:41,  8.67it/s]"
          ]
        },
        {
          "output_type": "stream",
          "name": "stdout",
          "text": [
            "\n",
            "0: 384x640 1 person, 6 cars, 2 trucks, 80.0ms\n",
            "Speed: 2.4ms preprocess, 80.0ms inference, 1.0ms postprocess per image at shape (1, 3, 384, 640)\n"
          ]
        },
        {
          "output_type": "stream",
          "name": "stderr",
          "text": [
            "\rProcessing:   6%|▌         | 508/9184 [01:00<16:30,  8.76it/s]"
          ]
        },
        {
          "output_type": "stream",
          "name": "stdout",
          "text": [
            "\n",
            "0: 384x640 1 person, 5 cars, 2 trucks, 37.0ms\n",
            "Speed: 2.3ms preprocess, 37.0ms inference, 1.0ms postprocess per image at shape (1, 3, 384, 640)\n"
          ]
        },
        {
          "output_type": "stream",
          "name": "stderr",
          "text": [
            "\rProcessing:   6%|▌         | 509/9184 [01:00<16:26,  8.80it/s]"
          ]
        },
        {
          "output_type": "stream",
          "name": "stdout",
          "text": [
            "\n",
            "0: 384x640 1 person, 5 cars, 1 truck, 38.8ms\n",
            "Speed: 2.2ms preprocess, 38.8ms inference, 1.0ms postprocess per image at shape (1, 3, 384, 640)\n"
          ]
        },
        {
          "output_type": "stream",
          "name": "stderr",
          "text": [
            "\rProcessing:   6%|▌         | 510/9184 [01:00<18:03,  8.01it/s]"
          ]
        },
        {
          "output_type": "stream",
          "name": "stdout",
          "text": [
            "\n",
            "0: 384x640 1 person, 5 cars, 79.1ms\n",
            "Speed: 2.0ms preprocess, 79.1ms inference, 0.9ms postprocess per image at shape (1, 3, 384, 640)\n"
          ]
        },
        {
          "output_type": "stream",
          "name": "stderr",
          "text": [
            "\rProcessing:   6%|▌         | 511/9184 [01:00<17:18,  8.35it/s]"
          ]
        },
        {
          "output_type": "stream",
          "name": "stdout",
          "text": [
            "\n",
            "0: 384x640 1 person, 6 cars, 1 truck, 79.1ms\n",
            "Speed: 2.2ms preprocess, 79.1ms inference, 1.0ms postprocess per image at shape (1, 3, 384, 640)\n"
          ]
        },
        {
          "output_type": "stream",
          "name": "stderr",
          "text": [
            "\rProcessing:   6%|▌         | 512/9184 [01:00<16:50,  8.59it/s]"
          ]
        },
        {
          "output_type": "stream",
          "name": "stdout",
          "text": [
            "\n",
            "0: 384x640 1 person, 6 cars, 1 truck, 78.6ms\n",
            "Speed: 2.3ms preprocess, 78.6ms inference, 0.9ms postprocess per image at shape (1, 3, 384, 640)\n"
          ]
        },
        {
          "output_type": "stream",
          "name": "stderr",
          "text": [
            "\rProcessing:   6%|▌         | 513/9184 [01:01<16:23,  8.81it/s]"
          ]
        },
        {
          "output_type": "stream",
          "name": "stdout",
          "text": [
            "\n",
            "0: 384x640 1 person, 4 cars, 1 truck, 78.6ms\n",
            "Speed: 2.4ms preprocess, 78.6ms inference, 1.0ms postprocess per image at shape (1, 3, 384, 640)\n"
          ]
        },
        {
          "output_type": "stream",
          "name": "stderr",
          "text": [
            "\rProcessing:   6%|▌         | 514/9184 [01:01<16:11,  8.93it/s]"
          ]
        },
        {
          "output_type": "stream",
          "name": "stdout",
          "text": [
            "\n",
            "0: 384x640 1 person, 5 cars, 2 trucks, 82.5ms\n",
            "Speed: 2.1ms preprocess, 82.5ms inference, 1.1ms postprocess per image at shape (1, 3, 384, 640)\n"
          ]
        },
        {
          "output_type": "stream",
          "name": "stderr",
          "text": [
            "\rProcessing:   6%|▌         | 515/9184 [01:01<16:09,  8.94it/s]"
          ]
        },
        {
          "output_type": "stream",
          "name": "stdout",
          "text": [
            "\n",
            "0: 384x640 2 persons, 6 cars, 2 trucks, 38.0ms\n",
            "Speed: 2.2ms preprocess, 38.0ms inference, 0.9ms postprocess per image at shape (1, 3, 384, 640)\n"
          ]
        },
        {
          "output_type": "stream",
          "name": "stderr",
          "text": [
            "\rProcessing:   6%|▌         | 516/9184 [01:01<16:22,  8.82it/s]"
          ]
        },
        {
          "output_type": "stream",
          "name": "stdout",
          "text": [
            "\n",
            "0: 384x640 3 persons, 6 cars, 2 trucks, 80.4ms\n",
            "Speed: 2.0ms preprocess, 80.4ms inference, 1.0ms postprocess per image at shape (1, 3, 384, 640)\n"
          ]
        },
        {
          "output_type": "stream",
          "name": "stderr",
          "text": [
            "\rProcessing:   6%|▌         | 517/9184 [01:01<17:45,  8.13it/s]"
          ]
        },
        {
          "output_type": "stream",
          "name": "stdout",
          "text": [
            "\n",
            "0: 384x640 3 persons, 5 cars, 2 trucks, 73.9ms\n",
            "Speed: 2.2ms preprocess, 73.9ms inference, 1.1ms postprocess per image at shape (1, 3, 384, 640)\n"
          ]
        },
        {
          "output_type": "stream",
          "name": "stderr",
          "text": [
            "\rProcessing:   6%|▌         | 518/9184 [01:01<17:17,  8.36it/s]"
          ]
        },
        {
          "output_type": "stream",
          "name": "stdout",
          "text": [
            "\n",
            "0: 384x640 2 persons, 5 cars, 2 trucks, 79.6ms\n",
            "Speed: 2.5ms preprocess, 79.6ms inference, 1.0ms postprocess per image at shape (1, 3, 384, 640)\n"
          ]
        },
        {
          "output_type": "stream",
          "name": "stderr",
          "text": [
            "\rProcessing:   6%|▌         | 519/9184 [01:01<16:51,  8.56it/s]"
          ]
        },
        {
          "output_type": "stream",
          "name": "stdout",
          "text": [
            "\n",
            "0: 384x640 3 persons, 5 cars, 2 trucks, 80.7ms\n",
            "Speed: 2.6ms preprocess, 80.7ms inference, 1.1ms postprocess per image at shape (1, 3, 384, 640)\n"
          ]
        },
        {
          "output_type": "stream",
          "name": "stderr",
          "text": [
            "\rProcessing:   6%|▌         | 520/9184 [01:01<16:40,  8.66it/s]"
          ]
        },
        {
          "output_type": "stream",
          "name": "stdout",
          "text": [
            "\n",
            "0: 384x640 2 persons, 5 cars, 2 trucks, 36.3ms\n",
            "Speed: 2.2ms preprocess, 36.3ms inference, 1.0ms postprocess per image at shape (1, 3, 384, 640)\n"
          ]
        },
        {
          "output_type": "stream",
          "name": "stderr",
          "text": [
            "\rProcessing:   6%|▌         | 521/9184 [01:02<18:30,  7.80it/s]"
          ]
        },
        {
          "output_type": "stream",
          "name": "stdout",
          "text": [
            "\n",
            "0: 384x640 3 persons, 5 cars, 2 trucks, 39.8ms\n",
            "Speed: 2.1ms preprocess, 39.8ms inference, 39.0ms postprocess per image at shape (1, 3, 384, 640)\n"
          ]
        },
        {
          "output_type": "stream",
          "name": "stderr",
          "text": [
            "\rProcessing:   6%|▌         | 522/9184 [01:02<17:34,  8.22it/s]"
          ]
        },
        {
          "output_type": "stream",
          "name": "stdout",
          "text": [
            "\n",
            "0: 384x640 1 person, 6 cars, 2 trucks, 79.9ms\n",
            "Speed: 2.1ms preprocess, 79.9ms inference, 1.0ms postprocess per image at shape (1, 3, 384, 640)\n"
          ]
        },
        {
          "output_type": "stream",
          "name": "stderr",
          "text": [
            "\rProcessing:   6%|▌         | 523/9184 [01:02<17:03,  8.46it/s]"
          ]
        },
        {
          "output_type": "stream",
          "name": "stdout",
          "text": [
            "\n",
            "0: 384x640 1 person, 6 cars, 1 bus, 2 trucks, 80.8ms\n",
            "Speed: 2.2ms preprocess, 80.8ms inference, 1.0ms postprocess per image at shape (1, 3, 384, 640)\n"
          ]
        },
        {
          "output_type": "stream",
          "name": "stderr",
          "text": [
            "\rProcessing:   6%|▌         | 524/9184 [01:02<16:44,  8.62it/s]"
          ]
        },
        {
          "output_type": "stream",
          "name": "stdout",
          "text": [
            "\n",
            "0: 384x640 1 person, 5 cars, 2 trucks, 78.5ms\n",
            "Speed: 2.1ms preprocess, 78.5ms inference, 0.9ms postprocess per image at shape (1, 3, 384, 640)\n"
          ]
        },
        {
          "output_type": "stream",
          "name": "stderr",
          "text": [
            "\rProcessing:   6%|▌         | 525/9184 [01:02<16:15,  8.88it/s]"
          ]
        },
        {
          "output_type": "stream",
          "name": "stdout",
          "text": [
            "\n",
            "0: 384x640 1 person, 5 cars, 2 trucks, 79.9ms\n",
            "Speed: 2.1ms preprocess, 79.9ms inference, 1.1ms postprocess per image at shape (1, 3, 384, 640)\n"
          ]
        },
        {
          "output_type": "stream",
          "name": "stderr",
          "text": [
            "\rProcessing:   6%|▌         | 526/9184 [01:02<16:05,  8.97it/s]"
          ]
        },
        {
          "output_type": "stream",
          "name": "stdout",
          "text": [
            "\n",
            "0: 384x640 1 person, 5 cars, 1 truck, 40.1ms\n",
            "Speed: 2.3ms preprocess, 40.1ms inference, 1.0ms postprocess per image at shape (1, 3, 384, 640)\n"
          ]
        },
        {
          "output_type": "stream",
          "name": "stderr",
          "text": [
            "\rProcessing:   6%|▌         | 527/9184 [01:02<16:30,  8.74it/s]"
          ]
        },
        {
          "output_type": "stream",
          "name": "stdout",
          "text": [
            "\n",
            "0: 384x640 2 persons, 6 cars, 1 truck, 84.8ms\n",
            "Speed: 2.4ms preprocess, 84.8ms inference, 1.0ms postprocess per image at shape (1, 3, 384, 640)\n"
          ]
        },
        {
          "output_type": "stream",
          "name": "stderr",
          "text": [
            "\rProcessing:   6%|▌         | 528/9184 [01:02<18:02,  7.99it/s]"
          ]
        },
        {
          "output_type": "stream",
          "name": "stdout",
          "text": [
            "\n",
            "0: 384x640 1 person, 6 cars, 1 bus, 2 trucks, 81.2ms\n",
            "Speed: 2.2ms preprocess, 81.2ms inference, 1.1ms postprocess per image at shape (1, 3, 384, 640)\n"
          ]
        },
        {
          "output_type": "stream",
          "name": "stderr",
          "text": [
            "\rProcessing:   6%|▌         | 529/9184 [01:02<17:25,  8.28it/s]"
          ]
        },
        {
          "output_type": "stream",
          "name": "stdout",
          "text": [
            "\n",
            "0: 384x640 1 person, 5 cars, 1 bus, 2 trucks, 74.9ms\n",
            "Speed: 2.3ms preprocess, 74.9ms inference, 0.9ms postprocess per image at shape (1, 3, 384, 640)\n"
          ]
        },
        {
          "output_type": "stream",
          "name": "stderr",
          "text": [
            "\rProcessing:   6%|▌         | 530/9184 [01:03<17:00,  8.48it/s]"
          ]
        },
        {
          "output_type": "stream",
          "name": "stdout",
          "text": [
            "\n",
            "0: 384x640 1 person, 7 cars, 1 truck, 81.4ms\n",
            "Speed: 2.3ms preprocess, 81.4ms inference, 1.1ms postprocess per image at shape (1, 3, 384, 640)\n"
          ]
        },
        {
          "output_type": "stream",
          "name": "stderr",
          "text": [
            "\rProcessing:   6%|▌         | 531/9184 [01:03<16:38,  8.66it/s]"
          ]
        },
        {
          "output_type": "stream",
          "name": "stdout",
          "text": [
            "\n",
            "0: 384x640 1 person, 6 cars, 79.1ms\n",
            "Speed: 2.6ms preprocess, 79.1ms inference, 1.1ms postprocess per image at shape (1, 3, 384, 640)\n"
          ]
        },
        {
          "output_type": "stream",
          "name": "stderr",
          "text": [
            "\rProcessing:   6%|▌         | 532/9184 [01:03<18:43,  7.70it/s]"
          ]
        },
        {
          "output_type": "stream",
          "name": "stdout",
          "text": [
            "\n",
            "0: 384x640 6 cars, 1 truck, 80.6ms\n",
            "Speed: 2.5ms preprocess, 80.6ms inference, 1.1ms postprocess per image at shape (1, 3, 384, 640)\n"
          ]
        },
        {
          "output_type": "stream",
          "name": "stderr",
          "text": [
            "\rProcessing:   6%|▌         | 533/9184 [01:03<17:56,  8.03it/s]"
          ]
        },
        {
          "output_type": "stream",
          "name": "stdout",
          "text": [
            "\n",
            "0: 384x640 5 cars, 1 bus, 1 truck, 78.5ms\n",
            "Speed: 2.2ms preprocess, 78.5ms inference, 0.9ms postprocess per image at shape (1, 3, 384, 640)\n"
          ]
        },
        {
          "output_type": "stream",
          "name": "stderr",
          "text": [
            "\rProcessing:   6%|▌         | 534/9184 [01:03<17:08,  8.41it/s]"
          ]
        },
        {
          "output_type": "stream",
          "name": "stdout",
          "text": [
            "\n",
            "0: 384x640 6 cars, 1 bus, 2 trucks, 78.5ms\n",
            "Speed: 2.4ms preprocess, 78.5ms inference, 1.1ms postprocess per image at shape (1, 3, 384, 640)\n"
          ]
        },
        {
          "output_type": "stream",
          "name": "stderr",
          "text": [
            "\rProcessing:   6%|▌         | 535/9184 [01:03<16:41,  8.63it/s]"
          ]
        },
        {
          "output_type": "stream",
          "name": "stdout",
          "text": [
            "\n",
            "0: 384x640 5 cars, 2 trucks, 77.2ms\n",
            "Speed: 2.2ms preprocess, 77.2ms inference, 1.0ms postprocess per image at shape (1, 3, 384, 640)\n"
          ]
        },
        {
          "output_type": "stream",
          "name": "stderr",
          "text": [
            "\rProcessing:   6%|▌         | 536/9184 [01:03<16:20,  8.82it/s]"
          ]
        },
        {
          "output_type": "stream",
          "name": "stdout",
          "text": [
            "\n",
            "0: 384x640 5 cars, 2 trucks, 37.0ms\n",
            "Speed: 2.3ms preprocess, 37.0ms inference, 1.0ms postprocess per image at shape (1, 3, 384, 640)\n"
          ]
        },
        {
          "output_type": "stream",
          "name": "stderr",
          "text": [
            "\rProcessing:   6%|▌         | 537/9184 [01:03<16:13,  8.89it/s]"
          ]
        },
        {
          "output_type": "stream",
          "name": "stdout",
          "text": [
            "\n",
            "0: 384x640 7 cars, 2 trucks, 36.8ms\n",
            "Speed: 2.2ms preprocess, 36.8ms inference, 1.1ms postprocess per image at shape (1, 3, 384, 640)\n"
          ]
        },
        {
          "output_type": "stream",
          "name": "stderr",
          "text": [
            "\rProcessing:   6%|▌         | 538/9184 [01:04<17:48,  8.09it/s]"
          ]
        },
        {
          "output_type": "stream",
          "name": "stdout",
          "text": [
            "\n",
            "0: 384x640 5 cars, 2 trucks, 35.3ms\n",
            "Speed: 2.1ms preprocess, 35.3ms inference, 1.1ms postprocess per image at shape (1, 3, 384, 640)\n"
          ]
        },
        {
          "output_type": "stream",
          "name": "stderr",
          "text": [
            "\rProcessing:   6%|▌         | 539/9184 [01:04<16:56,  8.50it/s]"
          ]
        },
        {
          "output_type": "stream",
          "name": "stdout",
          "text": [
            "\n",
            "0: 384x640 1 person, 5 cars, 2 trucks, 77.4ms\n",
            "Speed: 2.1ms preprocess, 77.4ms inference, 1.0ms postprocess per image at shape (1, 3, 384, 640)\n"
          ]
        },
        {
          "output_type": "stream",
          "name": "stderr",
          "text": [
            "\rProcessing:   6%|▌         | 540/9184 [01:04<16:24,  8.78it/s]"
          ]
        },
        {
          "output_type": "stream",
          "name": "stdout",
          "text": [
            "\n",
            "0: 384x640 4 persons, 6 cars, 2 trucks, 79.6ms\n",
            "Speed: 2.3ms preprocess, 79.6ms inference, 0.9ms postprocess per image at shape (1, 3, 384, 640)\n"
          ]
        },
        {
          "output_type": "stream",
          "name": "stderr",
          "text": [
            "\rProcessing:   6%|▌         | 541/9184 [01:04<16:07,  8.94it/s]"
          ]
        },
        {
          "output_type": "stream",
          "name": "stdout",
          "text": [
            "\n",
            "0: 384x640 3 persons, 7 cars, 1 truck, 73.0ms\n",
            "Speed: 2.0ms preprocess, 73.0ms inference, 1.0ms postprocess per image at shape (1, 3, 384, 640)\n"
          ]
        },
        {
          "output_type": "stream",
          "name": "stderr",
          "text": [
            "\rProcessing:   6%|▌         | 542/9184 [01:04<15:52,  9.07it/s]"
          ]
        },
        {
          "output_type": "stream",
          "name": "stdout",
          "text": [
            "\n",
            "0: 384x640 1 person, 9 cars, 1 truck, 76.0ms\n",
            "Speed: 2.2ms preprocess, 76.0ms inference, 0.9ms postprocess per image at shape (1, 3, 384, 640)\n"
          ]
        },
        {
          "output_type": "stream",
          "name": "stderr",
          "text": [
            "\rProcessing:   6%|▌         | 543/9184 [01:04<15:39,  9.19it/s]"
          ]
        },
        {
          "output_type": "stream",
          "name": "stdout",
          "text": [
            "\n",
            "0: 384x640 2 persons, 7 cars, 1 bus, 2 trucks, 78.2ms\n",
            "Speed: 2.3ms preprocess, 78.2ms inference, 1.2ms postprocess per image at shape (1, 3, 384, 640)\n"
          ]
        },
        {
          "output_type": "stream",
          "name": "stderr",
          "text": [
            "\rProcessing:   6%|▌         | 544/9184 [01:04<15:44,  9.15it/s]"
          ]
        },
        {
          "output_type": "stream",
          "name": "stdout",
          "text": [
            "\n",
            "0: 384x640 1 person, 6 cars, 1 truck, 37.7ms\n",
            "Speed: 2.1ms preprocess, 37.7ms inference, 1.1ms postprocess per image at shape (1, 3, 384, 640)\n"
          ]
        },
        {
          "output_type": "stream",
          "name": "stderr",
          "text": [
            "\rProcessing:   6%|▌         | 545/9184 [01:04<17:55,  8.03it/s]"
          ]
        },
        {
          "output_type": "stream",
          "name": "stdout",
          "text": [
            "\n",
            "0: 384x640 2 persons, 7 cars, 1 truck, 38.3ms\n",
            "Speed: 2.1ms preprocess, 38.3ms inference, 1.0ms postprocess per image at shape (1, 3, 384, 640)\n"
          ]
        },
        {
          "output_type": "stream",
          "name": "stderr",
          "text": [
            "\rProcessing:   6%|▌         | 546/9184 [01:04<17:05,  8.42it/s]"
          ]
        },
        {
          "output_type": "stream",
          "name": "stdout",
          "text": [
            "\n",
            "0: 384x640 2 persons, 6 cars, 1 bus, 1 truck, 72.9ms\n",
            "Speed: 2.1ms preprocess, 72.9ms inference, 1.0ms postprocess per image at shape (1, 3, 384, 640)\n"
          ]
        },
        {
          "output_type": "stream",
          "name": "stderr",
          "text": [
            "\rProcessing:   6%|▌         | 547/9184 [01:05<16:31,  8.71it/s]"
          ]
        },
        {
          "output_type": "stream",
          "name": "stdout",
          "text": [
            "\n",
            "0: 384x640 3 persons, 8 cars, 1 truck, 78.9ms\n",
            "Speed: 2.2ms preprocess, 78.9ms inference, 1.2ms postprocess per image at shape (1, 3, 384, 640)\n"
          ]
        },
        {
          "output_type": "stream",
          "name": "stderr",
          "text": [
            "\rProcessing:   6%|▌         | 548/9184 [01:05<16:36,  8.66it/s]"
          ]
        },
        {
          "output_type": "stream",
          "name": "stdout",
          "text": [
            "\n",
            "0: 384x640 1 person, 8 cars, 74.7ms\n",
            "Speed: 2.2ms preprocess, 74.7ms inference, 1.0ms postprocess per image at shape (1, 3, 384, 640)\n"
          ]
        },
        {
          "output_type": "stream",
          "name": "stderr",
          "text": [
            "\rProcessing:   6%|▌         | 549/9184 [01:05<16:09,  8.91it/s]"
          ]
        },
        {
          "output_type": "stream",
          "name": "stdout",
          "text": [
            "\n",
            "0: 384x640 2 persons, 6 cars, 1 bus, 1 truck, 75.5ms\n",
            "Speed: 2.2ms preprocess, 75.5ms inference, 1.0ms postprocess per image at shape (1, 3, 384, 640)\n"
          ]
        },
        {
          "output_type": "stream",
          "name": "stderr",
          "text": [
            "\rProcessing:   6%|▌         | 550/9184 [01:05<15:59,  9.00it/s]"
          ]
        },
        {
          "output_type": "stream",
          "name": "stdout",
          "text": [
            "\n",
            "0: 384x640 1 person, 7 cars, 1 bus, 1 truck, 35.0ms\n",
            "Speed: 2.2ms preprocess, 35.0ms inference, 1.0ms postprocess per image at shape (1, 3, 384, 640)\n"
          ]
        },
        {
          "output_type": "stream",
          "name": "stderr",
          "text": [
            "\rProcessing:   6%|▌         | 551/9184 [01:05<16:25,  8.76it/s]"
          ]
        },
        {
          "output_type": "stream",
          "name": "stdout",
          "text": [
            "\n",
            "0: 384x640 2 persons, 7 cars, 1 truck, 37.4ms\n",
            "Speed: 2.1ms preprocess, 37.4ms inference, 1.0ms postprocess per image at shape (1, 3, 384, 640)\n"
          ]
        },
        {
          "output_type": "stream",
          "name": "stderr",
          "text": [
            "\rProcessing:   6%|▌         | 552/9184 [01:05<17:33,  8.19it/s]"
          ]
        },
        {
          "output_type": "stream",
          "name": "stdout",
          "text": [
            "\n",
            "0: 384x640 1 person, 7 cars, 1 bus, 1 truck, 73.3ms\n",
            "Speed: 2.3ms preprocess, 73.3ms inference, 1.0ms postprocess per image at shape (1, 3, 384, 640)\n"
          ]
        },
        {
          "output_type": "stream",
          "name": "stderr",
          "text": [
            "\rProcessing:   6%|▌         | 553/9184 [01:05<16:50,  8.54it/s]"
          ]
        },
        {
          "output_type": "stream",
          "name": "stdout",
          "text": [
            "\n",
            "0: 384x640 1 person, 8 cars, 1 truck, 77.6ms\n",
            "Speed: 2.1ms preprocess, 77.6ms inference, 1.0ms postprocess per image at shape (1, 3, 384, 640)\n"
          ]
        },
        {
          "output_type": "stream",
          "name": "stderr",
          "text": [
            "\rProcessing:   6%|▌         | 554/9184 [01:05<16:44,  8.59it/s]"
          ]
        },
        {
          "output_type": "stream",
          "name": "stdout",
          "text": [
            "\n",
            "0: 384x640 2 persons, 7 cars, 1 truck, 77.1ms\n",
            "Speed: 2.2ms preprocess, 77.1ms inference, 1.0ms postprocess per image at shape (1, 3, 384, 640)\n"
          ]
        },
        {
          "output_type": "stream",
          "name": "stderr",
          "text": [
            "\rProcessing:   6%|▌         | 555/9184 [01:05<16:26,  8.75it/s]"
          ]
        },
        {
          "output_type": "stream",
          "name": "stdout",
          "text": [
            "\n",
            "0: 384x640 1 person, 4 cars, 1 bus, 1 truck, 77.2ms\n",
            "Speed: 2.2ms preprocess, 77.2ms inference, 1.1ms postprocess per image at shape (1, 3, 384, 640)\n"
          ]
        },
        {
          "output_type": "stream",
          "name": "stderr",
          "text": [
            "\rProcessing:   6%|▌         | 556/9184 [01:06<16:15,  8.85it/s]"
          ]
        },
        {
          "output_type": "stream",
          "name": "stdout",
          "text": [
            "\n",
            "0: 384x640 1 person, 6 cars, 1 bus, 2 trucks, 35.5ms\n",
            "Speed: 2.2ms preprocess, 35.5ms inference, 1.0ms postprocess per image at shape (1, 3, 384, 640)\n"
          ]
        },
        {
          "output_type": "stream",
          "name": "stderr",
          "text": [
            "\rProcessing:   6%|▌         | 557/9184 [01:06<18:09,  7.92it/s]"
          ]
        },
        {
          "output_type": "stream",
          "name": "stdout",
          "text": [
            "\n",
            "0: 384x640 1 person, 6 cars, 1 truck, 38.1ms\n",
            "Speed: 2.2ms preprocess, 38.1ms inference, 1.0ms postprocess per image at shape (1, 3, 384, 640)\n"
          ]
        },
        {
          "output_type": "stream",
          "name": "stderr",
          "text": [
            "\rProcessing:   6%|▌         | 558/9184 [01:06<17:11,  8.36it/s]"
          ]
        },
        {
          "output_type": "stream",
          "name": "stdout",
          "text": [
            "\n",
            "0: 384x640 1 person, 6 cars, 1 bus, 1 truck, 75.1ms\n",
            "Speed: 2.2ms preprocess, 75.1ms inference, 1.1ms postprocess per image at shape (1, 3, 384, 640)\n"
          ]
        },
        {
          "output_type": "stream",
          "name": "stderr",
          "text": [
            "\rProcessing:   6%|▌         | 559/9184 [01:06<16:43,  8.59it/s]"
          ]
        },
        {
          "output_type": "stream",
          "name": "stdout",
          "text": [
            "\n",
            "0: 384x640 1 person, 7 cars, 1 truck, 74.9ms\n",
            "Speed: 2.1ms preprocess, 74.9ms inference, 1.0ms postprocess per image at shape (1, 3, 384, 640)\n"
          ]
        },
        {
          "output_type": "stream",
          "name": "stderr",
          "text": [
            "\rProcessing:   6%|▌         | 560/9184 [01:06<16:24,  8.76it/s]"
          ]
        },
        {
          "output_type": "stream",
          "name": "stdout",
          "text": [
            "\n",
            "0: 384x640 1 person, 6 cars, 1 bus, 1 truck, 73.0ms\n",
            "Speed: 2.1ms preprocess, 73.0ms inference, 1.0ms postprocess per image at shape (1, 3, 384, 640)\n"
          ]
        },
        {
          "output_type": "stream",
          "name": "stderr",
          "text": [
            "\rProcessing:   6%|▌         | 561/9184 [01:06<15:57,  9.00it/s]"
          ]
        },
        {
          "output_type": "stream",
          "name": "stdout",
          "text": [
            "\n",
            "0: 384x640 1 person, 6 cars, 1 truck, 77.4ms\n",
            "Speed: 2.0ms preprocess, 77.4ms inference, 1.1ms postprocess per image at shape (1, 3, 384, 640)\n"
          ]
        },
        {
          "output_type": "stream",
          "name": "stderr",
          "text": [
            "\rProcessing:   6%|▌         | 562/9184 [01:06<15:58,  9.00it/s]"
          ]
        },
        {
          "output_type": "stream",
          "name": "stdout",
          "text": [
            "\n",
            "0: 384x640 1 person, 6 cars, 1 truck, 36.4ms\n",
            "Speed: 2.3ms preprocess, 36.4ms inference, 1.0ms postprocess per image at shape (1, 3, 384, 640)\n"
          ]
        },
        {
          "output_type": "stream",
          "name": "stderr",
          "text": [
            "\rProcessing:   6%|▌         | 563/9184 [01:06<15:58,  9.00it/s]"
          ]
        },
        {
          "output_type": "stream",
          "name": "stdout",
          "text": [
            "\n",
            "0: 384x640 1 person, 6 cars, 1 truck, 35.6ms\n",
            "Speed: 2.3ms preprocess, 35.6ms inference, 1.0ms postprocess per image at shape (1, 3, 384, 640)\n"
          ]
        },
        {
          "output_type": "stream",
          "name": "stderr",
          "text": [
            "\rProcessing:   6%|▌         | 564/9184 [01:07<17:44,  8.10it/s]"
          ]
        },
        {
          "output_type": "stream",
          "name": "stdout",
          "text": [
            "\n",
            "0: 384x640 2 persons, 6 cars, 1 truck, 73.8ms\n",
            "Speed: 2.1ms preprocess, 73.8ms inference, 1.2ms postprocess per image at shape (1, 3, 384, 640)\n"
          ]
        },
        {
          "output_type": "stream",
          "name": "stderr",
          "text": [
            "\rProcessing:   6%|▌         | 565/9184 [01:07<16:59,  8.45it/s]"
          ]
        },
        {
          "output_type": "stream",
          "name": "stdout",
          "text": [
            "\n",
            "0: 384x640 1 person, 6 cars, 1 truck, 73.1ms\n",
            "Speed: 2.1ms preprocess, 73.1ms inference, 1.2ms postprocess per image at shape (1, 3, 384, 640)\n"
          ]
        },
        {
          "output_type": "stream",
          "name": "stderr",
          "text": [
            "\rProcessing:   6%|▌         | 566/9184 [01:07<16:39,  8.62it/s]"
          ]
        },
        {
          "output_type": "stream",
          "name": "stdout",
          "text": [
            "\n",
            "0: 384x640 1 person, 7 cars, 1 truck, 73.0ms\n",
            "Speed: 2.1ms preprocess, 73.0ms inference, 1.0ms postprocess per image at shape (1, 3, 384, 640)\n"
          ]
        },
        {
          "output_type": "stream",
          "name": "stderr",
          "text": [
            "\rProcessing:   6%|▌         | 567/9184 [01:07<16:09,  8.89it/s]"
          ]
        },
        {
          "output_type": "stream",
          "name": "stdout",
          "text": [
            "\n",
            "0: 384x640 1 person, 5 cars, 1 bus, 1 truck, 78.8ms\n",
            "Speed: 2.2ms preprocess, 78.8ms inference, 1.0ms postprocess per image at shape (1, 3, 384, 640)\n"
          ]
        },
        {
          "output_type": "stream",
          "name": "stderr",
          "text": [
            "\rProcessing:   6%|▌         | 568/9184 [01:07<16:02,  8.95it/s]"
          ]
        },
        {
          "output_type": "stream",
          "name": "stdout",
          "text": [
            "\n",
            "0: 384x640 1 person, 5 cars, 1 bus, 1 truck, 75.6ms\n",
            "Speed: 2.1ms preprocess, 75.6ms inference, 1.0ms postprocess per image at shape (1, 3, 384, 640)\n"
          ]
        },
        {
          "output_type": "stream",
          "name": "stderr",
          "text": [
            "\rProcessing:   6%|▌         | 569/9184 [01:07<15:59,  8.98it/s]"
          ]
        },
        {
          "output_type": "stream",
          "name": "stdout",
          "text": [
            "\n",
            "0: 384x640 1 person, 6 cars, 1 bus, 1 truck, 37.9ms\n",
            "Speed: 2.3ms preprocess, 37.9ms inference, 1.1ms postprocess per image at shape (1, 3, 384, 640)\n"
          ]
        },
        {
          "output_type": "stream",
          "name": "stderr",
          "text": [
            "\rProcessing:   6%|▌         | 570/9184 [01:07<16:00,  8.97it/s]"
          ]
        },
        {
          "output_type": "stream",
          "name": "stdout",
          "text": [
            "\n",
            "0: 384x640 1 person, 6 cars, 1 bus, 1 truck, 76.5ms\n",
            "Speed: 2.1ms preprocess, 76.5ms inference, 1.0ms postprocess per image at shape (1, 3, 384, 640)\n"
          ]
        },
        {
          "output_type": "stream",
          "name": "stderr",
          "text": [
            "\rProcessing:   6%|▌         | 571/9184 [01:07<17:45,  8.08it/s]"
          ]
        },
        {
          "output_type": "stream",
          "name": "stdout",
          "text": [
            "\n",
            "0: 384x640 1 person, 5 cars, 1 bus, 1 truck, 74.4ms\n",
            "Speed: 2.0ms preprocess, 74.4ms inference, 1.0ms postprocess per image at shape (1, 3, 384, 640)\n"
          ]
        },
        {
          "output_type": "stream",
          "name": "stderr",
          "text": [
            "\rProcessing:   6%|▌         | 572/9184 [01:07<17:06,  8.39it/s]"
          ]
        },
        {
          "output_type": "stream",
          "name": "stdout",
          "text": [
            "\n",
            "0: 384x640 1 person, 6 cars, 1 bus, 1 truck, 73.5ms\n",
            "Speed: 2.2ms preprocess, 73.5ms inference, 1.2ms postprocess per image at shape (1, 3, 384, 640)\n"
          ]
        },
        {
          "output_type": "stream",
          "name": "stderr",
          "text": [
            "\rProcessing:   6%|▌         | 573/9184 [01:08<16:31,  8.68it/s]"
          ]
        },
        {
          "output_type": "stream",
          "name": "stdout",
          "text": [
            "\n",
            "0: 384x640 1 person, 7 cars, 1 bus, 1 truck, 77.0ms\n",
            "Speed: 2.1ms preprocess, 77.0ms inference, 1.3ms postprocess per image at shape (1, 3, 384, 640)\n"
          ]
        },
        {
          "output_type": "stream",
          "name": "stderr",
          "text": [
            "\rProcessing:   6%|▋         | 574/9184 [01:08<16:18,  8.80it/s]"
          ]
        },
        {
          "output_type": "stream",
          "name": "stdout",
          "text": [
            "\n",
            "0: 384x640 1 person, 6 cars, 1 truck, 77.6ms\n",
            "Speed: 2.2ms preprocess, 77.6ms inference, 1.0ms postprocess per image at shape (1, 3, 384, 640)\n"
          ]
        },
        {
          "output_type": "stream",
          "name": "stderr",
          "text": [
            "\rProcessing:   6%|▋         | 575/9184 [01:08<16:11,  8.86it/s]"
          ]
        },
        {
          "output_type": "stream",
          "name": "stdout",
          "text": [
            "\n",
            "0: 384x640 2 persons, 6 cars, 1 bus, 1 truck, 37.5ms\n",
            "Speed: 2.2ms preprocess, 37.5ms inference, 1.1ms postprocess per image at shape (1, 3, 384, 640)\n"
          ]
        },
        {
          "output_type": "stream",
          "name": "stderr",
          "text": [
            "\rProcessing:   6%|▋         | 576/9184 [01:08<16:00,  8.97it/s]"
          ]
        },
        {
          "output_type": "stream",
          "name": "stdout",
          "text": [
            "\n",
            "0: 384x640 1 person, 7 cars, 2 buss, 1 truck, 37.9ms\n",
            "Speed: 2.2ms preprocess, 37.9ms inference, 1.0ms postprocess per image at shape (1, 3, 384, 640)\n"
          ]
        },
        {
          "output_type": "stream",
          "name": "stderr",
          "text": [
            "\rProcessing:   6%|▋         | 577/9184 [01:08<17:49,  8.05it/s]"
          ]
        },
        {
          "output_type": "stream",
          "name": "stdout",
          "text": [
            "\n",
            "0: 384x640 3 persons, 7 cars, 1 truck, 70.8ms\n",
            "Speed: 2.2ms preprocess, 70.8ms inference, 1.2ms postprocess per image at shape (1, 3, 384, 640)\n"
          ]
        },
        {
          "output_type": "stream",
          "name": "stderr",
          "text": [
            "\rProcessing:   6%|▋         | 578/9184 [01:08<17:08,  8.37it/s]"
          ]
        },
        {
          "output_type": "stream",
          "name": "stdout",
          "text": [
            "\n",
            "0: 384x640 4 persons, 6 cars, 1 bus, 1 truck, 77.7ms\n",
            "Speed: 2.2ms preprocess, 77.7ms inference, 1.1ms postprocess per image at shape (1, 3, 384, 640)\n"
          ]
        },
        {
          "output_type": "stream",
          "name": "stderr",
          "text": [
            "\rProcessing:   6%|▋         | 579/9184 [01:08<16:38,  8.62it/s]"
          ]
        },
        {
          "output_type": "stream",
          "name": "stdout",
          "text": [
            "\n",
            "0: 384x640 4 persons, 6 cars, 1 bus, 1 truck, 80.4ms\n",
            "Speed: 2.1ms preprocess, 80.4ms inference, 1.3ms postprocess per image at shape (1, 3, 384, 640)\n"
          ]
        },
        {
          "output_type": "stream",
          "name": "stderr",
          "text": [
            "\rProcessing:   6%|▋         | 580/9184 [01:08<16:31,  8.68it/s]"
          ]
        },
        {
          "output_type": "stream",
          "name": "stdout",
          "text": [
            "\n",
            "0: 384x640 3 persons, 6 cars, 1 truck, 79.9ms\n",
            "Speed: 2.1ms preprocess, 79.9ms inference, 1.1ms postprocess per image at shape (1, 3, 384, 640)\n"
          ]
        },
        {
          "output_type": "stream",
          "name": "stderr",
          "text": [
            "\rProcessing:   6%|▋         | 581/9184 [01:09<18:44,  7.65it/s]"
          ]
        },
        {
          "output_type": "stream",
          "name": "stdout",
          "text": [
            "\n",
            "0: 384x640 1 person, 6 cars, 1 bus, 1 truck, 39.3ms\n",
            "Speed: 2.2ms preprocess, 39.3ms inference, 1.1ms postprocess per image at shape (1, 3, 384, 640)\n"
          ]
        },
        {
          "output_type": "stream",
          "name": "stderr",
          "text": [
            "\rProcessing:   6%|▋         | 582/9184 [01:09<17:28,  8.20it/s]"
          ]
        },
        {
          "output_type": "stream",
          "name": "stdout",
          "text": [
            "\n",
            "0: 384x640 1 person, 5 cars, 1 bus, 1 truck, 75.0ms\n",
            "Speed: 2.1ms preprocess, 75.0ms inference, 1.0ms postprocess per image at shape (1, 3, 384, 640)\n"
          ]
        },
        {
          "output_type": "stream",
          "name": "stderr",
          "text": [
            "\rProcessing:   6%|▋         | 583/9184 [01:09<16:48,  8.53it/s]"
          ]
        },
        {
          "output_type": "stream",
          "name": "stdout",
          "text": [
            "\n",
            "0: 384x640 1 person, 6 cars, 1 bus, 2 trucks, 76.2ms\n",
            "Speed: 2.2ms preprocess, 76.2ms inference, 1.1ms postprocess per image at shape (1, 3, 384, 640)\n"
          ]
        },
        {
          "output_type": "stream",
          "name": "stderr",
          "text": [
            "\rProcessing:   6%|▋         | 584/9184 [01:09<16:29,  8.69it/s]"
          ]
        },
        {
          "output_type": "stream",
          "name": "stdout",
          "text": [
            "\n",
            "0: 384x640 1 person, 5 cars, 2 trucks, 77.7ms\n",
            "Speed: 2.2ms preprocess, 77.7ms inference, 1.0ms postprocess per image at shape (1, 3, 384, 640)\n"
          ]
        },
        {
          "output_type": "stream",
          "name": "stderr",
          "text": [
            "\rProcessing:   6%|▋         | 585/9184 [01:09<16:06,  8.90it/s]"
          ]
        },
        {
          "output_type": "stream",
          "name": "stdout",
          "text": [
            "\n",
            "0: 384x640 1 person, 5 cars, 1 bus, 1 truck, 76.1ms\n",
            "Speed: 2.2ms preprocess, 76.1ms inference, 1.0ms postprocess per image at shape (1, 3, 384, 640)\n"
          ]
        },
        {
          "output_type": "stream",
          "name": "stderr",
          "text": [
            "\rProcessing:   6%|▋         | 586/9184 [01:09<15:51,  9.04it/s]"
          ]
        },
        {
          "output_type": "stream",
          "name": "stdout",
          "text": [
            "\n",
            "0: 384x640 2 persons, 6 cars, 2 trucks, 76.5ms\n",
            "Speed: 2.3ms preprocess, 76.5ms inference, 1.0ms postprocess per image at shape (1, 3, 384, 640)\n"
          ]
        },
        {
          "output_type": "stream",
          "name": "stderr",
          "text": [
            "\rProcessing:   6%|▋         | 587/9184 [01:09<15:46,  9.08it/s]"
          ]
        },
        {
          "output_type": "stream",
          "name": "stdout",
          "text": [
            "\n",
            "0: 384x640 2 persons, 6 cars, 2 trucks, 75.0ms\n",
            "Speed: 2.1ms preprocess, 75.0ms inference, 1.0ms postprocess per image at shape (1, 3, 384, 640)\n"
          ]
        },
        {
          "output_type": "stream",
          "name": "stderr",
          "text": [
            "\rProcessing:   6%|▋         | 588/9184 [01:09<15:26,  9.27it/s]"
          ]
        },
        {
          "output_type": "stream",
          "name": "stdout",
          "text": [
            "\n",
            "0: 384x640 2 persons, 6 cars, 2 trucks, 38.2ms\n",
            "Speed: 2.2ms preprocess, 38.2ms inference, 1.1ms postprocess per image at shape (1, 3, 384, 640)\n"
          ]
        },
        {
          "output_type": "stream",
          "name": "stderr",
          "text": [
            "\rProcessing:   6%|▋         | 589/9184 [01:09<15:54,  9.00it/s]"
          ]
        },
        {
          "output_type": "stream",
          "name": "stdout",
          "text": [
            "\n",
            "0: 384x640 2 persons, 6 cars, 2 buss, 1 truck, 35.0ms\n",
            "Speed: 2.1ms preprocess, 35.0ms inference, 1.0ms postprocess per image at shape (1, 3, 384, 640)\n"
          ]
        },
        {
          "output_type": "stream",
          "name": "stderr",
          "text": [
            "\rProcessing:   6%|▋         | 590/9184 [01:10<17:22,  8.24it/s]"
          ]
        },
        {
          "output_type": "stream",
          "name": "stdout",
          "text": [
            "\n",
            "0: 384x640 1 person, 7 cars, 1 bus, 1 truck, 76.9ms\n",
            "Speed: 2.1ms preprocess, 76.9ms inference, 1.0ms postprocess per image at shape (1, 3, 384, 640)\n"
          ]
        },
        {
          "output_type": "stream",
          "name": "stderr",
          "text": [
            "\rProcessing:   6%|▋         | 591/9184 [01:10<16:40,  8.59it/s]"
          ]
        },
        {
          "output_type": "stream",
          "name": "stdout",
          "text": [
            "\n",
            "0: 384x640 1 person, 7 cars, 2 trucks, 78.8ms\n",
            "Speed: 2.1ms preprocess, 78.8ms inference, 1.0ms postprocess per image at shape (1, 3, 384, 640)\n"
          ]
        },
        {
          "output_type": "stream",
          "name": "stderr",
          "text": [
            "\rProcessing:   6%|▋         | 592/9184 [01:10<16:21,  8.75it/s]"
          ]
        },
        {
          "output_type": "stream",
          "name": "stdout",
          "text": [
            "\n",
            "0: 384x640 1 person, 7 cars, 2 trucks, 77.9ms\n",
            "Speed: 2.1ms preprocess, 77.9ms inference, 1.0ms postprocess per image at shape (1, 3, 384, 640)\n"
          ]
        },
        {
          "output_type": "stream",
          "name": "stderr",
          "text": [
            "\rProcessing:   6%|▋         | 593/9184 [01:10<16:10,  8.85it/s]"
          ]
        },
        {
          "output_type": "stream",
          "name": "stdout",
          "text": [
            "\n",
            "0: 384x640 8 cars, 2 trucks, 75.6ms\n",
            "Speed: 2.2ms preprocess, 75.6ms inference, 1.3ms postprocess per image at shape (1, 3, 384, 640)\n"
          ]
        },
        {
          "output_type": "stream",
          "name": "stderr",
          "text": [
            "\rProcessing:   6%|▋         | 594/9184 [01:10<15:47,  9.07it/s]"
          ]
        },
        {
          "output_type": "stream",
          "name": "stdout",
          "text": [
            "\n",
            "0: 384x640 1 person, 8 cars, 1 bus, 1 truck, 76.3ms\n",
            "Speed: 2.3ms preprocess, 76.3ms inference, 1.0ms postprocess per image at shape (1, 3, 384, 640)\n"
          ]
        },
        {
          "output_type": "stream",
          "name": "stderr",
          "text": [
            "\rProcessing:   6%|▋         | 595/9184 [01:10<15:39,  9.14it/s]"
          ]
        },
        {
          "output_type": "stream",
          "name": "stdout",
          "text": [
            "\n",
            "0: 384x640 8 cars, 1 bus, 1 truck, 37.8ms\n",
            "Speed: 2.3ms preprocess, 37.8ms inference, 1.2ms postprocess per image at shape (1, 3, 384, 640)\n"
          ]
        },
        {
          "output_type": "stream",
          "name": "stderr",
          "text": [
            "\rProcessing:   6%|▋         | 596/9184 [01:10<17:58,  7.96it/s]"
          ]
        },
        {
          "output_type": "stream",
          "name": "stdout",
          "text": [
            "\n",
            "0: 384x640 7 cars, 1 truck, 77.0ms\n",
            "Speed: 2.1ms preprocess, 77.0ms inference, 1.0ms postprocess per image at shape (1, 3, 384, 640)\n"
          ]
        },
        {
          "output_type": "stream",
          "name": "stderr",
          "text": [
            "\rProcessing:   7%|▋         | 597/9184 [01:10<17:05,  8.38it/s]"
          ]
        },
        {
          "output_type": "stream",
          "name": "stdout",
          "text": [
            "\n",
            "0: 384x640 7 cars, 1 truck, 81.2ms\n",
            "Speed: 2.1ms preprocess, 81.2ms inference, 1.1ms postprocess per image at shape (1, 3, 384, 640)\n"
          ]
        },
        {
          "output_type": "stream",
          "name": "stderr",
          "text": [
            "\rProcessing:   7%|▋         | 598/9184 [01:10<16:46,  8.53it/s]"
          ]
        },
        {
          "output_type": "stream",
          "name": "stdout",
          "text": [
            "\n",
            "0: 384x640 7 cars, 1 truck, 78.6ms\n",
            "Speed: 2.1ms preprocess, 78.6ms inference, 1.0ms postprocess per image at shape (1, 3, 384, 640)\n"
          ]
        },
        {
          "output_type": "stream",
          "name": "stderr",
          "text": [
            "\rProcessing:   7%|▋         | 599/9184 [01:11<16:29,  8.67it/s]"
          ]
        },
        {
          "output_type": "stream",
          "name": "stdout",
          "text": [
            "\n",
            "0: 384x640 7 cars, 1 truck, 77.2ms\n",
            "Speed: 2.4ms preprocess, 77.2ms inference, 1.2ms postprocess per image at shape (1, 3, 384, 640)\n"
          ]
        },
        {
          "output_type": "stream",
          "name": "stderr",
          "text": [
            "\rProcessing:   7%|▋         | 600/9184 [01:11<16:07,  8.87it/s]"
          ]
        },
        {
          "output_type": "stream",
          "name": "stdout",
          "text": [
            "\n",
            "0: 384x640 7 cars, 2 trucks, 40.9ms\n",
            "Speed: 2.4ms preprocess, 40.9ms inference, 1.1ms postprocess per image at shape (1, 3, 384, 640)\n"
          ]
        },
        {
          "output_type": "stream",
          "name": "stderr",
          "text": [
            "\rProcessing:   7%|▋         | 601/9184 [01:11<16:12,  8.83it/s]"
          ]
        },
        {
          "output_type": "stream",
          "name": "stdout",
          "text": [
            "\n",
            "0: 384x640 7 cars, 1 truck, 36.7ms\n",
            "Speed: 2.2ms preprocess, 36.7ms inference, 1.1ms postprocess per image at shape (1, 3, 384, 640)\n"
          ]
        },
        {
          "output_type": "stream",
          "name": "stderr",
          "text": [
            "\rProcessing:   7%|▋         | 602/9184 [01:11<17:54,  7.99it/s]"
          ]
        },
        {
          "output_type": "stream",
          "name": "stdout",
          "text": [
            "\n",
            "0: 384x640 7 cars, 1 truck, 80.6ms\n",
            "Speed: 2.4ms preprocess, 80.6ms inference, 1.1ms postprocess per image at shape (1, 3, 384, 640)\n"
          ]
        },
        {
          "output_type": "stream",
          "name": "stderr",
          "text": [
            "\rProcessing:   7%|▋         | 603/9184 [01:11<17:16,  8.28it/s]"
          ]
        },
        {
          "output_type": "stream",
          "name": "stdout",
          "text": [
            "\n",
            "0: 384x640 7 cars, 1 bus, 1 truck, 75.9ms\n",
            "Speed: 2.1ms preprocess, 75.9ms inference, 1.0ms postprocess per image at shape (1, 3, 384, 640)\n"
          ]
        },
        {
          "output_type": "stream",
          "name": "stderr",
          "text": [
            "\rProcessing:   7%|▋         | 604/9184 [01:11<16:42,  8.56it/s]"
          ]
        },
        {
          "output_type": "stream",
          "name": "stdout",
          "text": [
            "\n",
            "0: 384x640 8 cars, 1 bus, 75.1ms\n",
            "Speed: 2.1ms preprocess, 75.1ms inference, 1.0ms postprocess per image at shape (1, 3, 384, 640)\n"
          ]
        },
        {
          "output_type": "stream",
          "name": "stderr",
          "text": [
            "\rProcessing:   7%|▋         | 605/9184 [01:11<16:17,  8.78it/s]"
          ]
        },
        {
          "output_type": "stream",
          "name": "stdout",
          "text": [
            "\n",
            "0: 384x640 1 person, 9 cars, 1 truck, 75.7ms\n",
            "Speed: 2.2ms preprocess, 75.7ms inference, 1.0ms postprocess per image at shape (1, 3, 384, 640)\n"
          ]
        },
        {
          "output_type": "stream",
          "name": "stderr",
          "text": [
            "\rProcessing:   7%|▋         | 606/9184 [01:11<15:52,  9.00it/s]"
          ]
        },
        {
          "output_type": "stream",
          "name": "stdout",
          "text": [
            "\n",
            "0: 384x640 8 cars, 1 truck, 75.1ms\n",
            "Speed: 2.1ms preprocess, 75.1ms inference, 1.0ms postprocess per image at shape (1, 3, 384, 640)\n"
          ]
        },
        {
          "output_type": "stream",
          "name": "stderr",
          "text": [
            "\rProcessing:   7%|▋         | 607/9184 [01:11<15:38,  9.14it/s]"
          ]
        },
        {
          "output_type": "stream",
          "name": "stdout",
          "text": [
            "\n",
            "0: 384x640 9 cars, 1 truck, 37.1ms\n",
            "Speed: 2.1ms preprocess, 37.1ms inference, 1.1ms postprocess per image at shape (1, 3, 384, 640)\n"
          ]
        },
        {
          "output_type": "stream",
          "name": "stderr",
          "text": [
            "\rProcessing:   7%|▋         | 608/9184 [01:12<17:56,  7.97it/s]"
          ]
        },
        {
          "output_type": "stream",
          "name": "stdout",
          "text": [
            "\n",
            "0: 384x640 9 cars, 1 truck, 73.1ms\n",
            "Speed: 2.2ms preprocess, 73.1ms inference, 1.2ms postprocess per image at shape (1, 3, 384, 640)\n"
          ]
        },
        {
          "output_type": "stream",
          "name": "stderr",
          "text": [
            "\rProcessing:   7%|▋         | 609/9184 [01:12<17:02,  8.38it/s]"
          ]
        },
        {
          "output_type": "stream",
          "name": "stdout",
          "text": [
            "\n",
            "0: 384x640 9 cars, 1 truck, 76.1ms\n",
            "Speed: 2.1ms preprocess, 76.1ms inference, 1.0ms postprocess per image at shape (1, 3, 384, 640)\n"
          ]
        },
        {
          "output_type": "stream",
          "name": "stderr",
          "text": [
            "\rProcessing:   7%|▋         | 610/9184 [01:12<16:34,  8.62it/s]"
          ]
        },
        {
          "output_type": "stream",
          "name": "stdout",
          "text": [
            "\n",
            "0: 384x640 7 cars, 1 truck, 75.5ms\n",
            "Speed: 2.0ms preprocess, 75.5ms inference, 1.1ms postprocess per image at shape (1, 3, 384, 640)\n"
          ]
        },
        {
          "output_type": "stream",
          "name": "stderr",
          "text": [
            "\rProcessing:   7%|▋         | 611/9184 [01:12<16:15,  8.79it/s]"
          ]
        },
        {
          "output_type": "stream",
          "name": "stdout",
          "text": [
            "\n",
            "0: 384x640 1 person, 7 cars, 1 truck, 72.6ms\n",
            "Speed: 2.1ms preprocess, 72.6ms inference, 0.9ms postprocess per image at shape (1, 3, 384, 640)\n"
          ]
        },
        {
          "output_type": "stream",
          "name": "stderr",
          "text": [
            "\rProcessing:   7%|▋         | 612/9184 [01:12<15:47,  9.04it/s]"
          ]
        },
        {
          "output_type": "stream",
          "name": "stdout",
          "text": [
            "\n",
            "0: 384x640 1 person, 8 cars, 76.4ms\n",
            "Speed: 2.1ms preprocess, 76.4ms inference, 1.0ms postprocess per image at shape (1, 3, 384, 640)\n"
          ]
        },
        {
          "output_type": "stream",
          "name": "stderr",
          "text": [
            "\rProcessing:   7%|▋         | 613/9184 [01:12<15:42,  9.09it/s]"
          ]
        },
        {
          "output_type": "stream",
          "name": "stdout",
          "text": [
            "\n",
            "0: 384x640 1 person, 8 cars, 35.9ms\n",
            "Speed: 2.5ms preprocess, 35.9ms inference, 1.0ms postprocess per image at shape (1, 3, 384, 640)\n"
          ]
        },
        {
          "output_type": "stream",
          "name": "stderr",
          "text": [
            "\rProcessing:   7%|▋         | 614/9184 [01:12<17:53,  7.98it/s]"
          ]
        },
        {
          "output_type": "stream",
          "name": "stdout",
          "text": [
            "\n",
            "0: 384x640 2 persons, 8 cars, 37.4ms\n",
            "Speed: 2.2ms preprocess, 37.4ms inference, 1.0ms postprocess per image at shape (1, 3, 384, 640)\n"
          ]
        },
        {
          "output_type": "stream",
          "name": "stderr",
          "text": [
            "\rProcessing:   7%|▋         | 615/9184 [01:12<16:53,  8.46it/s]"
          ]
        },
        {
          "output_type": "stream",
          "name": "stdout",
          "text": [
            "\n",
            "0: 384x640 2 persons, 7 cars, 76.8ms\n",
            "Speed: 2.2ms preprocess, 76.8ms inference, 1.1ms postprocess per image at shape (1, 3, 384, 640)\n"
          ]
        },
        {
          "output_type": "stream",
          "name": "stderr",
          "text": [
            "\rProcessing:   7%|▋         | 616/9184 [01:13<16:27,  8.68it/s]"
          ]
        },
        {
          "output_type": "stream",
          "name": "stdout",
          "text": [
            "\n",
            "0: 384x640 2 persons, 7 cars, 81.7ms\n",
            "Speed: 2.1ms preprocess, 81.7ms inference, 1.1ms postprocess per image at shape (1, 3, 384, 640)\n"
          ]
        },
        {
          "output_type": "stream",
          "name": "stderr",
          "text": [
            "\rProcessing:   7%|▋         | 617/9184 [01:13<16:27,  8.68it/s]"
          ]
        },
        {
          "output_type": "stream",
          "name": "stdout",
          "text": [
            "\n",
            "0: 384x640 1 person, 6 cars, 77.7ms\n",
            "Speed: 2.2ms preprocess, 77.7ms inference, 1.0ms postprocess per image at shape (1, 3, 384, 640)\n"
          ]
        },
        {
          "output_type": "stream",
          "name": "stderr",
          "text": [
            "\rProcessing:   7%|▋         | 618/9184 [01:13<16:06,  8.86it/s]"
          ]
        },
        {
          "output_type": "stream",
          "name": "stdout",
          "text": [
            "\n",
            "0: 384x640 1 person, 6 cars, 76.5ms\n",
            "Speed: 2.2ms preprocess, 76.5ms inference, 1.0ms postprocess per image at shape (1, 3, 384, 640)\n"
          ]
        },
        {
          "output_type": "stream",
          "name": "stderr",
          "text": [
            "\rProcessing:   7%|▋         | 619/9184 [01:13<15:59,  8.93it/s]"
          ]
        },
        {
          "output_type": "stream",
          "name": "stdout",
          "text": [
            "\n",
            "0: 384x640 1 person, 6 cars, 84.4ms\n",
            "Speed: 2.5ms preprocess, 84.4ms inference, 1.2ms postprocess per image at shape (1, 3, 384, 640)\n"
          ]
        },
        {
          "output_type": "stream",
          "name": "stderr",
          "text": [
            "\rProcessing:   7%|▋         | 620/9184 [01:13<18:30,  7.71it/s]"
          ]
        },
        {
          "output_type": "stream",
          "name": "stdout",
          "text": [
            "\n",
            "0: 384x640 1 person, 7 cars, 76.8ms\n",
            "Speed: 2.4ms preprocess, 76.8ms inference, 1.1ms postprocess per image at shape (1, 3, 384, 640)\n"
          ]
        },
        {
          "output_type": "stream",
          "name": "stderr",
          "text": [
            "\rProcessing:   7%|▋         | 621/9184 [01:13<17:44,  8.05it/s]"
          ]
        },
        {
          "output_type": "stream",
          "name": "stdout",
          "text": [
            "\n",
            "0: 384x640 2 persons, 7 cars, 77.2ms\n",
            "Speed: 2.3ms preprocess, 77.2ms inference, 1.1ms postprocess per image at shape (1, 3, 384, 640)\n"
          ]
        },
        {
          "output_type": "stream",
          "name": "stderr",
          "text": [
            "\rProcessing:   7%|▋         | 622/9184 [01:13<17:17,  8.25it/s]"
          ]
        },
        {
          "output_type": "stream",
          "name": "stdout",
          "text": [
            "\n",
            "0: 384x640 1 person, 7 cars, 37.1ms\n",
            "Speed: 2.3ms preprocess, 37.1ms inference, 1.1ms postprocess per image at shape (1, 3, 384, 640)\n"
          ]
        },
        {
          "output_type": "stream",
          "name": "stderr",
          "text": [
            "\rProcessing:   7%|▋         | 623/9184 [01:13<17:27,  8.17it/s]"
          ]
        },
        {
          "output_type": "stream",
          "name": "stdout",
          "text": [
            "\n",
            "0: 384x640 1 person, 7 cars, 39.1ms\n",
            "Speed: 2.1ms preprocess, 39.1ms inference, 1.0ms postprocess per image at shape (1, 3, 384, 640)\n"
          ]
        },
        {
          "output_type": "stream",
          "name": "stderr",
          "text": [
            "\rProcessing:   7%|▋         | 624/9184 [01:14<18:03,  7.90it/s]"
          ]
        },
        {
          "output_type": "stream",
          "name": "stdout",
          "text": [
            "\n",
            "0: 384x640 2 persons, 8 cars, 1 bus, 85.3ms\n",
            "Speed: 2.1ms preprocess, 85.3ms inference, 1.2ms postprocess per image at shape (1, 3, 384, 640)\n"
          ]
        },
        {
          "output_type": "stream",
          "name": "stderr",
          "text": [
            "\rProcessing:   7%|▋         | 625/9184 [01:14<17:42,  8.05it/s]"
          ]
        },
        {
          "output_type": "stream",
          "name": "stdout",
          "text": [
            "\n",
            "0: 384x640 3 persons, 7 cars, 1 bus, 75.0ms\n",
            "Speed: 2.2ms preprocess, 75.0ms inference, 1.1ms postprocess per image at shape (1, 3, 384, 640)\n"
          ]
        },
        {
          "output_type": "stream",
          "name": "stderr",
          "text": [
            "\rProcessing:   7%|▋         | 626/9184 [01:14<17:09,  8.31it/s]"
          ]
        },
        {
          "output_type": "stream",
          "name": "stdout",
          "text": [
            "\n",
            "0: 384x640 2 persons, 7 cars, 77.9ms\n",
            "Speed: 2.1ms preprocess, 77.9ms inference, 1.2ms postprocess per image at shape (1, 3, 384, 640)\n"
          ]
        },
        {
          "output_type": "stream",
          "name": "stderr",
          "text": [
            "\rProcessing:   7%|▋         | 627/9184 [01:14<16:45,  8.51it/s]"
          ]
        },
        {
          "output_type": "stream",
          "name": "stdout",
          "text": [
            "\n",
            "0: 384x640 3 persons, 7 cars, 1 bus, 41.0ms\n",
            "Speed: 2.3ms preprocess, 41.0ms inference, 1.2ms postprocess per image at shape (1, 3, 384, 640)\n"
          ]
        },
        {
          "output_type": "stream",
          "name": "stderr",
          "text": [
            "\rProcessing:   7%|▋         | 628/9184 [01:14<18:37,  7.66it/s]"
          ]
        },
        {
          "output_type": "stream",
          "name": "stdout",
          "text": [
            "\n",
            "0: 384x640 3 persons, 8 cars, 77.2ms\n",
            "Speed: 2.3ms preprocess, 77.2ms inference, 1.2ms postprocess per image at shape (1, 3, 384, 640)\n"
          ]
        },
        {
          "output_type": "stream",
          "name": "stderr",
          "text": [
            "\rProcessing:   7%|▋         | 629/9184 [01:14<17:52,  7.97it/s]"
          ]
        },
        {
          "output_type": "stream",
          "name": "stdout",
          "text": [
            "\n",
            "0: 384x640 2 persons, 7 cars, 73.5ms\n",
            "Speed: 2.9ms preprocess, 73.5ms inference, 1.0ms postprocess per image at shape (1, 3, 384, 640)\n"
          ]
        },
        {
          "output_type": "stream",
          "name": "stderr",
          "text": [
            "\rProcessing:   7%|▋         | 630/9184 [01:14<17:05,  8.34it/s]"
          ]
        },
        {
          "output_type": "stream",
          "name": "stdout",
          "text": [
            "\n",
            "0: 384x640 2 persons, 7 cars, 69.3ms\n",
            "Speed: 2.1ms preprocess, 69.3ms inference, 0.9ms postprocess per image at shape (1, 3, 384, 640)\n"
          ]
        },
        {
          "output_type": "stream",
          "name": "stderr",
          "text": [
            "\rProcessing:   7%|▋         | 631/9184 [01:14<16:30,  8.64it/s]"
          ]
        },
        {
          "output_type": "stream",
          "name": "stdout",
          "text": [
            "\n",
            "0: 384x640 1 person, 7 cars, 72.4ms\n",
            "Speed: 2.0ms preprocess, 72.4ms inference, 1.1ms postprocess per image at shape (1, 3, 384, 640)\n"
          ]
        },
        {
          "output_type": "stream",
          "name": "stderr",
          "text": [
            "\rProcessing:   7%|▋         | 632/9184 [01:14<16:08,  8.83it/s]"
          ]
        },
        {
          "output_type": "stream",
          "name": "stdout",
          "text": [
            "\n",
            "0: 384x640 2 persons, 7 cars, 75.8ms\n",
            "Speed: 2.1ms preprocess, 75.8ms inference, 1.0ms postprocess per image at shape (1, 3, 384, 640)\n"
          ]
        },
        {
          "output_type": "stream",
          "name": "stderr",
          "text": [
            "\rProcessing:   7%|▋         | 633/9184 [01:15<15:52,  8.97it/s]"
          ]
        },
        {
          "output_type": "stream",
          "name": "stdout",
          "text": [
            "\n",
            "0: 384x640 2 persons, 7 cars, 36.6ms\n",
            "Speed: 2.0ms preprocess, 36.6ms inference, 1.0ms postprocess per image at shape (1, 3, 384, 640)\n"
          ]
        },
        {
          "output_type": "stream",
          "name": "stderr",
          "text": [
            "\rProcessing:   7%|▋         | 634/9184 [01:15<17:53,  7.97it/s]"
          ]
        },
        {
          "output_type": "stream",
          "name": "stdout",
          "text": [
            "\n",
            "0: 384x640 2 persons, 7 cars, 74.9ms\n",
            "Speed: 2.6ms preprocess, 74.9ms inference, 1.0ms postprocess per image at shape (1, 3, 384, 640)\n"
          ]
        },
        {
          "output_type": "stream",
          "name": "stderr",
          "text": [
            "\rProcessing:   7%|▋         | 635/9184 [01:15<17:11,  8.29it/s]"
          ]
        },
        {
          "output_type": "stream",
          "name": "stdout",
          "text": [
            "\n",
            "0: 384x640 2 persons, 7 cars, 1 bus, 72.5ms\n",
            "Speed: 2.4ms preprocess, 72.5ms inference, 1.0ms postprocess per image at shape (1, 3, 384, 640)\n"
          ]
        },
        {
          "output_type": "stream",
          "name": "stderr",
          "text": [
            "\rProcessing:   7%|▋         | 636/9184 [01:15<16:28,  8.65it/s]"
          ]
        },
        {
          "output_type": "stream",
          "name": "stdout",
          "text": [
            "\n",
            "0: 384x640 2 persons, 7 cars, 77.9ms\n",
            "Speed: 2.1ms preprocess, 77.9ms inference, 1.1ms postprocess per image at shape (1, 3, 384, 640)\n"
          ]
        },
        {
          "output_type": "stream",
          "name": "stderr",
          "text": [
            "\rProcessing:   7%|▋         | 637/9184 [01:15<16:12,  8.79it/s]"
          ]
        },
        {
          "output_type": "stream",
          "name": "stdout",
          "text": [
            "\n",
            "0: 384x640 1 person, 8 cars, 1 train, 1 truck, 72.2ms\n",
            "Speed: 2.1ms preprocess, 72.2ms inference, 1.0ms postprocess per image at shape (1, 3, 384, 640)\n"
          ]
        },
        {
          "output_type": "stream",
          "name": "stderr",
          "text": [
            "\rProcessing:   7%|▋         | 638/9184 [01:15<15:53,  8.96it/s]"
          ]
        },
        {
          "output_type": "stream",
          "name": "stdout",
          "text": [
            "\n",
            "0: 384x640 1 person, 8 cars, 74.3ms\n",
            "Speed: 2.0ms preprocess, 74.3ms inference, 0.9ms postprocess per image at shape (1, 3, 384, 640)\n"
          ]
        },
        {
          "output_type": "stream",
          "name": "stderr",
          "text": [
            "\rProcessing:   7%|▋         | 639/9184 [01:15<15:34,  9.14it/s]"
          ]
        },
        {
          "output_type": "stream",
          "name": "stdout",
          "text": [
            "\n",
            "0: 384x640 2 persons, 8 cars, 75.5ms\n",
            "Speed: 2.2ms preprocess, 75.5ms inference, 1.0ms postprocess per image at shape (1, 3, 384, 640)\n"
          ]
        },
        {
          "output_type": "stream",
          "name": "stderr",
          "text": [
            "\rProcessing:   7%|▋         | 640/9184 [01:15<15:25,  9.23it/s]"
          ]
        },
        {
          "output_type": "stream",
          "name": "stdout",
          "text": [
            "\n",
            "0: 384x640 1 person, 8 cars, 35.3ms\n",
            "Speed: 2.1ms preprocess, 35.3ms inference, 0.9ms postprocess per image at shape (1, 3, 384, 640)\n"
          ]
        },
        {
          "output_type": "stream",
          "name": "stderr",
          "text": [
            "\rProcessing:   7%|▋         | 641/9184 [01:15<15:52,  8.97it/s]"
          ]
        },
        {
          "output_type": "stream",
          "name": "stdout",
          "text": [
            "\n",
            "0: 384x640 1 person, 7 cars, 40.3ms\n",
            "Speed: 2.1ms preprocess, 40.3ms inference, 1.0ms postprocess per image at shape (1, 3, 384, 640)\n"
          ]
        },
        {
          "output_type": "stream",
          "name": "stderr",
          "text": [
            "\rProcessing:   7%|▋         | 642/9184 [01:16<17:12,  8.27it/s]"
          ]
        },
        {
          "output_type": "stream",
          "name": "stdout",
          "text": [
            "\n",
            "0: 384x640 1 person, 8 cars, 79.3ms\n",
            "Speed: 2.2ms preprocess, 79.3ms inference, 1.0ms postprocess per image at shape (1, 3, 384, 640)\n"
          ]
        },
        {
          "output_type": "stream",
          "name": "stderr",
          "text": [
            "\rProcessing:   7%|▋         | 643/9184 [01:16<16:50,  8.45it/s]"
          ]
        },
        {
          "output_type": "stream",
          "name": "stdout",
          "text": [
            "\n",
            "0: 384x640 1 person, 8 cars, 76.0ms\n",
            "Speed: 2.1ms preprocess, 76.0ms inference, 1.0ms postprocess per image at shape (1, 3, 384, 640)\n"
          ]
        },
        {
          "output_type": "stream",
          "name": "stderr",
          "text": [
            "\rProcessing:   7%|▋         | 644/9184 [01:16<16:24,  8.67it/s]"
          ]
        },
        {
          "output_type": "stream",
          "name": "stdout",
          "text": [
            "\n",
            "0: 384x640 1 person, 6 cars, 80.2ms\n",
            "Speed: 2.0ms preprocess, 80.2ms inference, 1.0ms postprocess per image at shape (1, 3, 384, 640)\n"
          ]
        },
        {
          "output_type": "stream",
          "name": "stderr",
          "text": [
            "\rProcessing:   7%|▋         | 645/9184 [01:16<16:07,  8.83it/s]"
          ]
        },
        {
          "output_type": "stream",
          "name": "stdout",
          "text": [
            "\n",
            "0: 384x640 2 persons, 8 cars, 75.8ms\n",
            "Speed: 2.1ms preprocess, 75.8ms inference, 1.0ms postprocess per image at shape (1, 3, 384, 640)\n"
          ]
        },
        {
          "output_type": "stream",
          "name": "stderr",
          "text": [
            "\rProcessing:   7%|▋         | 646/9184 [01:16<15:54,  8.94it/s]"
          ]
        },
        {
          "output_type": "stream",
          "name": "stdout",
          "text": [
            "\n",
            "0: 384x640 1 person, 8 cars, 35.9ms\n",
            "Speed: 2.1ms preprocess, 35.9ms inference, 1.0ms postprocess per image at shape (1, 3, 384, 640)\n"
          ]
        },
        {
          "output_type": "stream",
          "name": "stderr",
          "text": [
            "\rProcessing:   7%|▋         | 647/9184 [01:16<16:16,  8.74it/s]"
          ]
        },
        {
          "output_type": "stream",
          "name": "stdout",
          "text": [
            "\n",
            "0: 384x640 2 persons, 8 cars, 36.6ms\n",
            "Speed: 2.2ms preprocess, 36.6ms inference, 0.9ms postprocess per image at shape (1, 3, 384, 640)\n"
          ]
        },
        {
          "output_type": "stream",
          "name": "stderr",
          "text": [
            "\rProcessing:   7%|▋         | 648/9184 [01:16<17:19,  8.21it/s]"
          ]
        },
        {
          "output_type": "stream",
          "name": "stdout",
          "text": [
            "\n",
            "0: 384x640 1 person, 8 cars, 75.6ms\n",
            "Speed: 2.0ms preprocess, 75.6ms inference, 0.9ms postprocess per image at shape (1, 3, 384, 640)\n"
          ]
        },
        {
          "output_type": "stream",
          "name": "stderr",
          "text": [
            "\rProcessing:   7%|▋         | 649/9184 [01:16<16:40,  8.53it/s]"
          ]
        },
        {
          "output_type": "stream",
          "name": "stdout",
          "text": [
            "\n",
            "0: 384x640 2 persons, 8 cars, 1 bus, 73.6ms\n",
            "Speed: 2.0ms preprocess, 73.6ms inference, 1.0ms postprocess per image at shape (1, 3, 384, 640)\n"
          ]
        },
        {
          "output_type": "stream",
          "name": "stderr",
          "text": [
            "\rProcessing:   7%|▋         | 650/9184 [01:17<16:20,  8.70it/s]"
          ]
        },
        {
          "output_type": "stream",
          "name": "stdout",
          "text": [
            "\n",
            "0: 384x640 2 persons, 6 cars, 1 bus, 76.4ms\n",
            "Speed: 2.2ms preprocess, 76.4ms inference, 0.9ms postprocess per image at shape (1, 3, 384, 640)\n"
          ]
        },
        {
          "output_type": "stream",
          "name": "stderr",
          "text": [
            "\rProcessing:   7%|▋         | 651/9184 [01:17<15:57,  8.91it/s]"
          ]
        },
        {
          "output_type": "stream",
          "name": "stdout",
          "text": [
            "\n",
            "0: 384x640 1 person, 7 cars, 1 bus, 1 truck, 78.6ms\n",
            "Speed: 2.1ms preprocess, 78.6ms inference, 0.9ms postprocess per image at shape (1, 3, 384, 640)\n"
          ]
        },
        {
          "output_type": "stream",
          "name": "stderr",
          "text": [
            "\rProcessing:   7%|▋         | 652/9184 [01:17<15:53,  8.94it/s]"
          ]
        },
        {
          "output_type": "stream",
          "name": "stdout",
          "text": [
            "\n",
            "0: 384x640 1 person, 6 cars, 1 bus, 2 trucks, 76.8ms\n",
            "Speed: 2.2ms preprocess, 76.8ms inference, 1.0ms postprocess per image at shape (1, 3, 384, 640)\n"
          ]
        },
        {
          "output_type": "stream",
          "name": "stderr",
          "text": [
            "\rProcessing:   7%|▋         | 653/9184 [01:17<15:49,  8.99it/s]"
          ]
        },
        {
          "output_type": "stream",
          "name": "stdout",
          "text": [
            "\n",
            "0: 384x640 1 person, 9 cars, 1 truck, 36.3ms\n",
            "Speed: 2.1ms preprocess, 36.3ms inference, 0.9ms postprocess per image at shape (1, 3, 384, 640)\n"
          ]
        },
        {
          "output_type": "stream",
          "name": "stderr",
          "text": [
            "\rProcessing:   7%|▋         | 654/9184 [01:17<15:56,  8.92it/s]"
          ]
        },
        {
          "output_type": "stream",
          "name": "stdout",
          "text": [
            "\n",
            "0: 384x640 1 person, 7 cars, 36.6ms\n",
            "Speed: 2.0ms preprocess, 36.6ms inference, 1.0ms postprocess per image at shape (1, 3, 384, 640)\n"
          ]
        },
        {
          "output_type": "stream",
          "name": "stderr",
          "text": [
            "\rProcessing:   7%|▋         | 655/9184 [01:17<17:21,  8.19it/s]"
          ]
        },
        {
          "output_type": "stream",
          "name": "stdout",
          "text": [
            "\n",
            "0: 384x640 2 persons, 8 cars, 1 bus, 1 truck, 34.6ms\n",
            "Speed: 2.0ms preprocess, 34.6ms inference, 0.9ms postprocess per image at shape (1, 3, 384, 640)\n"
          ]
        },
        {
          "output_type": "stream",
          "name": "stderr",
          "text": [
            "\rProcessing:   7%|▋         | 656/9184 [01:17<16:31,  8.60it/s]"
          ]
        },
        {
          "output_type": "stream",
          "name": "stdout",
          "text": [
            "\n",
            "0: 384x640 1 person, 10 cars, 1 bus, 2 trucks, 74.3ms\n",
            "Speed: 2.1ms preprocess, 74.3ms inference, 1.1ms postprocess per image at shape (1, 3, 384, 640)\n"
          ]
        },
        {
          "output_type": "stream",
          "name": "stderr",
          "text": [
            "\rProcessing:   7%|▋         | 657/9184 [01:17<16:01,  8.87it/s]"
          ]
        },
        {
          "output_type": "stream",
          "name": "stdout",
          "text": [
            "\n",
            "0: 384x640 1 person, 8 cars, 2 buss, 2 trucks, 77.4ms\n",
            "Speed: 2.2ms preprocess, 77.4ms inference, 1.0ms postprocess per image at shape (1, 3, 384, 640)\n"
          ]
        },
        {
          "output_type": "stream",
          "name": "stderr",
          "text": [
            "\rProcessing:   7%|▋         | 658/9184 [01:17<15:53,  8.94it/s]"
          ]
        },
        {
          "output_type": "stream",
          "name": "stdout",
          "text": [
            "\n",
            "0: 384x640 1 person, 7 cars, 2 buss, 2 trucks, 74.7ms\n",
            "Speed: 2.1ms preprocess, 74.7ms inference, 1.0ms postprocess per image at shape (1, 3, 384, 640)\n"
          ]
        },
        {
          "output_type": "stream",
          "name": "stderr",
          "text": [
            "\rProcessing:   7%|▋         | 659/9184 [01:18<15:44,  9.02it/s]"
          ]
        },
        {
          "output_type": "stream",
          "name": "stdout",
          "text": [
            "\n",
            "0: 384x640 2 persons, 6 cars, 1 bus, 1 truck, 78.8ms\n",
            "Speed: 2.1ms preprocess, 78.8ms inference, 1.0ms postprocess per image at shape (1, 3, 384, 640)\n"
          ]
        },
        {
          "output_type": "stream",
          "name": "stderr",
          "text": [
            "\rProcessing:   7%|▋         | 660/9184 [01:18<15:40,  9.06it/s]"
          ]
        },
        {
          "output_type": "stream",
          "name": "stdout",
          "text": [
            "\n",
            "0: 384x640 3 persons, 5 cars, 3 trucks, 38.6ms\n",
            "Speed: 39.2ms preprocess, 38.6ms inference, 1.0ms postprocess per image at shape (1, 3, 384, 640)\n"
          ]
        },
        {
          "output_type": "stream",
          "name": "stderr",
          "text": [
            "\rProcessing:   7%|▋         | 661/9184 [01:18<15:34,  9.12it/s]"
          ]
        },
        {
          "output_type": "stream",
          "name": "stdout",
          "text": [
            "\n",
            "0: 384x640 1 person, 6 cars, 1 bus, 1 truck, 36.1ms\n",
            "Speed: 2.0ms preprocess, 36.1ms inference, 1.0ms postprocess per image at shape (1, 3, 384, 640)\n"
          ]
        },
        {
          "output_type": "stream",
          "name": "stderr",
          "text": [
            "\rProcessing:   7%|▋         | 662/9184 [01:18<17:31,  8.10it/s]"
          ]
        },
        {
          "output_type": "stream",
          "name": "stdout",
          "text": [
            "\n",
            "0: 384x640 3 persons, 6 cars, 2 buss, 1 truck, 37.1ms\n",
            "Speed: 2.0ms preprocess, 37.1ms inference, 41.1ms postprocess per image at shape (1, 3, 384, 640)\n"
          ]
        },
        {
          "output_type": "stream",
          "name": "stderr",
          "text": [
            "\rProcessing:   7%|▋         | 663/9184 [01:18<16:43,  8.49it/s]"
          ]
        },
        {
          "output_type": "stream",
          "name": "stdout",
          "text": [
            "\n",
            "0: 384x640 3 persons, 6 cars, 1 bus, 1 truck, 76.3ms\n",
            "Speed: 2.0ms preprocess, 76.3ms inference, 0.9ms postprocess per image at shape (1, 3, 384, 640)\n"
          ]
        },
        {
          "output_type": "stream",
          "name": "stderr",
          "text": [
            "\rProcessing:   7%|▋         | 664/9184 [01:18<16:13,  8.75it/s]"
          ]
        },
        {
          "output_type": "stream",
          "name": "stdout",
          "text": [
            "\n",
            "0: 384x640 1 person, 7 cars, 2 buss, 1 truck, 79.3ms\n",
            "Speed: 2.0ms preprocess, 79.3ms inference, 1.0ms postprocess per image at shape (1, 3, 384, 640)\n"
          ]
        },
        {
          "output_type": "stream",
          "name": "stderr",
          "text": [
            "\rProcessing:   7%|▋         | 665/9184 [01:18<16:00,  8.87it/s]"
          ]
        },
        {
          "output_type": "stream",
          "name": "stdout",
          "text": [
            "\n",
            "0: 384x640 1 person, 7 cars, 2 buss, 1 truck, 76.2ms\n",
            "Speed: 2.0ms preprocess, 76.2ms inference, 1.0ms postprocess per image at shape (1, 3, 384, 640)\n"
          ]
        },
        {
          "output_type": "stream",
          "name": "stderr",
          "text": [
            "\rProcessing:   7%|▋         | 666/9184 [01:18<15:40,  9.06it/s]"
          ]
        },
        {
          "output_type": "stream",
          "name": "stdout",
          "text": [
            "\n",
            "0: 384x640 1 person, 6 cars, 2 buss, 2 trucks, 74.3ms\n",
            "Speed: 2.1ms preprocess, 74.3ms inference, 0.9ms postprocess per image at shape (1, 3, 384, 640)\n"
          ]
        },
        {
          "output_type": "stream",
          "name": "stderr",
          "text": [
            "\rProcessing:   7%|▋         | 667/9184 [01:18<15:27,  9.18it/s]"
          ]
        },
        {
          "output_type": "stream",
          "name": "stdout",
          "text": [
            "\n",
            "0: 384x640 1 person, 7 cars, 1 bus, 1 truck, 76.5ms\n",
            "Speed: 2.0ms preprocess, 76.5ms inference, 0.9ms postprocess per image at shape (1, 3, 384, 640)\n"
          ]
        },
        {
          "output_type": "stream",
          "name": "stderr",
          "text": [
            "\rProcessing:   7%|▋         | 668/9184 [01:19<15:26,  9.19it/s]"
          ]
        },
        {
          "output_type": "stream",
          "name": "stdout",
          "text": [
            "\n",
            "0: 384x640 1 person, 7 cars, 1 truck, 74.8ms\n",
            "Speed: 2.0ms preprocess, 74.8ms inference, 1.0ms postprocess per image at shape (1, 3, 384, 640)\n"
          ]
        },
        {
          "output_type": "stream",
          "name": "stderr",
          "text": [
            "\rProcessing:   7%|▋         | 669/9184 [01:19<15:16,  9.29it/s]"
          ]
        },
        {
          "output_type": "stream",
          "name": "stdout",
          "text": [
            "\n",
            "0: 384x640 2 persons, 6 cars, 1 bus, 1 truck, 37.3ms\n",
            "Speed: 2.1ms preprocess, 37.3ms inference, 1.0ms postprocess per image at shape (1, 3, 384, 640)\n"
          ]
        },
        {
          "output_type": "stream",
          "name": "stderr",
          "text": [
            "\rProcessing:   7%|▋         | 670/9184 [01:19<17:25,  8.15it/s]"
          ]
        },
        {
          "output_type": "stream",
          "name": "stdout",
          "text": [
            "\n",
            "0: 384x640 1 person, 6 cars, 1 bus, 1 truck, 76.0ms\n",
            "Speed: 2.0ms preprocess, 76.0ms inference, 0.9ms postprocess per image at shape (1, 3, 384, 640)\n"
          ]
        },
        {
          "output_type": "stream",
          "name": "stderr",
          "text": [
            "\rProcessing:   7%|▋         | 671/9184 [01:19<16:45,  8.47it/s]"
          ]
        },
        {
          "output_type": "stream",
          "name": "stdout",
          "text": [
            "\n",
            "0: 384x640 2 persons, 6 cars, 2 buss, 1 truck, 72.3ms\n",
            "Speed: 2.0ms preprocess, 72.3ms inference, 0.9ms postprocess per image at shape (1, 3, 384, 640)\n"
          ]
        },
        {
          "output_type": "stream",
          "name": "stderr",
          "text": [
            "\rProcessing:   7%|▋         | 672/9184 [01:19<16:08,  8.79it/s]"
          ]
        },
        {
          "output_type": "stream",
          "name": "stdout",
          "text": [
            "\n",
            "0: 384x640 2 persons, 6 cars, 2 buss, 2 trucks, 73.5ms\n",
            "Speed: 2.2ms preprocess, 73.5ms inference, 1.0ms postprocess per image at shape (1, 3, 384, 640)\n"
          ]
        },
        {
          "output_type": "stream",
          "name": "stderr",
          "text": [
            "\rProcessing:   7%|▋         | 673/9184 [01:19<15:52,  8.94it/s]"
          ]
        },
        {
          "output_type": "stream",
          "name": "stdout",
          "text": [
            "\n",
            "0: 384x640 2 persons, 7 cars, 2 buss, 1 truck, 77.2ms\n",
            "Speed: 2.0ms preprocess, 77.2ms inference, 0.9ms postprocess per image at shape (1, 3, 384, 640)\n"
          ]
        },
        {
          "output_type": "stream",
          "name": "stderr",
          "text": [
            "\rProcessing:   7%|▋         | 674/9184 [01:19<15:52,  8.93it/s]"
          ]
        },
        {
          "output_type": "stream",
          "name": "stdout",
          "text": [
            "\n",
            "0: 384x640 2 persons, 7 cars, 2 buss, 1 truck, 76.0ms\n",
            "Speed: 2.2ms preprocess, 76.0ms inference, 0.9ms postprocess per image at shape (1, 3, 384, 640)\n"
          ]
        },
        {
          "output_type": "stream",
          "name": "stderr",
          "text": [
            "\rProcessing:   7%|▋         | 675/9184 [01:19<15:37,  9.08it/s]"
          ]
        },
        {
          "output_type": "stream",
          "name": "stdout",
          "text": [
            "\n",
            "0: 384x640 1 person, 6 cars, 2 buss, 1 truck, 37.3ms\n",
            "Speed: 2.1ms preprocess, 37.3ms inference, 1.0ms postprocess per image at shape (1, 3, 384, 640)\n"
          ]
        },
        {
          "output_type": "stream",
          "name": "stderr",
          "text": [
            "\rProcessing:   7%|▋         | 676/9184 [01:19<15:52,  8.93it/s]"
          ]
        },
        {
          "output_type": "stream",
          "name": "stdout",
          "text": [
            "\n",
            "0: 384x640 1 person, 7 cars, 1 bus, 1 truck, 37.0ms\n",
            "Speed: 2.2ms preprocess, 37.0ms inference, 2.3ms postprocess per image at shape (1, 3, 384, 640)\n"
          ]
        },
        {
          "output_type": "stream",
          "name": "stderr",
          "text": [
            "\rProcessing:   7%|▋         | 677/9184 [01:20<17:32,  8.09it/s]"
          ]
        },
        {
          "output_type": "stream",
          "name": "stdout",
          "text": [
            "\n",
            "0: 384x640 2 persons, 7 cars, 2 buss, 1 truck, 72.0ms\n",
            "Speed: 2.1ms preprocess, 72.0ms inference, 1.0ms postprocess per image at shape (1, 3, 384, 640)\n"
          ]
        },
        {
          "output_type": "stream",
          "name": "stderr",
          "text": [
            "\rProcessing:   7%|▋         | 678/9184 [01:20<16:40,  8.50it/s]"
          ]
        },
        {
          "output_type": "stream",
          "name": "stdout",
          "text": [
            "\n",
            "0: 384x640 3 persons, 6 cars, 2 buss, 1 truck, 75.1ms\n",
            "Speed: 2.1ms preprocess, 75.1ms inference, 1.0ms postprocess per image at shape (1, 3, 384, 640)\n"
          ]
        },
        {
          "output_type": "stream",
          "name": "stderr",
          "text": [
            "\rProcessing:   7%|▋         | 679/9184 [01:20<16:20,  8.67it/s]"
          ]
        },
        {
          "output_type": "stream",
          "name": "stdout",
          "text": [
            "\n",
            "0: 384x640 2 persons, 5 cars, 1 bus, 1 train, 76.3ms\n",
            "Speed: 2.0ms preprocess, 76.3ms inference, 0.9ms postprocess per image at shape (1, 3, 384, 640)\n"
          ]
        },
        {
          "output_type": "stream",
          "name": "stderr",
          "text": [
            "\rProcessing:   7%|▋         | 680/9184 [01:20<16:07,  8.79it/s]"
          ]
        },
        {
          "output_type": "stream",
          "name": "stdout",
          "text": [
            "\n",
            "0: 384x640 2 persons, 5 cars, 2 buss, 1 truck, 75.3ms\n",
            "Speed: 2.0ms preprocess, 75.3ms inference, 1.0ms postprocess per image at shape (1, 3, 384, 640)\n"
          ]
        },
        {
          "output_type": "stream",
          "name": "stderr",
          "text": [
            "\rProcessing:   7%|▋         | 681/9184 [01:20<15:47,  8.97it/s]"
          ]
        },
        {
          "output_type": "stream",
          "name": "stdout",
          "text": [
            "\n",
            "0: 384x640 1 person, 5 cars, 2 buss, 1 truck, 73.9ms\n",
            "Speed: 2.1ms preprocess, 73.9ms inference, 0.9ms postprocess per image at shape (1, 3, 384, 640)\n"
          ]
        },
        {
          "output_type": "stream",
          "name": "stderr",
          "text": [
            "\rProcessing:   7%|▋         | 682/9184 [01:20<15:35,  9.09it/s]"
          ]
        },
        {
          "output_type": "stream",
          "name": "stdout",
          "text": [
            "\n",
            "0: 384x640 2 persons, 5 cars, 2 buss, 1 truck, 35.7ms\n",
            "Speed: 2.1ms preprocess, 35.7ms inference, 0.9ms postprocess per image at shape (1, 3, 384, 640)\n"
          ]
        },
        {
          "output_type": "stream",
          "name": "stderr",
          "text": [
            "\rProcessing:   7%|▋         | 683/9184 [01:20<15:52,  8.92it/s]"
          ]
        },
        {
          "output_type": "stream",
          "name": "stdout",
          "text": [
            "\n",
            "0: 384x640 1 person, 5 cars, 1 bus, 1 train, 1 truck, 35.6ms\n",
            "Speed: 2.1ms preprocess, 35.6ms inference, 1.0ms postprocess per image at shape (1, 3, 384, 640)\n"
          ]
        },
        {
          "output_type": "stream",
          "name": "stderr",
          "text": [
            "\rProcessing:   7%|▋         | 684/9184 [01:20<15:30,  9.14it/s]"
          ]
        },
        {
          "output_type": "stream",
          "name": "stdout",
          "text": [
            "\n",
            "0: 384x640 1 person, 4 cars, 2 buss, 1 truck, 80.1ms\n",
            "Speed: 2.0ms preprocess, 80.1ms inference, 0.9ms postprocess per image at shape (1, 3, 384, 640)\n"
          ]
        },
        {
          "output_type": "stream",
          "name": "stderr",
          "text": [
            "\rProcessing:   7%|▋         | 685/9184 [01:21<17:01,  8.32it/s]"
          ]
        },
        {
          "output_type": "stream",
          "name": "stdout",
          "text": [
            "\n",
            "0: 384x640 2 persons, 5 cars, 1 bus, 76.5ms\n",
            "Speed: 2.0ms preprocess, 76.5ms inference, 0.9ms postprocess per image at shape (1, 3, 384, 640)\n"
          ]
        },
        {
          "output_type": "stream",
          "name": "stderr",
          "text": [
            "\rProcessing:   7%|▋         | 686/9184 [01:21<16:38,  8.51it/s]"
          ]
        },
        {
          "output_type": "stream",
          "name": "stdout",
          "text": [
            "\n",
            "0: 384x640 1 person, 5 cars, 2 buss, 78.3ms\n",
            "Speed: 2.0ms preprocess, 78.3ms inference, 1.0ms postprocess per image at shape (1, 3, 384, 640)\n"
          ]
        },
        {
          "output_type": "stream",
          "name": "stderr",
          "text": [
            "\rProcessing:   7%|▋         | 687/9184 [01:21<16:11,  8.75it/s]"
          ]
        },
        {
          "output_type": "stream",
          "name": "stdout",
          "text": [
            "\n",
            "0: 384x640 1 person, 5 cars, 1 bus, 1 truck, 75.5ms\n",
            "Speed: 2.0ms preprocess, 75.5ms inference, 1.0ms postprocess per image at shape (1, 3, 384, 640)\n"
          ]
        },
        {
          "output_type": "stream",
          "name": "stderr",
          "text": [
            "\rProcessing:   7%|▋         | 688/9184 [01:21<15:55,  8.89it/s]"
          ]
        },
        {
          "output_type": "stream",
          "name": "stdout",
          "text": [
            "\n",
            "0: 384x640 1 person, 5 cars, 2 buss, 77.4ms\n",
            "Speed: 2.1ms preprocess, 77.4ms inference, 0.9ms postprocess per image at shape (1, 3, 384, 640)\n"
          ]
        },
        {
          "output_type": "stream",
          "name": "stderr",
          "text": [
            "\rProcessing:   8%|▊         | 689/9184 [01:21<15:47,  8.97it/s]"
          ]
        },
        {
          "output_type": "stream",
          "name": "stdout",
          "text": [
            "\n",
            "0: 384x640 1 person, 5 cars, 1 bus, 1 truck, 36.8ms\n",
            "Speed: 2.1ms preprocess, 36.8ms inference, 1.0ms postprocess per image at shape (1, 3, 384, 640)\n"
          ]
        },
        {
          "output_type": "stream",
          "name": "stderr",
          "text": [
            "\rProcessing:   8%|▊         | 690/9184 [01:21<16:10,  8.75it/s]"
          ]
        },
        {
          "output_type": "stream",
          "name": "stdout",
          "text": [
            "\n",
            "0: 384x640 1 person, 6 cars, 1 bus, 1 truck, 37.5ms\n",
            "Speed: 2.1ms preprocess, 37.5ms inference, 1.0ms postprocess per image at shape (1, 3, 384, 640)\n"
          ]
        },
        {
          "output_type": "stream",
          "name": "stderr",
          "text": [
            "\rProcessing:   8%|▊         | 691/9184 [01:21<17:11,  8.24it/s]"
          ]
        },
        {
          "output_type": "stream",
          "name": "stdout",
          "text": [
            "\n",
            "0: 384x640 1 person, 6 cars, 1 bus, 34.5ms\n",
            "Speed: 2.0ms preprocess, 34.5ms inference, 1.1ms postprocess per image at shape (1, 3, 384, 640)\n"
          ]
        },
        {
          "output_type": "stream",
          "name": "stderr",
          "text": [
            "\rProcessing:   8%|▊         | 692/9184 [01:21<16:29,  8.59it/s]"
          ]
        },
        {
          "output_type": "stream",
          "name": "stdout",
          "text": [
            "\n",
            "0: 384x640 1 person, 6 cars, 1 bus, 73.7ms\n",
            "Speed: 2.0ms preprocess, 73.7ms inference, 1.0ms postprocess per image at shape (1, 3, 384, 640)\n"
          ]
        },
        {
          "output_type": "stream",
          "name": "stderr",
          "text": [
            "\rProcessing:   8%|▊         | 693/9184 [01:21<15:56,  8.88it/s]"
          ]
        },
        {
          "output_type": "stream",
          "name": "stdout",
          "text": [
            "\n",
            "0: 384x640 1 person, 6 cars, 1 bus, 77.3ms\n",
            "Speed: 2.1ms preprocess, 77.3ms inference, 0.9ms postprocess per image at shape (1, 3, 384, 640)\n"
          ]
        },
        {
          "output_type": "stream",
          "name": "stderr",
          "text": [
            "\rProcessing:   8%|▊         | 694/9184 [01:22<15:45,  8.98it/s]"
          ]
        },
        {
          "output_type": "stream",
          "name": "stdout",
          "text": [
            "\n",
            "0: 384x640 1 person, 7 cars, 1 bus, 1 truck, 78.0ms\n",
            "Speed: 2.1ms preprocess, 78.0ms inference, 1.0ms postprocess per image at shape (1, 3, 384, 640)\n"
          ]
        },
        {
          "output_type": "stream",
          "name": "stderr",
          "text": [
            "\rProcessing:   8%|▊         | 695/9184 [01:22<15:35,  9.07it/s]"
          ]
        },
        {
          "output_type": "stream",
          "name": "stdout",
          "text": [
            "\n",
            "0: 384x640 1 person, 7 cars, 78.2ms\n",
            "Speed: 2.0ms preprocess, 78.2ms inference, 1.0ms postprocess per image at shape (1, 3, 384, 640)\n"
          ]
        },
        {
          "output_type": "stream",
          "name": "stderr",
          "text": [
            "\rProcessing:   8%|▊         | 696/9184 [01:22<15:24,  9.18it/s]"
          ]
        },
        {
          "output_type": "stream",
          "name": "stdout",
          "text": [
            "\n",
            "0: 384x640 2 persons, 7 cars, 1 bus, 79.3ms\n",
            "Speed: 2.0ms preprocess, 79.3ms inference, 0.9ms postprocess per image at shape (1, 3, 384, 640)\n"
          ]
        },
        {
          "output_type": "stream",
          "name": "stderr",
          "text": [
            "\rProcessing:   8%|▊         | 697/9184 [01:22<15:26,  9.16it/s]"
          ]
        },
        {
          "output_type": "stream",
          "name": "stdout",
          "text": [
            "\n",
            "0: 384x640 2 persons, 5 cars, 2 buss, 1 train, 35.3ms\n",
            "Speed: 2.1ms preprocess, 35.3ms inference, 1.0ms postprocess per image at shape (1, 3, 384, 640)\n"
          ]
        },
        {
          "output_type": "stream",
          "name": "stderr",
          "text": [
            "\rProcessing:   8%|▊         | 698/9184 [01:22<15:51,  8.92it/s]"
          ]
        },
        {
          "output_type": "stream",
          "name": "stdout",
          "text": [
            "\n",
            "0: 384x640 1 person, 6 cars, 2 buss, 38.5ms\n",
            "Speed: 2.0ms preprocess, 38.5ms inference, 1.0ms postprocess per image at shape (1, 3, 384, 640)\n"
          ]
        },
        {
          "output_type": "stream",
          "name": "stderr",
          "text": [
            "\rProcessing:   8%|▊         | 699/9184 [01:22<17:05,  8.28it/s]"
          ]
        },
        {
          "output_type": "stream",
          "name": "stdout",
          "text": [
            "\n",
            "0: 384x640 2 persons, 6 cars, 1 bus, 77.8ms\n",
            "Speed: 2.0ms preprocess, 77.8ms inference, 0.9ms postprocess per image at shape (1, 3, 384, 640)\n"
          ]
        },
        {
          "output_type": "stream",
          "name": "stderr",
          "text": [
            "\rProcessing:   8%|▊         | 700/9184 [01:22<16:31,  8.56it/s]"
          ]
        },
        {
          "output_type": "stream",
          "name": "stdout",
          "text": [
            "\n",
            "0: 384x640 1 person, 5 cars, 1 bus, 75.1ms\n",
            "Speed: 2.1ms preprocess, 75.1ms inference, 1.0ms postprocess per image at shape (1, 3, 384, 640)\n"
          ]
        },
        {
          "output_type": "stream",
          "name": "stderr",
          "text": [
            "\rProcessing:   8%|▊         | 701/9184 [01:22<16:07,  8.77it/s]"
          ]
        },
        {
          "output_type": "stream",
          "name": "stdout",
          "text": [
            "\n",
            "0: 384x640 1 person, 7 cars, 1 bus, 77.2ms\n",
            "Speed: 2.1ms preprocess, 77.2ms inference, 1.0ms postprocess per image at shape (1, 3, 384, 640)\n"
          ]
        },
        {
          "output_type": "stream",
          "name": "stderr",
          "text": [
            "\rProcessing:   8%|▊         | 702/9184 [01:22<15:49,  8.94it/s]"
          ]
        },
        {
          "output_type": "stream",
          "name": "stdout",
          "text": [
            "\n",
            "0: 384x640 1 person, 6 cars, 1 bus, 76.2ms\n",
            "Speed: 2.1ms preprocess, 76.2ms inference, 0.9ms postprocess per image at shape (1, 3, 384, 640)\n"
          ]
        },
        {
          "output_type": "stream",
          "name": "stderr",
          "text": [
            "\rProcessing:   8%|▊         | 703/9184 [01:23<15:35,  9.07it/s]"
          ]
        },
        {
          "output_type": "stream",
          "name": "stdout",
          "text": [
            "\n",
            "0: 384x640 1 person, 5 cars, 1 bus, 76.1ms\n",
            "Speed: 2.1ms preprocess, 76.1ms inference, 0.9ms postprocess per image at shape (1, 3, 384, 640)\n"
          ]
        },
        {
          "output_type": "stream",
          "name": "stderr",
          "text": [
            "\rProcessing:   8%|▊         | 704/9184 [01:23<15:32,  9.09it/s]"
          ]
        },
        {
          "output_type": "stream",
          "name": "stdout",
          "text": [
            "\n",
            "0: 384x640 1 person, 5 cars, 1 bus, 38.5ms\n",
            "Speed: 2.1ms preprocess, 38.5ms inference, 1.0ms postprocess per image at shape (1, 3, 384, 640)\n"
          ]
        },
        {
          "output_type": "stream",
          "name": "stderr",
          "text": [
            "\rProcessing:   8%|▊         | 705/9184 [01:23<15:29,  9.12it/s]"
          ]
        },
        {
          "output_type": "stream",
          "name": "stdout",
          "text": [
            "\n",
            "0: 384x640 1 person, 6 cars, 1 bus, 38.6ms\n",
            "Speed: 2.1ms preprocess, 38.6ms inference, 1.0ms postprocess per image at shape (1, 3, 384, 640)\n"
          ]
        },
        {
          "output_type": "stream",
          "name": "stderr",
          "text": [
            "\rProcessing:   8%|▊         | 706/9184 [01:23<17:22,  8.13it/s]"
          ]
        },
        {
          "output_type": "stream",
          "name": "stdout",
          "text": [
            "\n",
            "0: 384x640 1 person, 7 cars, 1 bus, 1 train, 75.9ms\n",
            "Speed: 2.1ms preprocess, 75.9ms inference, 1.0ms postprocess per image at shape (1, 3, 384, 640)\n"
          ]
        },
        {
          "output_type": "stream",
          "name": "stderr",
          "text": [
            "\rProcessing:   8%|▊         | 707/9184 [01:23<16:45,  8.43it/s]"
          ]
        },
        {
          "output_type": "stream",
          "name": "stdout",
          "text": [
            "\n",
            "0: 384x640 1 person, 6 cars, 1 bus, 76.6ms\n",
            "Speed: 2.2ms preprocess, 76.6ms inference, 1.0ms postprocess per image at shape (1, 3, 384, 640)\n"
          ]
        },
        {
          "output_type": "stream",
          "name": "stderr",
          "text": [
            "\rProcessing:   8%|▊         | 708/9184 [01:23<16:12,  8.72it/s]"
          ]
        },
        {
          "output_type": "stream",
          "name": "stdout",
          "text": [
            "\n",
            "0: 384x640 1 person, 6 cars, 1 bus, 1 train, 78.8ms\n",
            "Speed: 2.2ms preprocess, 78.8ms inference, 0.9ms postprocess per image at shape (1, 3, 384, 640)\n"
          ]
        },
        {
          "output_type": "stream",
          "name": "stderr",
          "text": [
            "\rProcessing:   8%|▊         | 709/9184 [01:23<15:56,  8.86it/s]"
          ]
        },
        {
          "output_type": "stream",
          "name": "stdout",
          "text": [
            "\n",
            "0: 384x640 1 person, 5 cars, 2 buss, 1 train, 71.9ms\n",
            "Speed: 2.0ms preprocess, 71.9ms inference, 0.9ms postprocess per image at shape (1, 3, 384, 640)\n"
          ]
        },
        {
          "output_type": "stream",
          "name": "stderr",
          "text": [
            "\rProcessing:   8%|▊         | 710/9184 [01:23<15:40,  9.01it/s]"
          ]
        },
        {
          "output_type": "stream",
          "name": "stdout",
          "text": [
            "\n",
            "0: 384x640 1 person, 5 cars, 1 bus, 76.9ms\n",
            "Speed: 2.0ms preprocess, 76.9ms inference, 0.9ms postprocess per image at shape (1, 3, 384, 640)\n"
          ]
        },
        {
          "output_type": "stream",
          "name": "stderr",
          "text": [
            "\rProcessing:   8%|▊         | 711/9184 [01:23<15:22,  9.18it/s]"
          ]
        },
        {
          "output_type": "stream",
          "name": "stdout",
          "text": [
            "\n",
            "0: 384x640 1 person, 6 cars, 2 buss, 77.2ms\n",
            "Speed: 2.2ms preprocess, 77.2ms inference, 1.0ms postprocess per image at shape (1, 3, 384, 640)\n"
          ]
        },
        {
          "output_type": "stream",
          "name": "stderr",
          "text": [
            "\rProcessing:   8%|▊         | 712/9184 [01:24<15:17,  9.24it/s]"
          ]
        },
        {
          "output_type": "stream",
          "name": "stdout",
          "text": [
            "\n",
            "0: 384x640 1 person, 6 cars, 2 buss, 35.2ms\n",
            "Speed: 2.0ms preprocess, 35.2ms inference, 1.0ms postprocess per image at shape (1, 3, 384, 640)\n"
          ]
        },
        {
          "output_type": "stream",
          "name": "stderr",
          "text": [
            "\rProcessing:   8%|▊         | 713/9184 [01:24<17:22,  8.13it/s]"
          ]
        },
        {
          "output_type": "stream",
          "name": "stdout",
          "text": [
            "\n",
            "0: 384x640 2 persons, 6 cars, 3 buss, 79.5ms\n",
            "Speed: 2.0ms preprocess, 79.5ms inference, 1.0ms postprocess per image at shape (1, 3, 384, 640)\n"
          ]
        },
        {
          "output_type": "stream",
          "name": "stderr",
          "text": [
            "\rProcessing:   8%|▊         | 714/9184 [01:24<16:39,  8.48it/s]"
          ]
        },
        {
          "output_type": "stream",
          "name": "stdout",
          "text": [
            "\n",
            "0: 384x640 2 persons, 5 cars, 2 buss, 1 truck, 78.2ms\n",
            "Speed: 2.0ms preprocess, 78.2ms inference, 1.0ms postprocess per image at shape (1, 3, 384, 640)\n"
          ]
        },
        {
          "output_type": "stream",
          "name": "stderr",
          "text": [
            "\rProcessing:   8%|▊         | 715/9184 [01:24<16:15,  8.69it/s]"
          ]
        },
        {
          "output_type": "stream",
          "name": "stdout",
          "text": [
            "\n",
            "0: 384x640 1 person, 6 cars, 2 buss, 1 truck, 79.2ms\n",
            "Speed: 2.0ms preprocess, 79.2ms inference, 0.9ms postprocess per image at shape (1, 3, 384, 640)\n"
          ]
        },
        {
          "output_type": "stream",
          "name": "stderr",
          "text": [
            "\rProcessing:   8%|▊         | 716/9184 [01:24<16:01,  8.81it/s]"
          ]
        },
        {
          "output_type": "stream",
          "name": "stdout",
          "text": [
            "\n",
            "0: 384x640 1 person, 5 cars, 1 bus, 1 truck, 78.1ms\n",
            "Speed: 2.0ms preprocess, 78.1ms inference, 0.9ms postprocess per image at shape (1, 3, 384, 640)\n"
          ]
        },
        {
          "output_type": "stream",
          "name": "stderr",
          "text": [
            "\rProcessing:   8%|▊         | 717/9184 [01:24<15:39,  9.01it/s]"
          ]
        },
        {
          "output_type": "stream",
          "name": "stdout",
          "text": [
            "\n",
            "0: 384x640 1 person, 5 cars, 1 bus, 1 truck, 76.1ms\n",
            "Speed: 2.1ms preprocess, 76.1ms inference, 0.9ms postprocess per image at shape (1, 3, 384, 640)\n"
          ]
        },
        {
          "output_type": "stream",
          "name": "stderr",
          "text": [
            "\rProcessing:   8%|▊         | 718/9184 [01:24<15:29,  9.11it/s]"
          ]
        },
        {
          "output_type": "stream",
          "name": "stdout",
          "text": [
            "\n",
            "0: 384x640 1 person, 6 cars, 3 buss, 1 truck, 34.9ms\n",
            "Speed: 42.3ms preprocess, 34.9ms inference, 1.0ms postprocess per image at shape (1, 3, 384, 640)\n"
          ]
        },
        {
          "output_type": "stream",
          "name": "stderr",
          "text": [
            "\rProcessing:   8%|▊         | 719/9184 [01:24<15:21,  9.18it/s]"
          ]
        },
        {
          "output_type": "stream",
          "name": "stdout",
          "text": [
            "\n",
            "0: 384x640 1 person, 6 cars, 2 buss, 1 truck, 37.3ms\n",
            "Speed: 2.2ms preprocess, 37.3ms inference, 1.0ms postprocess per image at shape (1, 3, 384, 640)\n"
          ]
        },
        {
          "output_type": "stream",
          "name": "stderr",
          "text": [
            "\rProcessing:   8%|▊         | 720/9184 [01:24<15:22,  9.17it/s]"
          ]
        },
        {
          "output_type": "stream",
          "name": "stdout",
          "text": [
            "\n",
            "0: 384x640 1 person, 5 cars, 2 buss, 3 trucks, 38.6ms\n",
            "Speed: 2.0ms preprocess, 38.6ms inference, 1.0ms postprocess per image at shape (1, 3, 384, 640)\n"
          ]
        },
        {
          "output_type": "stream",
          "name": "stderr",
          "text": [
            "\rProcessing:   8%|▊         | 721/9184 [01:25<17:03,  8.27it/s]"
          ]
        },
        {
          "output_type": "stream",
          "name": "stdout",
          "text": [
            "\n",
            "0: 384x640 1 person, 5 cars, 3 buss, 2 trucks, 73.5ms\n",
            "Speed: 2.0ms preprocess, 73.5ms inference, 1.1ms postprocess per image at shape (1, 3, 384, 640)\n"
          ]
        },
        {
          "output_type": "stream",
          "name": "stderr",
          "text": [
            "\rProcessing:   8%|▊         | 722/9184 [01:25<16:33,  8.52it/s]"
          ]
        },
        {
          "output_type": "stream",
          "name": "stdout",
          "text": [
            "\n",
            "0: 384x640 1 person, 5 cars, 3 buss, 2 trucks, 81.6ms\n",
            "Speed: 2.3ms preprocess, 81.6ms inference, 1.1ms postprocess per image at shape (1, 3, 384, 640)\n"
          ]
        },
        {
          "output_type": "stream",
          "name": "stderr",
          "text": [
            "\rProcessing:   8%|▊         | 723/9184 [01:25<16:15,  8.68it/s]"
          ]
        },
        {
          "output_type": "stream",
          "name": "stdout",
          "text": [
            "\n",
            "0: 384x640 1 person, 7 cars, 1 truck, 80.5ms\n",
            "Speed: 2.1ms preprocess, 80.5ms inference, 1.0ms postprocess per image at shape (1, 3, 384, 640)\n"
          ]
        },
        {
          "output_type": "stream",
          "name": "stderr",
          "text": [
            "\rProcessing:   8%|▊         | 724/9184 [01:25<16:05,  8.76it/s]"
          ]
        },
        {
          "output_type": "stream",
          "name": "stdout",
          "text": [
            "\n",
            "0: 384x640 1 person, 6 cars, 2 buss, 1 truck, 78.5ms\n",
            "Speed: 2.0ms preprocess, 78.5ms inference, 1.0ms postprocess per image at shape (1, 3, 384, 640)\n"
          ]
        },
        {
          "output_type": "stream",
          "name": "stderr",
          "text": [
            "\rProcessing:   8%|▊         | 725/9184 [01:25<15:46,  8.93it/s]"
          ]
        },
        {
          "output_type": "stream",
          "name": "stdout",
          "text": [
            "\n",
            "0: 384x640 1 person, 5 cars, 2 buss, 36.4ms\n",
            "Speed: 2.1ms preprocess, 36.4ms inference, 0.9ms postprocess per image at shape (1, 3, 384, 640)\n"
          ]
        },
        {
          "output_type": "stream",
          "name": "stderr",
          "text": [
            "\rProcessing:   8%|▊         | 726/9184 [01:25<15:47,  8.93it/s]"
          ]
        },
        {
          "output_type": "stream",
          "name": "stdout",
          "text": [
            "\n",
            "0: 384x640 2 persons, 6 cars, 1 bus, 36.5ms\n",
            "Speed: 2.0ms preprocess, 36.5ms inference, 1.0ms postprocess per image at shape (1, 3, 384, 640)\n"
          ]
        },
        {
          "output_type": "stream",
          "name": "stderr",
          "text": [
            "\rProcessing:   8%|▊         | 727/9184 [01:25<17:21,  8.12it/s]"
          ]
        },
        {
          "output_type": "stream",
          "name": "stdout",
          "text": [
            "\n",
            "0: 384x640 1 person, 6 cars, 2 buss, 1 truck, 36.4ms\n",
            "Speed: 2.0ms preprocess, 36.4ms inference, 1.1ms postprocess per image at shape (1, 3, 384, 640)\n"
          ]
        }
      ]
    },
    {
      "cell_type": "code",
      "source": [],
      "metadata": {
        "id": "GZGg0OmBSWfe"
      },
      "execution_count": null,
      "outputs": []
    }
  ]
}